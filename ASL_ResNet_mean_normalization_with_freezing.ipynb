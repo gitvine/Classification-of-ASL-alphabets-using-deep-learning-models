{
  "nbformat": 4,
  "nbformat_minor": 0,
  "metadata": {
    "colab": {
      "name": "Freeze_asl_mean_normV2.ipynb",
      "provenance": [],
      "collapsed_sections": []
    },
    "kernelspec": {
      "name": "python3",
      "display_name": "Python 3"
    },
    "language_info": {
      "name": "python"
    }
  },
  "cells": [
    {
      "cell_type": "markdown",
      "metadata": {
        "id": "7S4FCZuL0Tb2"
      },
      "source": [
        "\n",
        "# ASL classification using ResNet50 with mean normalization and layers freezing"
      ]
    },
    {
      "cell_type": "code",
      "metadata": {
        "colab": {
          "base_uri": "https://localhost:8080/"
        },
        "id": "Crgq2qpSLNEY",
        "outputId": "a8ae3365-817d-4144-f564-18c4cb702a5a"
      },
      "source": [
        "#mounting drive\n",
        "from google.colab import drive\n",
        "drive.mount('/content/drive')"
      ],
      "execution_count": null,
      "outputs": [
        {
          "output_type": "stream",
          "name": "stdout",
          "text": [
            "Mounted at /content/drive\n"
          ]
        }
      ]
    },
    {
      "cell_type": "code",
      "metadata": {
        "id": "esCf-pT6L5Ro"
      },
      "source": [
        "#importing libraries\n",
        "import numpy as np # linear algebra\n",
        "import pandas as pd # data processing, CSV file I/O (e.g. pd.read_csv)\n",
        "import os\n",
        "import shutil\n",
        "import glob\n",
        "import time\n",
        "import tensorflow as tf\n",
        "from pathlib import Path\n",
        "import sklearn\n",
        "from tensorflow import keras\n",
        "from tensorflow.keras.optimizers import Adam\n",
        "from tensorflow.keras.models import Model, load_model, Sequential\n",
        "from tensorflow.keras import backend as K\n",
        "from tensorflow.keras.metrics import categorical_crossentropy\n",
        "from tensorflow.keras.preprocessing.image import ImageDataGenerator\n",
        "import matplotlib.pyplot as plt"
      ],
      "execution_count": null,
      "outputs": []
    },
    {
      "cell_type": "markdown",
      "metadata": {
        "id": "8_N2aL3_3wTR"
      },
      "source": [
        "Preprocessing"
      ]
    },
    {
      "cell_type": "code",
      "metadata": {
        "id": "pMFnl-5nMB1f"
      },
      "source": [
        "#train_dir = '/content/drive/MyDrive/ASL_project/merged_dataset/train'\n",
        "train_dir = '/content/drive/MyDrive/ASL_project/training_shuffle_0_200'\n",
        "test_dir = '/content/drive/MyDrive/ASL_project/test_random'"
      ],
      "execution_count": null,
      "outputs": []
    },
    {
      "cell_type": "code",
      "metadata": {
        "id": "z-LeECTZMbJX"
      },
      "source": [
        "\n",
        "train_datagen = ImageDataGenerator(rescale=1.0/255.0, featurewise_center=True, featurewise_std_normalization=False,validation_split=0.2)\n",
        "test_datagen = ImageDataGenerator(rescale=1.0/255.0,featurewise_center=True, featurewise_std_normalization=False)"
      ],
      "execution_count": null,
      "outputs": []
    },
    {
      "cell_type": "code",
      "metadata": {
        "id": "WlSLojObMfor"
      },
      "source": [
        "target_size=(64,64)\n",
        "batch_size=64"
      ],
      "execution_count": null,
      "outputs": []
    },
    {
      "cell_type": "code",
      "metadata": {
        "colab": {
          "base_uri": "https://localhost:8080/"
        },
        "id": "FjpRXu1w43F6",
        "outputId": "2a50b5ff-6477-4159-b42a-eb10a231e33f"
      },
      "source": [
        "#To apply image augmentation we need a training set sample in an array\n",
        "import glob\n",
        "filelist = glob.glob(\"/content/drive/MyDrive/ASL_project/small_train_sample/**/*.png\",recursive = True)\n",
        "len(filelist)"
      ],
      "execution_count": null,
      "outputs": [
        {
          "output_type": "execute_result",
          "data": {
            "text/plain": [
              "192"
            ]
          },
          "metadata": {},
          "execution_count": 6
        }
      ]
    },
    {
      "cell_type": "code",
      "metadata": {
        "id": "dP0fgjIM5AA7"
      },
      "source": [
        "from PIL import Image\n",
        "x = np.array([np.array((Image.open(fname)).resize(size=(64, 64))) for fname in filelist])\n"
      ],
      "execution_count": null,
      "outputs": []
    },
    {
      "cell_type": "code",
      "metadata": {
        "id": "EF9FeAZb5EJV"
      },
      "source": [
        "train_datagen.fit(x)\n",
        "test_datagen.fit(x)"
      ],
      "execution_count": null,
      "outputs": []
    },
    {
      "cell_type": "code",
      "metadata": {
        "colab": {
          "base_uri": "https://localhost:8080/"
        },
        "id": "Tofk3Rp8M1RS",
        "outputId": "bd695892-c55f-4ddd-f974-eeb5a696a9c4"
      },
      "source": [
        "train_set = train_datagen.flow_from_directory(train_dir, subset='training', class_mode='categorical', batch_size=batch_size, shuffle=True, target_size=target_size)\n",
        "valid_set = train_datagen.flow_from_directory(train_dir, subset='validation', class_mode='categorical', batch_size=batch_size, shuffle=True, target_size=target_size)"
      ],
      "execution_count": null,
      "outputs": [
        {
          "output_type": "stream",
          "name": "stdout",
          "text": [
            "Found 3840 images belonging to 24 classes.\n",
            "Found 960 images belonging to 24 classes.\n"
          ]
        }
      ]
    },
    {
      "cell_type": "code",
      "metadata": {
        "colab": {
          "base_uri": "https://localhost:8080/"
        },
        "id": "mositF779P2k",
        "outputId": "f2a18cce-8625-4eeb-9ea1-10bca0e90588"
      },
      "source": [
        "#Creating a dictionary to map index to corresponding labels\n",
        "print(train_set.class_indices)\n",
        "ind_to_letter = dict((v,k) for k,v in train_set.class_indices.items())\n",
        "print(ind_to_letter)"
      ],
      "execution_count": null,
      "outputs": [
        {
          "output_type": "stream",
          "name": "stdout",
          "text": [
            "{'a': 0, 'b': 1, 'c': 2, 'd': 3, 'e': 4, 'f': 5, 'g': 6, 'h': 7, 'i': 8, 'k': 9, 'l': 10, 'm': 11, 'n': 12, 'o': 13, 'p': 14, 'q': 15, 'r': 16, 's': 17, 't': 18, 'u': 19, 'v': 20, 'w': 21, 'x': 22, 'y': 23}\n",
            "{0: 'a', 1: 'b', 2: 'c', 3: 'd', 4: 'e', 5: 'f', 6: 'g', 7: 'h', 8: 'i', 9: 'k', 10: 'l', 11: 'm', 12: 'n', 13: 'o', 14: 'p', 15: 'q', 16: 'r', 17: 's', 18: 't', 19: 'u', 20: 'v', 21: 'w', 22: 'x', 23: 'y'}\n"
          ]
        }
      ]
    },
    {
      "cell_type": "code",
      "metadata": {
        "colab": {
          "base_uri": "https://localhost:8080/",
          "height": 1000
        },
        "id": "c45dN0Z27fxi",
        "outputId": "0b53e9d8-aad2-4d69-d130-95c38b973325"
      },
      "source": [
        "#Priniting some preprocessed images\n",
        "count=0\n",
        "for img,label in train_set:\n",
        "    count+=1\n",
        "    plt.imshow(img[0])  \n",
        "    plt.show()\n",
        "    actual_index=np.where(label[0]==1)[0]\n",
        "    print(\"Actual letter:\",ind_to_letter[actual_index[0]])\n",
        "    if(count>4):\n",
        "      break"
      ],
      "execution_count": null,
      "outputs": [
        {
          "output_type": "stream",
          "name": "stderr",
          "text": [
            "Clipping input data to the valid range for imshow with RGB data ([0..1] for floats or [0..255] for integers).\n"
          ]
        },
        {
          "output_type": "display_data",
          "data": {
            "image/png": "[encoded data removed]",
            "text/plain": [
              "<Figure size 432x288 with 1 Axes>"
            ]
          },
          "metadata": {
            "needs_background": "light"
          }
        },
        {
          "output_type": "stream",
          "name": "stdout",
          "text": [
            "Actual letter: u\n"
          ]
        },
        {
          "output_type": "stream",
          "name": "stderr",
          "text": [
            "Clipping input data to the valid range for imshow with RGB data ([0..1] for floats or [0..255] for integers).\n"
          ]
        },
        {
          "output_type": "display_data",
          "data": {
            "image/png": "[encoded data removed]",
            "text/plain": [
              "<Figure size 432x288 with 1 Axes>"
            ]
          },
          "metadata": {
            "needs_background": "light"
          }
        },
        {
          "output_type": "stream",
          "name": "stdout",
          "text": [
            "Actual letter: p\n"
          ]
        },
        {
          "output_type": "stream",
          "name": "stderr",
          "text": [
            "Clipping input data to the valid range for imshow with RGB data ([0..1] for floats or [0..255] for integers).\n"
          ]
        },
        {
          "output_type": "display_data",
          "data": {
            "image/png": "[encoded data removed]",
            "text/plain": [
              "<Figure size 432x288 with 1 Axes>"
            ]
          },
          "metadata": {
            "needs_background": "light"
          }
        },
        {
          "output_type": "stream",
          "name": "stdout",
          "text": [
            "Actual letter: b\n"
          ]
        },
        {
          "output_type": "stream",
          "name": "stderr",
          "text": [
            "Clipping input data to the valid range for imshow with RGB data ([0..1] for floats or [0..255] for integers).\n"
          ]
        },
        {
          "output_type": "display_data",
          "data": {
            "image/png": "[encoded data removed]",
            "text/plain": [
              "<Figure size 432x288 with 1 Axes>"
            ]
          },
          "metadata": {
            "needs_background": "light"
          }
        },
        {
          "output_type": "stream",
          "name": "stdout",
          "text": [
            "Actual letter: e\n"
          ]
        },
        {
          "output_type": "stream",
          "name": "stderr",
          "text": [
            "Clipping input data to the valid range for imshow with RGB data ([0..1] for floats or [0..255] for integers).\n"
          ]
        },
        {
          "output_type": "display_data",
          "data": {
            "image/png": "[encoded data removed]",
            "text/plain": [
              "<Figure size 432x288 with 1 Axes>"
            ]
          },
          "metadata": {
            "needs_background": "light"
          }
        },
        {
          "output_type": "stream",
          "name": "stdout",
          "text": [
            "Actual letter: d\n"
          ]
        }
      ]
    },
    {
      "cell_type": "markdown",
      "metadata": {
        "id": "dE8h30qH33I0"
      },
      "source": [
        "Model Download"
      ]
    },
    {
      "cell_type": "code",
      "metadata": {
        "id": "gHI7qGxAM430"
      },
      "source": [
        "#changing the input shape\n",
        "base_model = tf.keras.applications.ResNet50V2(include_top=False, input_shape=(64,64,3))"
      ],
      "execution_count": null,
      "outputs": []
    },
    {
      "cell_type": "code",
      "metadata": {
        "id": "v5tjreie84vK"
      },
      "source": [
        "for layer in base_model.layers[:99]:\n",
        "  layer.trainable=False\n"
      ],
      "execution_count": null,
      "outputs": []
    },
    {
      "cell_type": "code",
      "metadata": {
        "colab": {
          "base_uri": "https://localhost:8080/"
        },
        "id": "9_f_BYe9S8ia",
        "outputId": "57477d00-2c78-4008-c407-54f0dad2bf7c"
      },
      "source": [
        "for i,layer in enumerate(base_model.layers):\n",
        "  print(i,layer.name,\"-\", layer.trainable)"
      ],
      "execution_count": null,
      "outputs": [
        {
          "output_type": "stream",
          "name": "stdout",
          "text": [
            "0 input_5 - False\n",
            "1 conv1_pad - False\n",
            "2 conv1_conv - False\n",
            "3 pool1_pad - False\n",
            "4 pool1_pool - False\n",
            "5 conv2_block1_preact_bn - False\n",
            "6 conv2_block1_preact_relu - False\n",
            "7 conv2_block1_1_conv - False\n",
            "8 conv2_block1_1_bn - False\n",
            "9 conv2_block1_1_relu - False\n",
            "10 conv2_block1_2_pad - False\n",
            "11 conv2_block1_2_conv - False\n",
            "12 conv2_block1_2_bn - False\n",
            "13 conv2_block1_2_relu - False\n",
            "14 conv2_block1_0_conv - False\n",
            "15 conv2_block1_3_conv - False\n",
            "16 conv2_block1_out - False\n",
            "17 conv2_block2_preact_bn - False\n",
            "18 conv2_block2_preact_relu - False\n",
            "19 conv2_block2_1_conv - False\n",
            "20 conv2_block2_1_bn - False\n",
            "21 conv2_block2_1_relu - False\n",
            "22 conv2_block2_2_pad - False\n",
            "23 conv2_block2_2_conv - False\n",
            "24 conv2_block2_2_bn - False\n",
            "25 conv2_block2_2_relu - False\n",
            "26 conv2_block2_3_conv - False\n",
            "27 conv2_block2_out - False\n",
            "28 conv2_block3_preact_bn - False\n",
            "29 conv2_block3_preact_relu - False\n",
            "30 conv2_block3_1_conv - False\n",
            "31 conv2_block3_1_bn - False\n",
            "32 conv2_block3_1_relu - False\n",
            "33 conv2_block3_2_pad - False\n",
            "34 conv2_block3_2_conv - False\n",
            "35 conv2_block3_2_bn - False\n",
            "36 conv2_block3_2_relu - False\n",
            "37 max_pooling2d_12 - False\n",
            "38 conv2_block3_3_conv - False\n",
            "39 conv2_block3_out - False\n",
            "40 conv3_block1_preact_bn - False\n",
            "41 conv3_block1_preact_relu - False\n",
            "42 conv3_block1_1_conv - False\n",
            "43 conv3_block1_1_bn - False\n",
            "44 conv3_block1_1_relu - False\n",
            "45 conv3_block1_2_pad - False\n",
            "46 conv3_block1_2_conv - False\n",
            "47 conv3_block1_2_bn - False\n",
            "48 conv3_block1_2_relu - False\n",
            "49 conv3_block1_0_conv - False\n",
            "50 conv3_block1_3_conv - False\n",
            "51 conv3_block1_out - False\n",
            "52 conv3_block2_preact_bn - False\n",
            "53 conv3_block2_preact_relu - False\n",
            "54 conv3_block2_1_conv - False\n",
            "55 conv3_block2_1_bn - False\n",
            "56 conv3_block2_1_relu - False\n",
            "57 conv3_block2_2_pad - False\n",
            "58 conv3_block2_2_conv - False\n",
            "59 conv3_block2_2_bn - False\n",
            "60 conv3_block2_2_relu - False\n",
            "61 conv3_block2_3_conv - False\n",
            "62 conv3_block2_out - False\n",
            "63 conv3_block3_preact_bn - False\n",
            "64 conv3_block3_preact_relu - False\n",
            "65 conv3_block3_1_conv - False\n",
            "66 conv3_block3_1_bn - False\n",
            "67 conv3_block3_1_relu - False\n",
            "68 conv3_block3_2_pad - False\n",
            "69 conv3_block3_2_conv - False\n",
            "70 conv3_block3_2_bn - False\n",
            "71 conv3_block3_2_relu - False\n",
            "72 conv3_block3_3_conv - False\n",
            "73 conv3_block3_out - False\n",
            "74 conv3_block4_preact_bn - False\n",
            "75 conv3_block4_preact_relu - False\n",
            "76 conv3_block4_1_conv - False\n",
            "77 conv3_block4_1_bn - False\n",
            "78 conv3_block4_1_relu - False\n",
            "79 conv3_block4_2_pad - False\n",
            "80 conv3_block4_2_conv - False\n",
            "81 conv3_block4_2_bn - False\n",
            "82 conv3_block4_2_relu - False\n",
            "83 max_pooling2d_13 - False\n",
            "84 conv3_block4_3_conv - False\n",
            "85 conv3_block4_out - False\n",
            "86 conv4_block1_preact_bn - False\n",
            "87 conv4_block1_preact_relu - False\n",
            "88 conv4_block1_1_conv - False\n",
            "89 conv4_block1_1_bn - False\n",
            "90 conv4_block1_1_relu - False\n",
            "91 conv4_block1_2_pad - False\n",
            "92 conv4_block1_2_conv - False\n",
            "93 conv4_block1_2_bn - False\n",
            "94 conv4_block1_2_relu - False\n",
            "95 conv4_block1_0_conv - False\n",
            "96 conv4_block1_3_conv - False\n",
            "97 conv4_block1_out - False\n",
            "98 conv4_block2_preact_bn - False\n",
            "99 conv4_block2_preact_relu - True\n",
            "100 conv4_block2_1_conv - True\n",
            "101 conv4_block2_1_bn - True\n",
            "102 conv4_block2_1_relu - True\n",
            "103 conv4_block2_2_pad - True\n",
            "104 conv4_block2_2_conv - True\n",
            "105 conv4_block2_2_bn - True\n",
            "106 conv4_block2_2_relu - True\n",
            "107 conv4_block2_3_conv - True\n",
            "108 conv4_block2_out - True\n",
            "109 conv4_block3_preact_bn - True\n",
            "110 conv4_block3_preact_relu - True\n",
            "111 conv4_block3_1_conv - True\n",
            "112 conv4_block3_1_bn - True\n",
            "113 conv4_block3_1_relu - True\n",
            "114 conv4_block3_2_pad - True\n",
            "115 conv4_block3_2_conv - True\n",
            "116 conv4_block3_2_bn - True\n",
            "117 conv4_block3_2_relu - True\n",
            "118 conv4_block3_3_conv - True\n",
            "119 conv4_block3_out - True\n",
            "120 conv4_block4_preact_bn - True\n",
            "121 conv4_block4_preact_relu - True\n",
            "122 conv4_block4_1_conv - True\n",
            "123 conv4_block4_1_bn - True\n",
            "124 conv4_block4_1_relu - True\n",
            "125 conv4_block4_2_pad - True\n",
            "126 conv4_block4_2_conv - True\n",
            "127 conv4_block4_2_bn - True\n",
            "128 conv4_block4_2_relu - True\n",
            "129 conv4_block4_3_conv - True\n",
            "130 conv4_block4_out - True\n",
            "131 conv4_block5_preact_bn - True\n",
            "132 conv4_block5_preact_relu - True\n",
            "133 conv4_block5_1_conv - True\n",
            "134 conv4_block5_1_bn - True\n",
            "135 conv4_block5_1_relu - True\n",
            "136 conv4_block5_2_pad - True\n",
            "137 conv4_block5_2_conv - True\n",
            "138 conv4_block5_2_bn - True\n",
            "139 conv4_block5_2_relu - True\n",
            "140 conv4_block5_3_conv - True\n",
            "141 conv4_block5_out - True\n",
            "142 conv4_block6_preact_bn - True\n",
            "143 conv4_block6_preact_relu - True\n",
            "144 conv4_block6_1_conv - True\n",
            "145 conv4_block6_1_bn - True\n",
            "146 conv4_block6_1_relu - True\n",
            "147 conv4_block6_2_pad - True\n",
            "148 conv4_block6_2_conv - True\n",
            "149 conv4_block6_2_bn - True\n",
            "150 conv4_block6_2_relu - True\n",
            "151 max_pooling2d_14 - True\n",
            "152 conv4_block6_3_conv - True\n",
            "153 conv4_block6_out - True\n",
            "154 conv5_block1_preact_bn - True\n",
            "155 conv5_block1_preact_relu - True\n",
            "156 conv5_block1_1_conv - True\n",
            "157 conv5_block1_1_bn - True\n",
            "158 conv5_block1_1_relu - True\n",
            "159 conv5_block1_2_pad - True\n",
            "160 conv5_block1_2_conv - True\n",
            "161 conv5_block1_2_bn - True\n",
            "162 conv5_block1_2_relu - True\n",
            "163 conv5_block1_0_conv - True\n",
            "164 conv5_block1_3_conv - True\n",
            "165 conv5_block1_out - True\n",
            "166 conv5_block2_preact_bn - True\n",
            "167 conv5_block2_preact_relu - True\n",
            "168 conv5_block2_1_conv - True\n",
            "169 conv5_block2_1_bn - True\n",
            "170 conv5_block2_1_relu - True\n",
            "171 conv5_block2_2_pad - True\n",
            "172 conv5_block2_2_conv - True\n",
            "173 conv5_block2_2_bn - True\n",
            "174 conv5_block2_2_relu - True\n",
            "175 conv5_block2_3_conv - True\n",
            "176 conv5_block2_out - True\n",
            "177 conv5_block3_preact_bn - True\n",
            "178 conv5_block3_preact_relu - True\n",
            "179 conv5_block3_1_conv - True\n",
            "180 conv5_block3_1_bn - True\n",
            "181 conv5_block3_1_relu - True\n",
            "182 conv5_block3_2_pad - True\n",
            "183 conv5_block3_2_conv - True\n",
            "184 conv5_block3_2_bn - True\n",
            "185 conv5_block3_2_relu - True\n",
            "186 conv5_block3_3_conv - True\n",
            "187 conv5_block3_out - True\n",
            "188 post_bn - True\n",
            "189 post_relu - True\n"
          ]
        }
      ]
    },
    {
      "cell_type": "code",
      "metadata": {
        "colab": {
          "base_uri": "https://localhost:8080/"
        },
        "id": "y2VKXk8x8Csy",
        "outputId": "1e4403bf-d576-42fb-f649-0e8cc8547b04"
      },
      "source": [
        "base_model.summary()"
      ],
      "execution_count": null,
      "outputs": [
        {
          "output_type": "stream",
          "name": "stdout",
          "text": [
            "Model: \"resnet50v2\"\n",
            "__________________________________________________________________________________________________\n",
            " Layer (type)                   Output Shape         Param #     Connected to                     \n",
            "==================================================================================================\n",
            " input_5 (InputLayer)           [(None, 64, 64, 3)]  0           []                               \n",
            "                                                                                                  \n",
            " conv1_pad (ZeroPadding2D)      (None, 70, 70, 3)    0           ['input_5[0][0]']                \n",
            "                                                                                                  \n",
            " conv1_conv (Conv2D)            (None, 32, 32, 64)   9472        ['conv1_pad[0][0]']              \n",
            "                                                                                                  \n",
            " pool1_pad (ZeroPadding2D)      (None, 34, 34, 64)   0           ['conv1_conv[0][0]']             \n",
            "                                                                                                  \n",
            " pool1_pool (MaxPooling2D)      (None, 16, 16, 64)   0           ['pool1_pad[0][0]']              \n",
            "                                                                                                  \n",
            " conv2_block1_preact_bn (BatchN  (None, 16, 16, 64)  256         ['pool1_pool[0][0]']             \n",
            " ormalization)                                                                                    \n",
            "                                                                                                  \n",
            " conv2_block1_preact_relu (Acti  (None, 16, 16, 64)  0           ['conv2_block1_preact_bn[0][0]'] \n",
            " vation)                                                                                          \n",
            "                                                                                                  \n",
            " conv2_block1_1_conv (Conv2D)   (None, 16, 16, 64)   4096        ['conv2_block1_preact_relu[0][0]'\n",
            "                                                                 ]                                \n",
            "                                                                                                  \n",
            " conv2_block1_1_bn (BatchNormal  (None, 16, 16, 64)  256         ['conv2_block1_1_conv[0][0]']    \n",
            " ization)                                                                                         \n",
            "                                                                                                  \n",
            " conv2_block1_1_relu (Activatio  (None, 16, 16, 64)  0           ['conv2_block1_1_bn[0][0]']      \n",
            " n)                                                                                               \n",
            "                                                                                                  \n",
            " conv2_block1_2_pad (ZeroPaddin  (None, 18, 18, 64)  0           ['conv2_block1_1_relu[0][0]']    \n",
            " g2D)                                                                                             \n",
            "                                                                                                  \n",
            " conv2_block1_2_conv (Conv2D)   (None, 16, 16, 64)   36864       ['conv2_block1_2_pad[0][0]']     \n",
            "                                                                                                  \n",
            " conv2_block1_2_bn (BatchNormal  (None, 16, 16, 64)  256         ['conv2_block1_2_conv[0][0]']    \n",
            " ization)                                                                                         \n",
            "                                                                                                  \n",
            " conv2_block1_2_relu (Activatio  (None, 16, 16, 64)  0           ['conv2_block1_2_bn[0][0]']      \n",
            " n)                                                                                               \n",
            "                                                                                                  \n",
            " conv2_block1_0_conv (Conv2D)   (None, 16, 16, 256)  16640       ['conv2_block1_preact_relu[0][0]'\n",
            "                                                                 ]                                \n",
            "                                                                                                  \n",
            " conv2_block1_3_conv (Conv2D)   (None, 16, 16, 256)  16640       ['conv2_block1_2_relu[0][0]']    \n",
            "                                                                                                  \n",
            " conv2_block1_out (Add)         (None, 16, 16, 256)  0           ['conv2_block1_0_conv[0][0]',    \n",
            "                                                                  'conv2_block1_3_conv[0][0]']    \n",
            "                                                                                                  \n",
            " conv2_block2_preact_bn (BatchN  (None, 16, 16, 256)  1024       ['conv2_block1_out[0][0]']       \n",
            " ormalization)                                                                                    \n",
            "                                                                                                  \n",
            " conv2_block2_preact_relu (Acti  (None, 16, 16, 256)  0          ['conv2_block2_preact_bn[0][0]'] \n",
            " vation)                                                                                          \n",
            "                                                                                                  \n",
            " conv2_block2_1_conv (Conv2D)   (None, 16, 16, 64)   16384       ['conv2_block2_preact_relu[0][0]'\n",
            "                                                                 ]                                \n",
            "                                                                                                  \n",
            " conv2_block2_1_bn (BatchNormal  (None, 16, 16, 64)  256         ['conv2_block2_1_conv[0][0]']    \n",
            " ization)                                                                                         \n",
            "                                                                                                  \n",
            " conv2_block2_1_relu (Activatio  (None, 16, 16, 64)  0           ['conv2_block2_1_bn[0][0]']      \n",
            " n)                                                                                               \n",
            "                                                                                                  \n",
            " conv2_block2_2_pad (ZeroPaddin  (None, 18, 18, 64)  0           ['conv2_block2_1_relu[0][0]']    \n",
            " g2D)                                                                                             \n",
            "                                                                                                  \n",
            " conv2_block2_2_conv (Conv2D)   (None, 16, 16, 64)   36864       ['conv2_block2_2_pad[0][0]']     \n",
            "                                                                                                  \n",
            " conv2_block2_2_bn (BatchNormal  (None, 16, 16, 64)  256         ['conv2_block2_2_conv[0][0]']    \n",
            " ization)                                                                                         \n",
            "                                                                                                  \n",
            " conv2_block2_2_relu (Activatio  (None, 16, 16, 64)  0           ['conv2_block2_2_bn[0][0]']      \n",
            " n)                                                                                               \n",
            "                                                                                                  \n",
            " conv2_block2_3_conv (Conv2D)   (None, 16, 16, 256)  16640       ['conv2_block2_2_relu[0][0]']    \n",
            "                                                                                                  \n",
            " conv2_block2_out (Add)         (None, 16, 16, 256)  0           ['conv2_block1_out[0][0]',       \n",
            "                                                                  'conv2_block2_3_conv[0][0]']    \n",
            "                                                                                                  \n",
            " conv2_block3_preact_bn (BatchN  (None, 16, 16, 256)  1024       ['conv2_block2_out[0][0]']       \n",
            " ormalization)                                                                                    \n",
            "                                                                                                  \n",
            " conv2_block3_preact_relu (Acti  (None, 16, 16, 256)  0          ['conv2_block3_preact_bn[0][0]'] \n",
            " vation)                                                                                          \n",
            "                                                                                                  \n",
            " conv2_block3_1_conv (Conv2D)   (None, 16, 16, 64)   16384       ['conv2_block3_preact_relu[0][0]'\n",
            "                                                                 ]                                \n",
            "                                                                                                  \n",
            " conv2_block3_1_bn (BatchNormal  (None, 16, 16, 64)  256         ['conv2_block3_1_conv[0][0]']    \n",
            " ization)                                                                                         \n",
            "                                                                                                  \n",
            " conv2_block3_1_relu (Activatio  (None, 16, 16, 64)  0           ['conv2_block3_1_bn[0][0]']      \n",
            " n)                                                                                               \n",
            "                                                                                                  \n",
            " conv2_block3_2_pad (ZeroPaddin  (None, 18, 18, 64)  0           ['conv2_block3_1_relu[0][0]']    \n",
            " g2D)                                                                                             \n",
            "                                                                                                  \n",
            " conv2_block3_2_conv (Conv2D)   (None, 8, 8, 64)     36864       ['conv2_block3_2_pad[0][0]']     \n",
            "                                                                                                  \n",
            " conv2_block3_2_bn (BatchNormal  (None, 8, 8, 64)    256         ['conv2_block3_2_conv[0][0]']    \n",
            " ization)                                                                                         \n",
            "                                                                                                  \n",
            " conv2_block3_2_relu (Activatio  (None, 8, 8, 64)    0           ['conv2_block3_2_bn[0][0]']      \n",
            " n)                                                                                               \n",
            "                                                                                                  \n",
            " max_pooling2d_12 (MaxPooling2D  (None, 8, 8, 256)   0           ['conv2_block2_out[0][0]']       \n",
            " )                                                                                                \n",
            "                                                                                                  \n",
            " conv2_block3_3_conv (Conv2D)   (None, 8, 8, 256)    16640       ['conv2_block3_2_relu[0][0]']    \n",
            "                                                                                                  \n",
            " conv2_block3_out (Add)         (None, 8, 8, 256)    0           ['max_pooling2d_12[0][0]',       \n",
            "                                                                  'conv2_block3_3_conv[0][0]']    \n",
            "                                                                                                  \n",
            " conv3_block1_preact_bn (BatchN  (None, 8, 8, 256)   1024        ['conv2_block3_out[0][0]']       \n",
            " ormalization)                                                                                    \n",
            "                                                                                                  \n",
            " conv3_block1_preact_relu (Acti  (None, 8, 8, 256)   0           ['conv3_block1_preact_bn[0][0]'] \n",
            " vation)                                                                                          \n",
            "                                                                                                  \n",
            " conv3_block1_1_conv (Conv2D)   (None, 8, 8, 128)    32768       ['conv3_block1_preact_relu[0][0]'\n",
            "                                                                 ]                                \n",
            "                                                                                                  \n",
            " conv3_block1_1_bn (BatchNormal  (None, 8, 8, 128)   512         ['conv3_block1_1_conv[0][0]']    \n",
            " ization)                                                                                         \n",
            "                                                                                                  \n",
            " conv3_block1_1_relu (Activatio  (None, 8, 8, 128)   0           ['conv3_block1_1_bn[0][0]']      \n",
            " n)                                                                                               \n",
            "                                                                                                  \n",
            " conv3_block1_2_pad (ZeroPaddin  (None, 10, 10, 128)  0          ['conv3_block1_1_relu[0][0]']    \n",
            " g2D)                                                                                             \n",
            "                                                                                                  \n",
            " conv3_block1_2_conv (Conv2D)   (None, 8, 8, 128)    147456      ['conv3_block1_2_pad[0][0]']     \n",
            "                                                                                                  \n",
            " conv3_block1_2_bn (BatchNormal  (None, 8, 8, 128)   512         ['conv3_block1_2_conv[0][0]']    \n",
            " ization)                                                                                         \n",
            "                                                                                                  \n",
            " conv3_block1_2_relu (Activatio  (None, 8, 8, 128)   0           ['conv3_block1_2_bn[0][0]']      \n",
            " n)                                                                                               \n",
            "                                                                                                  \n",
            " conv3_block1_0_conv (Conv2D)   (None, 8, 8, 512)    131584      ['conv3_block1_preact_relu[0][0]'\n",
            "                                                                 ]                                \n",
            "                                                                                                  \n",
            " conv3_block1_3_conv (Conv2D)   (None, 8, 8, 512)    66048       ['conv3_block1_2_relu[0][0]']    \n",
            "                                                                                                  \n",
            " conv3_block1_out (Add)         (None, 8, 8, 512)    0           ['conv3_block1_0_conv[0][0]',    \n",
            "                                                                  'conv3_block1_3_conv[0][0]']    \n",
            "                                                                                                  \n",
            " conv3_block2_preact_bn (BatchN  (None, 8, 8, 512)   2048        ['conv3_block1_out[0][0]']       \n",
            " ormalization)                                                                                    \n",
            "                                                                                                  \n",
            " conv3_block2_preact_relu (Acti  (None, 8, 8, 512)   0           ['conv3_block2_preact_bn[0][0]'] \n",
            " vation)                                                                                          \n",
            "                                                                                                  \n",
            " conv3_block2_1_conv (Conv2D)   (None, 8, 8, 128)    65536       ['conv3_block2_preact_relu[0][0]'\n",
            "                                                                 ]                                \n",
            "                                                                                                  \n",
            " conv3_block2_1_bn (BatchNormal  (None, 8, 8, 128)   512         ['conv3_block2_1_conv[0][0]']    \n",
            " ization)                                                                                         \n",
            "                                                                                                  \n",
            " conv3_block2_1_relu (Activatio  (None, 8, 8, 128)   0           ['conv3_block2_1_bn[0][0]']      \n",
            " n)                                                                                               \n",
            "                                                                                                  \n",
            " conv3_block2_2_pad (ZeroPaddin  (None, 10, 10, 128)  0          ['conv3_block2_1_relu[0][0]']    \n",
            " g2D)                                                                                             \n",
            "                                                                                                  \n",
            " conv3_block2_2_conv (Conv2D)   (None, 8, 8, 128)    147456      ['conv3_block2_2_pad[0][0]']     \n",
            "                                                                                                  \n",
            " conv3_block2_2_bn (BatchNormal  (None, 8, 8, 128)   512         ['conv3_block2_2_conv[0][0]']    \n",
            " ization)                                                                                         \n",
            "                                                                                                  \n",
            " conv3_block2_2_relu (Activatio  (None, 8, 8, 128)   0           ['conv3_block2_2_bn[0][0]']      \n",
            " n)                                                                                               \n",
            "                                                                                                  \n",
            " conv3_block2_3_conv (Conv2D)   (None, 8, 8, 512)    66048       ['conv3_block2_2_relu[0][0]']    \n",
            "                                                                                                  \n",
            " conv3_block2_out (Add)         (None, 8, 8, 512)    0           ['conv3_block1_out[0][0]',       \n",
            "                                                                  'conv3_block2_3_conv[0][0]']    \n",
            "                                                                                                  \n",
            " conv3_block3_preact_bn (BatchN  (None, 8, 8, 512)   2048        ['conv3_block2_out[0][0]']       \n",
            " ormalization)                                                                                    \n",
            "                                                                                                  \n",
            " conv3_block3_preact_relu (Acti  (None, 8, 8, 512)   0           ['conv3_block3_preact_bn[0][0]'] \n",
            " vation)                                                                                          \n",
            "                                                                                                  \n",
            " conv3_block3_1_conv (Conv2D)   (None, 8, 8, 128)    65536       ['conv3_block3_preact_relu[0][0]'\n",
            "                                                                 ]                                \n",
            "                                                                                                  \n",
            " conv3_block3_1_bn (BatchNormal  (None, 8, 8, 128)   512         ['conv3_block3_1_conv[0][0]']    \n",
            " ization)                                                                                         \n",
            "                                                                                                  \n",
            " conv3_block3_1_relu (Activatio  (None, 8, 8, 128)   0           ['conv3_block3_1_bn[0][0]']      \n",
            " n)                                                                                               \n",
            "                                                                                                  \n",
            " conv3_block3_2_pad (ZeroPaddin  (None, 10, 10, 128)  0          ['conv3_block3_1_relu[0][0]']    \n",
            " g2D)                                                                                             \n",
            "                                                                                                  \n",
            " conv3_block3_2_conv (Conv2D)   (None, 8, 8, 128)    147456      ['conv3_block3_2_pad[0][0]']     \n",
            "                                                                                                  \n",
            " conv3_block3_2_bn (BatchNormal  (None, 8, 8, 128)   512         ['conv3_block3_2_conv[0][0]']    \n",
            " ization)                                                                                         \n",
            "                                                                                                  \n",
            " conv3_block3_2_relu (Activatio  (None, 8, 8, 128)   0           ['conv3_block3_2_bn[0][0]']      \n",
            " n)                                                                                               \n",
            "                                                                                                  \n",
            " conv3_block3_3_conv (Conv2D)   (None, 8, 8, 512)    66048       ['conv3_block3_2_relu[0][0]']    \n",
            "                                                                                                  \n",
            " conv3_block3_out (Add)         (None, 8, 8, 512)    0           ['conv3_block2_out[0][0]',       \n",
            "                                                                  'conv3_block3_3_conv[0][0]']    \n",
            "                                                                                                  \n",
            " conv3_block4_preact_bn (BatchN  (None, 8, 8, 512)   2048        ['conv3_block3_out[0][0]']       \n",
            " ormalization)                                                                                    \n",
            "                                                                                                  \n",
            " conv3_block4_preact_relu (Acti  (None, 8, 8, 512)   0           ['conv3_block4_preact_bn[0][0]'] \n",
            " vation)                                                                                          \n",
            "                                                                                                  \n",
            " conv3_block4_1_conv (Conv2D)   (None, 8, 8, 128)    65536       ['conv3_block4_preact_relu[0][0]'\n",
            "                                                                 ]                                \n",
            "                                                                                                  \n",
            " conv3_block4_1_bn (BatchNormal  (None, 8, 8, 128)   512         ['conv3_block4_1_conv[0][0]']    \n",
            " ization)                                                                                         \n",
            "                                                                                                  \n",
            " conv3_block4_1_relu (Activatio  (None, 8, 8, 128)   0           ['conv3_block4_1_bn[0][0]']      \n",
            " n)                                                                                               \n",
            "                                                                                                  \n",
            " conv3_block4_2_pad (ZeroPaddin  (None, 10, 10, 128)  0          ['conv3_block4_1_relu[0][0]']    \n",
            " g2D)                                                                                             \n",
            "                                                                                                  \n",
            " conv3_block4_2_conv (Conv2D)   (None, 4, 4, 128)    147456      ['conv3_block4_2_pad[0][0]']     \n",
            "                                                                                                  \n",
            " conv3_block4_2_bn (BatchNormal  (None, 4, 4, 128)   512         ['conv3_block4_2_conv[0][0]']    \n",
            " ization)                                                                                         \n",
            "                                                                                                  \n",
            " conv3_block4_2_relu (Activatio  (None, 4, 4, 128)   0           ['conv3_block4_2_bn[0][0]']      \n",
            " n)                                                                                               \n",
            "                                                                                                  \n",
            " max_pooling2d_13 (MaxPooling2D  (None, 4, 4, 512)   0           ['conv3_block3_out[0][0]']       \n",
            " )                                                                                                \n",
            "                                                                                                  \n",
            " conv3_block4_3_conv (Conv2D)   (None, 4, 4, 512)    66048       ['conv3_block4_2_relu[0][0]']    \n",
            "                                                                                                  \n",
            " conv3_block4_out (Add)         (None, 4, 4, 512)    0           ['max_pooling2d_13[0][0]',       \n",
            "                                                                  'conv3_block4_3_conv[0][0]']    \n",
            "                                                                                                  \n",
            " conv4_block1_preact_bn (BatchN  (None, 4, 4, 512)   2048        ['conv3_block4_out[0][0]']       \n",
            " ormalization)                                                                                    \n",
            "                                                                                                  \n",
            " conv4_block1_preact_relu (Acti  (None, 4, 4, 512)   0           ['conv4_block1_preact_bn[0][0]'] \n",
            " vation)                                                                                          \n",
            "                                                                                                  \n",
            " conv4_block1_1_conv (Conv2D)   (None, 4, 4, 256)    131072      ['conv4_block1_preact_relu[0][0]'\n",
            "                                                                 ]                                \n",
            "                                                                                                  \n",
            " conv4_block1_1_bn (BatchNormal  (None, 4, 4, 256)   1024        ['conv4_block1_1_conv[0][0]']    \n",
            " ization)                                                                                         \n",
            "                                                                                                  \n",
            " conv4_block1_1_relu (Activatio  (None, 4, 4, 256)   0           ['conv4_block1_1_bn[0][0]']      \n",
            " n)                                                                                               \n",
            "                                                                                                  \n",
            " conv4_block1_2_pad (ZeroPaddin  (None, 6, 6, 256)   0           ['conv4_block1_1_relu[0][0]']    \n",
            " g2D)                                                                                             \n",
            "                                                                                                  \n",
            " conv4_block1_2_conv (Conv2D)   (None, 4, 4, 256)    589824      ['conv4_block1_2_pad[0][0]']     \n",
            "                                                                                                  \n",
            " conv4_block1_2_bn (BatchNormal  (None, 4, 4, 256)   1024        ['conv4_block1_2_conv[0][0]']    \n",
            " ization)                                                                                         \n",
            "                                                                                                  \n",
            " conv4_block1_2_relu (Activatio  (None, 4, 4, 256)   0           ['conv4_block1_2_bn[0][0]']      \n",
            " n)                                                                                               \n",
            "                                                                                                  \n",
            " conv4_block1_0_conv (Conv2D)   (None, 4, 4, 1024)   525312      ['conv4_block1_preact_relu[0][0]'\n",
            "                                                                 ]                                \n",
            "                                                                                                  \n",
            " conv4_block1_3_conv (Conv2D)   (None, 4, 4, 1024)   263168      ['conv4_block1_2_relu[0][0]']    \n",
            "                                                                                                  \n",
            " conv4_block1_out (Add)         (None, 4, 4, 1024)   0           ['conv4_block1_0_conv[0][0]',    \n",
            "                                                                  'conv4_block1_3_conv[0][0]']    \n",
            "                                                                                                  \n",
            " conv4_block2_preact_bn (BatchN  (None, 4, 4, 1024)  4096        ['conv4_block1_out[0][0]']       \n",
            " ormalization)                                                                                    \n",
            "                                                                                                  \n",
            " conv4_block2_preact_relu (Acti  (None, 4, 4, 1024)  0           ['conv4_block2_preact_bn[0][0]'] \n",
            " vation)                                                                                          \n",
            "                                                                                                  \n",
            " conv4_block2_1_conv (Conv2D)   (None, 4, 4, 256)    262144      ['conv4_block2_preact_relu[0][0]'\n",
            "                                                                 ]                                \n",
            "                                                                                                  \n",
            " conv4_block2_1_bn (BatchNormal  (None, 4, 4, 256)   1024        ['conv4_block2_1_conv[0][0]']    \n",
            " ization)                                                                                         \n",
            "                                                                                                  \n",
            " conv4_block2_1_relu (Activatio  (None, 4, 4, 256)   0           ['conv4_block2_1_bn[0][0]']      \n",
            " n)                                                                                               \n",
            "                                                                                                  \n",
            " conv4_block2_2_pad (ZeroPaddin  (None, 6, 6, 256)   0           ['conv4_block2_1_relu[0][0]']    \n",
            " g2D)                                                                                             \n",
            "                                                                                                  \n",
            " conv4_block2_2_conv (Conv2D)   (None, 4, 4, 256)    589824      ['conv4_block2_2_pad[0][0]']     \n",
            "                                                                                                  \n",
            " conv4_block2_2_bn (BatchNormal  (None, 4, 4, 256)   1024        ['conv4_block2_2_conv[0][0]']    \n",
            " ization)                                                                                         \n",
            "                                                                                                  \n",
            " conv4_block2_2_relu (Activatio  (None, 4, 4, 256)   0           ['conv4_block2_2_bn[0][0]']      \n",
            " n)                                                                                               \n",
            "                                                                                                  \n",
            " conv4_block2_3_conv (Conv2D)   (None, 4, 4, 1024)   263168      ['conv4_block2_2_relu[0][0]']    \n",
            "                                                                                                  \n",
            " conv4_block2_out (Add)         (None, 4, 4, 1024)   0           ['conv4_block1_out[0][0]',       \n",
            "                                                                  'conv4_block2_3_conv[0][0]']    \n",
            "                                                                                                  \n",
            " conv4_block3_preact_bn (BatchN  (None, 4, 4, 1024)  4096        ['conv4_block2_out[0][0]']       \n",
            " ormalization)                                                                                    \n",
            "                                                                                                  \n",
            " conv4_block3_preact_relu (Acti  (None, 4, 4, 1024)  0           ['conv4_block3_preact_bn[0][0]'] \n",
            " vation)                                                                                          \n",
            "                                                                                                  \n",
            " conv4_block3_1_conv (Conv2D)   (None, 4, 4, 256)    262144      ['conv4_block3_preact_relu[0][0]'\n",
            "                                                                 ]                                \n",
            "                                                                                                  \n",
            " conv4_block3_1_bn (BatchNormal  (None, 4, 4, 256)   1024        ['conv4_block3_1_conv[0][0]']    \n",
            " ization)                                                                                         \n",
            "                                                                                                  \n",
            " conv4_block3_1_relu (Activatio  (None, 4, 4, 256)   0           ['conv4_block3_1_bn[0][0]']      \n",
            " n)                                                                                               \n",
            "                                                                                                  \n",
            " conv4_block3_2_pad (ZeroPaddin  (None, 6, 6, 256)   0           ['conv4_block3_1_relu[0][0]']    \n",
            " g2D)                                                                                             \n",
            "                                                                                                  \n",
            " conv4_block3_2_conv (Conv2D)   (None, 4, 4, 256)    589824      ['conv4_block3_2_pad[0][0]']     \n",
            "                                                                                                  \n",
            " conv4_block3_2_bn (BatchNormal  (None, 4, 4, 256)   1024        ['conv4_block3_2_conv[0][0]']    \n",
            " ization)                                                                                         \n",
            "                                                                                                  \n",
            " conv4_block3_2_relu (Activatio  (None, 4, 4, 256)   0           ['conv4_block3_2_bn[0][0]']      \n",
            " n)                                                                                               \n",
            "                                                                                                  \n",
            " conv4_block3_3_conv (Conv2D)   (None, 4, 4, 1024)   263168      ['conv4_block3_2_relu[0][0]']    \n",
            "                                                                                                  \n",
            " conv4_block3_out (Add)         (None, 4, 4, 1024)   0           ['conv4_block2_out[0][0]',       \n",
            "                                                                  'conv4_block3_3_conv[0][0]']    \n",
            "                                                                                                  \n",
            " conv4_block4_preact_bn (BatchN  (None, 4, 4, 1024)  4096        ['conv4_block3_out[0][0]']       \n",
            " ormalization)                                                                                    \n",
            "                                                                                                  \n",
            " conv4_block4_preact_relu (Acti  (None, 4, 4, 1024)  0           ['conv4_block4_preact_bn[0][0]'] \n",
            " vation)                                                                                          \n",
            "                                                                                                  \n",
            " conv4_block4_1_conv (Conv2D)   (None, 4, 4, 256)    262144      ['conv4_block4_preact_relu[0][0]'\n",
            "                                                                 ]                                \n",
            "                                                                                                  \n",
            " conv4_block4_1_bn (BatchNormal  (None, 4, 4, 256)   1024        ['conv4_block4_1_conv[0][0]']    \n",
            " ization)                                                                                         \n",
            "                                                                                                  \n",
            " conv4_block4_1_relu (Activatio  (None, 4, 4, 256)   0           ['conv4_block4_1_bn[0][0]']      \n",
            " n)                                                                                               \n",
            "                                                                                                  \n",
            " conv4_block4_2_pad (ZeroPaddin  (None, 6, 6, 256)   0           ['conv4_block4_1_relu[0][0]']    \n",
            " g2D)                                                                                             \n",
            "                                                                                                  \n",
            " conv4_block4_2_conv (Conv2D)   (None, 4, 4, 256)    589824      ['conv4_block4_2_pad[0][0]']     \n",
            "                                                                                                  \n",
            " conv4_block4_2_bn (BatchNormal  (None, 4, 4, 256)   1024        ['conv4_block4_2_conv[0][0]']    \n",
            " ization)                                                                                         \n",
            "                                                                                                  \n",
            " conv4_block4_2_relu (Activatio  (None, 4, 4, 256)   0           ['conv4_block4_2_bn[0][0]']      \n",
            " n)                                                                                               \n",
            "                                                                                                  \n",
            " conv4_block4_3_conv (Conv2D)   (None, 4, 4, 1024)   263168      ['conv4_block4_2_relu[0][0]']    \n",
            "                                                                                                  \n",
            " conv4_block4_out (Add)         (None, 4, 4, 1024)   0           ['conv4_block3_out[0][0]',       \n",
            "                                                                  'conv4_block4_3_conv[0][0]']    \n",
            "                                                                                                  \n",
            " conv4_block5_preact_bn (BatchN  (None, 4, 4, 1024)  4096        ['conv4_block4_out[0][0]']       \n",
            " ormalization)                                                                                    \n",
            "                                                                                                  \n",
            " conv4_block5_preact_relu (Acti  (None, 4, 4, 1024)  0           ['conv4_block5_preact_bn[0][0]'] \n",
            " vation)                                                                                          \n",
            "                                                                                                  \n",
            " conv4_block5_1_conv (Conv2D)   (None, 4, 4, 256)    262144      ['conv4_block5_preact_relu[0][0]'\n",
            "                                                                 ]                                \n",
            "                                                                                                  \n",
            " conv4_block5_1_bn (BatchNormal  (None, 4, 4, 256)   1024        ['conv4_block5_1_conv[0][0]']    \n",
            " ization)                                                                                         \n",
            "                                                                                                  \n",
            " conv4_block5_1_relu (Activatio  (None, 4, 4, 256)   0           ['conv4_block5_1_bn[0][0]']      \n",
            " n)                                                                                               \n",
            "                                                                                                  \n",
            " conv4_block5_2_pad (ZeroPaddin  (None, 6, 6, 256)   0           ['conv4_block5_1_relu[0][0]']    \n",
            " g2D)                                                                                             \n",
            "                                                                                                  \n",
            " conv4_block5_2_conv (Conv2D)   (None, 4, 4, 256)    589824      ['conv4_block5_2_pad[0][0]']     \n",
            "                                                                                                  \n",
            " conv4_block5_2_bn (BatchNormal  (None, 4, 4, 256)   1024        ['conv4_block5_2_conv[0][0]']    \n",
            " ization)                                                                                         \n",
            "                                                                                                  \n",
            " conv4_block5_2_relu (Activatio  (None, 4, 4, 256)   0           ['conv4_block5_2_bn[0][0]']      \n",
            " n)                                                                                               \n",
            "                                                                                                  \n",
            " conv4_block5_3_conv (Conv2D)   (None, 4, 4, 1024)   263168      ['conv4_block5_2_relu[0][0]']    \n",
            "                                                                                                  \n",
            " conv4_block5_out (Add)         (None, 4, 4, 1024)   0           ['conv4_block4_out[0][0]',       \n",
            "                                                                  'conv4_block5_3_conv[0][0]']    \n",
            "                                                                                                  \n",
            " conv4_block6_preact_bn (BatchN  (None, 4, 4, 1024)  4096        ['conv4_block5_out[0][0]']       \n",
            " ormalization)                                                                                    \n",
            "                                                                                                  \n",
            " conv4_block6_preact_relu (Acti  (None, 4, 4, 1024)  0           ['conv4_block6_preact_bn[0][0]'] \n",
            " vation)                                                                                          \n",
            "                                                                                                  \n",
            " conv4_block6_1_conv (Conv2D)   (None, 4, 4, 256)    262144      ['conv4_block6_preact_relu[0][0]'\n",
            "                                                                 ]                                \n",
            "                                                                                                  \n",
            " conv4_block6_1_bn (BatchNormal  (None, 4, 4, 256)   1024        ['conv4_block6_1_conv[0][0]']    \n",
            " ization)                                                                                         \n",
            "                                                                                                  \n",
            " conv4_block6_1_relu (Activatio  (None, 4, 4, 256)   0           ['conv4_block6_1_bn[0][0]']      \n",
            " n)                                                                                               \n",
            "                                                                                                  \n",
            " conv4_block6_2_pad (ZeroPaddin  (None, 6, 6, 256)   0           ['conv4_block6_1_relu[0][0]']    \n",
            " g2D)                                                                                             \n",
            "                                                                                                  \n",
            " conv4_block6_2_conv (Conv2D)   (None, 2, 2, 256)    589824      ['conv4_block6_2_pad[0][0]']     \n",
            "                                                                                                  \n",
            " conv4_block6_2_bn (BatchNormal  (None, 2, 2, 256)   1024        ['conv4_block6_2_conv[0][0]']    \n",
            " ization)                                                                                         \n",
            "                                                                                                  \n",
            " conv4_block6_2_relu (Activatio  (None, 2, 2, 256)   0           ['conv4_block6_2_bn[0][0]']      \n",
            " n)                                                                                               \n",
            "                                                                                                  \n",
            " max_pooling2d_14 (MaxPooling2D  (None, 2, 2, 1024)  0           ['conv4_block5_out[0][0]']       \n",
            " )                                                                                                \n",
            "                                                                                                  \n",
            " conv4_block6_3_conv (Conv2D)   (None, 2, 2, 1024)   263168      ['conv4_block6_2_relu[0][0]']    \n",
            "                                                                                                  \n",
            " conv4_block6_out (Add)         (None, 2, 2, 1024)   0           ['max_pooling2d_14[0][0]',       \n",
            "                                                                  'conv4_block6_3_conv[0][0]']    \n",
            "                                                                                                  \n",
            " conv5_block1_preact_bn (BatchN  (None, 2, 2, 1024)  4096        ['conv4_block6_out[0][0]']       \n",
            " ormalization)                                                                                    \n",
            "                                                                                                  \n",
            " conv5_block1_preact_relu (Acti  (None, 2, 2, 1024)  0           ['conv5_block1_preact_bn[0][0]'] \n",
            " vation)                                                                                          \n",
            "                                                                                                  \n",
            " conv5_block1_1_conv (Conv2D)   (None, 2, 2, 512)    524288      ['conv5_block1_preact_relu[0][0]'\n",
            "                                                                 ]                                \n",
            "                                                                                                  \n",
            " conv5_block1_1_bn (BatchNormal  (None, 2, 2, 512)   2048        ['conv5_block1_1_conv[0][0]']    \n",
            " ization)                                                                                         \n",
            "                                                                                                  \n",
            " conv5_block1_1_relu (Activatio  (None, 2, 2, 512)   0           ['conv5_block1_1_bn[0][0]']      \n",
            " n)                                                                                               \n",
            "                                                                                                  \n",
            " conv5_block1_2_pad (ZeroPaddin  (None, 4, 4, 512)   0           ['conv5_block1_1_relu[0][0]']    \n",
            " g2D)                                                                                             \n",
            "                                                                                                  \n",
            " conv5_block1_2_conv (Conv2D)   (None, 2, 2, 512)    2359296     ['conv5_block1_2_pad[0][0]']     \n",
            "                                                                                                  \n",
            " conv5_block1_2_bn (BatchNormal  (None, 2, 2, 512)   2048        ['conv5_block1_2_conv[0][0]']    \n",
            " ization)                                                                                         \n",
            "                                                                                                  \n",
            " conv5_block1_2_relu (Activatio  (None, 2, 2, 512)   0           ['conv5_block1_2_bn[0][0]']      \n",
            " n)                                                                                               \n",
            "                                                                                                  \n",
            " conv5_block1_0_conv (Conv2D)   (None, 2, 2, 2048)   2099200     ['conv5_block1_preact_relu[0][0]'\n",
            "                                                                 ]                                \n",
            "                                                                                                  \n",
            " conv5_block1_3_conv (Conv2D)   (None, 2, 2, 2048)   1050624     ['conv5_block1_2_relu[0][0]']    \n",
            "                                                                                                  \n",
            " conv5_block1_out (Add)         (None, 2, 2, 2048)   0           ['conv5_block1_0_conv[0][0]',    \n",
            "                                                                  'conv5_block1_3_conv[0][0]']    \n",
            "                                                                                                  \n",
            " conv5_block2_preact_bn (BatchN  (None, 2, 2, 2048)  8192        ['conv5_block1_out[0][0]']       \n",
            " ormalization)                                                                                    \n",
            "                                                                                                  \n",
            " conv5_block2_preact_relu (Acti  (None, 2, 2, 2048)  0           ['conv5_block2_preact_bn[0][0]'] \n",
            " vation)                                                                                          \n",
            "                                                                                                  \n",
            " conv5_block2_1_conv (Conv2D)   (None, 2, 2, 512)    1048576     ['conv5_block2_preact_relu[0][0]'\n",
            "                                                                 ]                                \n",
            "                                                                                                  \n",
            " conv5_block2_1_bn (BatchNormal  (None, 2, 2, 512)   2048        ['conv5_block2_1_conv[0][0]']    \n",
            " ization)                                                                                         \n",
            "                                                                                                  \n",
            " conv5_block2_1_relu (Activatio  (None, 2, 2, 512)   0           ['conv5_block2_1_bn[0][0]']      \n",
            " n)                                                                                               \n",
            "                                                                                                  \n",
            " conv5_block2_2_pad (ZeroPaddin  (None, 4, 4, 512)   0           ['conv5_block2_1_relu[0][0]']    \n",
            " g2D)                                                                                             \n",
            "                                                                                                  \n",
            " conv5_block2_2_conv (Conv2D)   (None, 2, 2, 512)    2359296     ['conv5_block2_2_pad[0][0]']     \n",
            "                                                                                                  \n",
            " conv5_block2_2_bn (BatchNormal  (None, 2, 2, 512)   2048        ['conv5_block2_2_conv[0][0]']    \n",
            " ization)                                                                                         \n",
            "                                                                                                  \n",
            " conv5_block2_2_relu (Activatio  (None, 2, 2, 512)   0           ['conv5_block2_2_bn[0][0]']      \n",
            " n)                                                                                               \n",
            "                                                                                                  \n",
            " conv5_block2_3_conv (Conv2D)   (None, 2, 2, 2048)   1050624     ['conv5_block2_2_relu[0][0]']    \n",
            "                                                                                                  \n",
            " conv5_block2_out (Add)         (None, 2, 2, 2048)   0           ['conv5_block1_out[0][0]',       \n",
            "                                                                  'conv5_block2_3_conv[0][0]']    \n",
            "                                                                                                  \n",
            " conv5_block3_preact_bn (BatchN  (None, 2, 2, 2048)  8192        ['conv5_block2_out[0][0]']       \n",
            " ormalization)                                                                                    \n",
            "                                                                                                  \n",
            " conv5_block3_preact_relu (Acti  (None, 2, 2, 2048)  0           ['conv5_block3_preact_bn[0][0]'] \n",
            " vation)                                                                                          \n",
            "                                                                                                  \n",
            " conv5_block3_1_conv (Conv2D)   (None, 2, 2, 512)    1048576     ['conv5_block3_preact_relu[0][0]'\n",
            "                                                                 ]                                \n",
            "                                                                                                  \n",
            " conv5_block3_1_bn (BatchNormal  (None, 2, 2, 512)   2048        ['conv5_block3_1_conv[0][0]']    \n",
            " ization)                                                                                         \n",
            "                                                                                                  \n",
            " conv5_block3_1_relu (Activatio  (None, 2, 2, 512)   0           ['conv5_block3_1_bn[0][0]']      \n",
            " n)                                                                                               \n",
            "                                                                                                  \n",
            " conv5_block3_2_pad (ZeroPaddin  (None, 4, 4, 512)   0           ['conv5_block3_1_relu[0][0]']    \n",
            " g2D)                                                                                             \n",
            "                                                                                                  \n",
            " conv5_block3_2_conv (Conv2D)   (None, 2, 2, 512)    2359296     ['conv5_block3_2_pad[0][0]']     \n",
            "                                                                                                  \n",
            " conv5_block3_2_bn (BatchNormal  (None, 2, 2, 512)   2048        ['conv5_block3_2_conv[0][0]']    \n",
            " ization)                                                                                         \n",
            "                                                                                                  \n",
            " conv5_block3_2_relu (Activatio  (None, 2, 2, 512)   0           ['conv5_block3_2_bn[0][0]']      \n",
            " n)                                                                                               \n",
            "                                                                                                  \n",
            " conv5_block3_3_conv (Conv2D)   (None, 2, 2, 2048)   1050624     ['conv5_block3_2_relu[0][0]']    \n",
            "                                                                                                  \n",
            " conv5_block3_out (Add)         (None, 2, 2, 2048)   0           ['conv5_block2_out[0][0]',       \n",
            "                                                                  'conv5_block3_3_conv[0][0]']    \n",
            "                                                                                                  \n",
            " post_bn (BatchNormalization)   (None, 2, 2, 2048)   8192        ['conv5_block3_out[0][0]']       \n",
            "                                                                                                  \n",
            " post_relu (Activation)         (None, 2, 2, 2048)   0           ['post_bn[0][0]']                \n",
            "                                                                                                  \n",
            "==================================================================================================\n",
            "Total params: 23,564,800\n",
            "Trainable params: 20,559,872\n",
            "Non-trainable params: 3,004,928\n",
            "__________________________________________________________________________________________________\n"
          ]
        }
      ]
    },
    {
      "cell_type": "markdown",
      "metadata": {
        "id": "kHtEYOa64CSf"
      },
      "source": [
        "Model Implementation"
      ]
    },
    {
      "cell_type": "code",
      "metadata": {
        "colab": {
          "base_uri": "https://localhost:8080/"
        },
        "id": "H7YibVgtM9Rj",
        "outputId": "07c28713-eb02-4694-dcbc-39b25ddcce61"
      },
      "source": [
        "#number of classes are 24\n",
        "model = tf.keras.Sequential([\n",
        "    base_model, tf.keras.layers.GlobalAveragePooling2D(), tf.keras.layers.Dense(24, activation='softmax')\n",
        "])\n",
        "lr=0.001\n",
        "\n",
        "model.compile(loss='categorical_crossentropy', optimizer=Adam(lr=lr), metrics=['accuracy'])"
      ],
      "execution_count": null,
      "outputs": [
        {
          "output_type": "stream",
          "name": "stderr",
          "text": [
            "/usr/local/lib/python3.7/dist-packages/keras/optimizer_v2/adam.py:105: UserWarning: The `lr` argument is deprecated, use `learning_rate` instead.\n",
            "  super(Adam, self).__init__(name, **kwargs)\n"
          ]
        }
      ]
    },
    {
      "cell_type": "code",
      "metadata": {
        "colab": {
          "base_uri": "https://localhost:8080/"
        },
        "id": "5XDjIW-j8bXp",
        "outputId": "ba7d7238-ce47-4c10-a444-a6ab461a6479"
      },
      "source": [
        "model.summary()"
      ],
      "execution_count": null,
      "outputs": [
        {
          "output_type": "stream",
          "name": "stdout",
          "text": [
            "Model: \"sequential_2\"\n",
            "_________________________________________________________________\n",
            " Layer (type)                Output Shape              Param #   \n",
            "=================================================================\n",
            " resnet50v2 (Functional)     (None, 2, 2, 2048)        23564800  \n",
            "                                                                 \n",
            " global_average_pooling2d_2   (None, 2048)             0         \n",
            " (GlobalAveragePooling2D)                                        \n",
            "                                                                 \n",
            " dense_2 (Dense)             (None, 24)                49176     \n",
            "                                                                 \n",
            "=================================================================\n",
            "Total params: 23,613,976\n",
            "Trainable params: 20,609,048\n",
            "Non-trainable params: 3,004,928\n",
            "_________________________________________________________________\n"
          ]
        }
      ]
    },
    {
      "cell_type": "code",
      "metadata": {
        "id": "dbdKuECR3bdp"
      },
      "source": [
        "patience = 1\n",
        "stop_patience = 10\n",
        "factor = 0.5\n",
        "checkpoint_path = \"/content/drive/MyDrive/ASL_project/checkpoints/freeze_norm_trainingV1_1/cp.ckpt\"\n",
        "checkpoint_dir = os.path.dirname(checkpoint_path)\n",
        "\n",
        "callbacks = [\n",
        "    tf.keras.callbacks.EarlyStopping(patience=stop_patience, monitor='val_loss', verbose=1, restore_best_weights=True),\n",
        "    tf.keras.callbacks.ReduceLROnPlateau(monitor='val_loss', factor=factor, patience=patience, verbose=1),\n",
        "    tf.keras.callbacks.ModelCheckpoint(filepath=checkpoint_path,\n",
        "                                                 save_weights_only=True,\n",
        "                                                 verbose=1)\n",
        "]"
      ],
      "execution_count": null,
      "outputs": []
    },
    {
      "cell_type": "code",
      "metadata": {
        "colab": {
          "base_uri": "https://localhost:8080/"
        },
        "id": "0BjLsQ8m3iMK",
        "outputId": "8539e72a-cbc4-45d0-98ee-3b77a9007021"
      },
      "source": [
        "#training cycle 1\n",
        "epochs = 30\n",
        "history = model.fit(train_set, validation_data=valid_set, epochs=epochs, callbacks=callbacks, verbose=1)"
      ],
      "execution_count": null,
      "outputs": [
        {
          "output_type": "stream",
          "name": "stdout",
          "text": [
            "Epoch 1/30\n",
            "60/60 [==============================] - ETA: 0s - loss: 1.3237 - accuracy: 0.6187\n",
            "Epoch 00001: saving model to /content/drive/MyDrive/ASL_project/checkpoints/freeze_norm_trainingV1_1/cp.ckpt\n",
            "60/60 [==============================] - 590s 10s/step - loss: 1.3237 - accuracy: 0.6187 - val_loss: 3.7691 - val_accuracy: 0.5073 - lr: 0.0010\n",
            "Epoch 2/30\n",
            "60/60 [==============================] - ETA: 0s - loss: 0.2735 - accuracy: 0.9206\n",
            "Epoch 00002: saving model to /content/drive/MyDrive/ASL_project/checkpoints/freeze_norm_trainingV1_1/cp.ckpt\n",
            "60/60 [==============================] - 593s 10s/step - loss: 0.2735 - accuracy: 0.9206 - val_loss: 0.6414 - val_accuracy: 0.8552 - lr: 0.0010\n",
            "Epoch 3/30\n",
            "60/60 [==============================] - ETA: 0s - loss: 0.1324 - accuracy: 0.9578\n",
            "Epoch 00003: saving model to /content/drive/MyDrive/ASL_project/checkpoints/freeze_norm_trainingV1_1/cp.ckpt\n",
            "60/60 [==============================] - 595s 10s/step - loss: 0.1324 - accuracy: 0.9578 - val_loss: 0.4918 - val_accuracy: 0.9021 - lr: 0.0010\n",
            "Epoch 4/30\n",
            "60/60 [==============================] - ETA: 0s - loss: 0.0792 - accuracy: 0.9768\n",
            "Epoch 00004: saving model to /content/drive/MyDrive/ASL_project/checkpoints/freeze_norm_trainingV1_1/cp.ckpt\n",
            "60/60 [==============================] - 549s 9s/step - loss: 0.0792 - accuracy: 0.9768 - val_loss: 0.4037 - val_accuracy: 0.9031 - lr: 0.0010\n",
            "Epoch 5/30\n",
            "60/60 [==============================] - ETA: 0s - loss: 0.0750 - accuracy: 0.9797\n",
            "Epoch 00005: ReduceLROnPlateau reducing learning rate to 0.0005000000237487257.\n",
            "\n",
            "Epoch 00005: saving model to /content/drive/MyDrive/ASL_project/checkpoints/freeze_norm_trainingV1_1/cp.ckpt\n",
            "60/60 [==============================] - 598s 10s/step - loss: 0.0750 - accuracy: 0.9797 - val_loss: 0.4481 - val_accuracy: 0.8927 - lr: 0.0010\n",
            "Epoch 6/30\n",
            "60/60 [==============================] - ETA: 0s - loss: 0.0356 - accuracy: 0.9906\n",
            "Epoch 00006: saving model to /content/drive/MyDrive/ASL_project/checkpoints/freeze_norm_trainingV1_1/cp.ckpt\n",
            "60/60 [==============================] - 585s 10s/step - loss: 0.0356 - accuracy: 0.9906 - val_loss: 0.1345 - val_accuracy: 0.9604 - lr: 5.0000e-04\n",
            "Epoch 7/30\n",
            "60/60 [==============================] - ETA: 0s - loss: 0.0047 - accuracy: 0.9990\n",
            "Epoch 00007: saving model to /content/drive/MyDrive/ASL_project/checkpoints/freeze_norm_trainingV1_1/cp.ckpt\n",
            "60/60 [==============================] - 567s 9s/step - loss: 0.0047 - accuracy: 0.9990 - val_loss: 0.1160 - val_accuracy: 0.9688 - lr: 5.0000e-04\n",
            "Epoch 8/30\n",
            "60/60 [==============================] - ETA: 0s - loss: 0.0035 - accuracy: 0.9992\n",
            "Epoch 00008: saving model to /content/drive/MyDrive/ASL_project/checkpoints/freeze_norm_trainingV1_1/cp.ckpt\n",
            "60/60 [==============================] - 528s 9s/step - loss: 0.0035 - accuracy: 0.9992 - val_loss: 0.1103 - val_accuracy: 0.9688 - lr: 5.0000e-04\n",
            "Epoch 9/30\n",
            "60/60 [==============================] - ETA: 0s - loss: 0.0037 - accuracy: 0.9990\n",
            "Epoch 00009: saving model to /content/drive/MyDrive/ASL_project/checkpoints/freeze_norm_trainingV1_1/cp.ckpt\n",
            "60/60 [==============================] - 558s 9s/step - loss: 0.0037 - accuracy: 0.9990 - val_loss: 0.1093 - val_accuracy: 0.9688 - lr: 5.0000e-04\n",
            "Epoch 10/30\n",
            "60/60 [==============================] - ETA: 0s - loss: 8.8238e-04 - accuracy: 1.0000\n",
            "Epoch 00010: saving model to /content/drive/MyDrive/ASL_project/checkpoints/freeze_norm_trainingV1_1/cp.ckpt\n",
            "60/60 [==============================] - 574s 10s/step - loss: 8.8238e-04 - accuracy: 1.0000 - val_loss: 0.1079 - val_accuracy: 0.9729 - lr: 5.0000e-04\n",
            "Epoch 11/30\n",
            "60/60 [==============================] - ETA: 0s - loss: 0.0016 - accuracy: 0.9992\n",
            "Epoch 00011: saving model to /content/drive/MyDrive/ASL_project/checkpoints/freeze_norm_trainingV1_1/cp.ckpt\n",
            "60/60 [==============================] - 580s 10s/step - loss: 0.0016 - accuracy: 0.9992 - val_loss: 0.1052 - val_accuracy: 0.9708 - lr: 5.0000e-04\n",
            "Epoch 12/30\n",
            "60/60 [==============================] - ETA: 0s - loss: 0.0024 - accuracy: 0.9995\n",
            "Epoch 00012: saving model to /content/drive/MyDrive/ASL_project/checkpoints/freeze_norm_trainingV1_1/cp.ckpt\n",
            "60/60 [==============================] - 556s 9s/step - loss: 0.0024 - accuracy: 0.9995 - val_loss: 0.1045 - val_accuracy: 0.9719 - lr: 5.0000e-04\n",
            "Epoch 13/30\n",
            "60/60 [==============================] - ETA: 0s - loss: 0.0014 - accuracy: 0.9995\n",
            "Epoch 00013: ReduceLROnPlateau reducing learning rate to 0.0002500000118743628.\n",
            "\n",
            "Epoch 00013: saving model to /content/drive/MyDrive/ASL_project/checkpoints/freeze_norm_trainingV1_1/cp.ckpt\n",
            "60/60 [==============================] - 588s 10s/step - loss: 0.0014 - accuracy: 0.9995 - val_loss: 0.1050 - val_accuracy: 0.9708 - lr: 5.0000e-04\n",
            "Epoch 14/30\n",
            "60/60 [==============================] - ETA: 0s - loss: 3.7511e-04 - accuracy: 1.0000\n",
            "Epoch 00014: saving model to /content/drive/MyDrive/ASL_project/checkpoints/freeze_norm_trainingV1_1/cp.ckpt\n",
            "60/60 [==============================] - 586s 10s/step - loss: 3.7511e-04 - accuracy: 1.0000 - val_loss: 0.0980 - val_accuracy: 0.9719 - lr: 2.5000e-04\n",
            "Epoch 15/30\n",
            "60/60 [==============================] - ETA: 0s - loss: 2.9185e-04 - accuracy: 1.0000\n",
            "Epoch 00015: saving model to /content/drive/MyDrive/ASL_project/checkpoints/freeze_norm_trainingV1_1/cp.ckpt\n",
            "60/60 [==============================] - 565s 9s/step - loss: 2.9185e-04 - accuracy: 1.0000 - val_loss: 0.0979 - val_accuracy: 0.9729 - lr: 2.5000e-04\n",
            "Epoch 16/30\n",
            "60/60 [==============================] - ETA: 0s - loss: 1.8957e-04 - accuracy: 1.0000\n",
            "Epoch 00016: saving model to /content/drive/MyDrive/ASL_project/checkpoints/freeze_norm_trainingV1_1/cp.ckpt\n",
            "60/60 [==============================] - 555s 9s/step - loss: 1.8957e-04 - accuracy: 1.0000 - val_loss: 0.0976 - val_accuracy: 0.9729 - lr: 2.5000e-04\n",
            "Epoch 17/30\n",
            "60/60 [==============================] - ETA: 0s - loss: 2.2797e-04 - accuracy: 1.0000\n",
            "Epoch 00017: ReduceLROnPlateau reducing learning rate to 0.0001250000059371814.\n",
            "\n",
            "Epoch 00017: saving model to /content/drive/MyDrive/ASL_project/checkpoints/freeze_norm_trainingV1_1/cp.ckpt\n",
            "60/60 [==============================] - 561s 9s/step - loss: 2.2797e-04 - accuracy: 1.0000 - val_loss: 0.0985 - val_accuracy: 0.9740 - lr: 2.5000e-04\n",
            "Epoch 18/30\n",
            "60/60 [==============================] - ETA: 0s - loss: 2.0593e-04 - accuracy: 1.0000\n",
            "Epoch 00018: ReduceLROnPlateau reducing learning rate to 6.25000029685907e-05.\n",
            "\n",
            "Epoch 00018: saving model to /content/drive/MyDrive/ASL_project/checkpoints/freeze_norm_trainingV1_1/cp.ckpt\n",
            "60/60 [==============================] - 563s 9s/step - loss: 2.0593e-04 - accuracy: 1.0000 - val_loss: 0.0991 - val_accuracy: 0.9740 - lr: 1.2500e-04\n",
            "Epoch 19/30\n",
            "60/60 [==============================] - ETA: 0s - loss: 1.4588e-04 - accuracy: 1.0000\n",
            "Epoch 00019: ReduceLROnPlateau reducing learning rate to 3.125000148429535e-05.\n",
            "\n",
            "Epoch 00019: saving model to /content/drive/MyDrive/ASL_project/checkpoints/freeze_norm_trainingV1_1/cp.ckpt\n",
            "60/60 [==============================] - 510s 9s/step - loss: 1.4588e-04 - accuracy: 1.0000 - val_loss: 0.0993 - val_accuracy: 0.9740 - lr: 6.2500e-05\n",
            "Epoch 20/30\n",
            "60/60 [==============================] - ETA: 0s - loss: 1.8714e-04 - accuracy: 1.0000\n",
            "Epoch 00020: ReduceLROnPlateau reducing learning rate to 1.5625000742147677e-05.\n",
            "\n",
            "Epoch 00020: saving model to /content/drive/MyDrive/ASL_project/checkpoints/freeze_norm_trainingV1_1/cp.ckpt\n",
            "60/60 [==============================] - 509s 8s/step - loss: 1.8714e-04 - accuracy: 1.0000 - val_loss: 0.0991 - val_accuracy: 0.9740 - lr: 3.1250e-05\n",
            "Epoch 21/30\n",
            "60/60 [==============================] - ETA: 0s - loss: 1.6984e-04 - accuracy: 1.0000\n",
            "Epoch 00021: ReduceLROnPlateau reducing learning rate to 7.812500371073838e-06.\n",
            "\n",
            "Epoch 00021: saving model to /content/drive/MyDrive/ASL_project/checkpoints/freeze_norm_trainingV1_1/cp.ckpt\n",
            "60/60 [==============================] - 490s 8s/step - loss: 1.6984e-04 - accuracy: 1.0000 - val_loss: 0.0992 - val_accuracy: 0.9740 - lr: 1.5625e-05\n",
            "Epoch 22/30\n",
            "60/60 [==============================] - ETA: 0s - loss: 1.2960e-04 - accuracy: 1.0000\n",
            "Epoch 00022: ReduceLROnPlateau reducing learning rate to 3.906250185536919e-06.\n",
            "\n",
            "Epoch 00022: saving model to /content/drive/MyDrive/ASL_project/checkpoints/freeze_norm_trainingV1_1/cp.ckpt\n",
            "60/60 [==============================] - 514s 9s/step - loss: 1.2960e-04 - accuracy: 1.0000 - val_loss: 0.0994 - val_accuracy: 0.9740 - lr: 7.8125e-06\n",
            "Epoch 23/30\n",
            "60/60 [==============================] - ETA: 0s - loss: 1.7885e-04 - accuracy: 1.0000\n",
            "Epoch 00023: ReduceLROnPlateau reducing learning rate to 1.9531250927684596e-06.\n",
            "\n",
            "Epoch 00023: saving model to /content/drive/MyDrive/ASL_project/checkpoints/freeze_norm_trainingV1_1/cp.ckpt\n",
            "60/60 [==============================] - 585s 10s/step - loss: 1.7885e-04 - accuracy: 1.0000 - val_loss: 0.0994 - val_accuracy: 0.9740 - lr: 3.9063e-06\n",
            "Epoch 24/30\n",
            "60/60 [==============================] - ETA: 0s - loss: 1.7360e-04 - accuracy: 1.0000\n",
            "Epoch 00024: ReduceLROnPlateau reducing learning rate to 9.765625463842298e-07.\n",
            "\n",
            "Epoch 00024: saving model to /content/drive/MyDrive/ASL_project/checkpoints/freeze_norm_trainingV1_1/cp.ckpt\n",
            "60/60 [==============================] - 580s 10s/step - loss: 1.7360e-04 - accuracy: 1.0000 - val_loss: 0.0991 - val_accuracy: 0.9740 - lr: 1.9531e-06\n",
            "Epoch 25/30\n",
            "60/60 [==============================] - ETA: 0s - loss: 1.1625e-04 - accuracy: 1.0000\n",
            "Epoch 00025: ReduceLROnPlateau reducing learning rate to 4.882812731921149e-07.\n",
            "\n",
            "Epoch 00025: saving model to /content/drive/MyDrive/ASL_project/checkpoints/freeze_norm_trainingV1_1/cp.ckpt\n",
            "60/60 [==============================] - 551s 9s/step - loss: 1.1625e-04 - accuracy: 1.0000 - val_loss: 0.0993 - val_accuracy: 0.9740 - lr: 9.7656e-07\n",
            "Epoch 26/30\n",
            "60/60 [==============================] - ETA: 0s - loss: 1.3565e-04 - accuracy: 1.0000Restoring model weights from the end of the best epoch: 16.\n",
            "\n",
            "Epoch 00026: ReduceLROnPlateau reducing learning rate to 2.4414063659605745e-07.\n",
            "\n",
            "Epoch 00026: saving model to /content/drive/MyDrive/ASL_project/checkpoints/freeze_norm_trainingV1_1/cp.ckpt\n",
            "60/60 [==============================] - 555s 9s/step - loss: 1.3565e-04 - accuracy: 1.0000 - val_loss: 0.0995 - val_accuracy: 0.9740 - lr: 4.8828e-07\n",
            "Epoch 00026: early stopping\n"
          ]
        }
      ]
    },
    {
      "cell_type": "code",
      "metadata": {
        "id": "RTXWw7_ncNHI"
      },
      "source": [
        "# Save the weights\n",
        "#model.save_weights('/content/drive/MyDrive/ASL_project/checkpoints/my_checkpoint')\n",
        "\n"
      ],
      "execution_count": null,
      "outputs": []
    },
    {
      "cell_type": "code",
      "metadata": {
        "colab": {
          "base_uri": "https://localhost:8080/",
          "height": 295
        },
        "id": "catwGuZ6bk9B",
        "outputId": "f1add0d6-e91a-4373-d986-6f4ed7bc5c50"
      },
      "source": [
        "import matplotlib.pyplot as plt\n",
        "plt.plot(history.history['accuracy'])\n",
        "plt.plot(history.history['val_accuracy'])\n",
        "plt.title('model accuracy')\n",
        "plt.ylabel('accuracy')\n",
        "plt.xlabel('epoch')\n",
        "plt.legend(['train', 'Validation'], loc='upper left')\n",
        "plt.show()"
      ],
      "execution_count": null,
      "outputs": [
        {
          "output_type": "display_data",
          "data": {
            "image/png": "[encoded data removed]",
            "text/plain": [
              "<Figure size 432x288 with 1 Axes>"
            ]
          },
          "metadata": {
            "needs_background": "light"
          }
        }
      ]
    },
    {
      "cell_type": "code",
      "metadata": {
        "colab": {
          "base_uri": "https://localhost:8080/",
          "height": 295
        },
        "id": "Vz17x-ELKgFx",
        "outputId": "149f5360-2410-4c95-ae9b-7fcaf7d04b69"
      },
      "source": [
        "# summarize history for loss\n",
        "\n",
        "plt.plot(history.history['loss'])\n",
        "plt.plot(history.history['val_loss'])\n",
        "plt.title('model loss')\n",
        "plt.ylabel('loss')\n",
        "plt.xlabel('epoch')\n",
        "plt.legend(['train', 'validation'], loc='upper left')\n",
        "plt.show()"
      ],
      "execution_count": null,
      "outputs": [
        {
          "output_type": "display_data",
          "data": {
            "image/png": "[encoded data removed]",
            "text/plain": [
              "<Figure size 432x288 with 1 Axes>"
            ]
          },
          "metadata": {
            "needs_background": "light"
          }
        }
      ]
    },
    {
      "cell_type": "code",
      "metadata": {
        "id": "RSHPytOFdZVM"
      },
      "source": [
        "#test_dir = '/content/drive/MyDrive/ASL_project/A_test_set'\n"
      ],
      "execution_count": null,
      "outputs": []
    },
    {
      "cell_type": "code",
      "metadata": {
        "colab": {
          "base_uri": "https://localhost:8080/"
        },
        "id": "lV27fONl8pas",
        "outputId": "ba383335-2dff-4847-b36d-43c0def7455f"
      },
      "source": [
        "#Restoring the weights of the best model\n",
        "model.load_weights('/content/drive/MyDrive/ASL_project/checkpoints/freeze_norm_trainingV1_1/cp.ckpt')"
      ],
      "execution_count": null,
      "outputs": [
        {
          "output_type": "execute_result",
          "data": {
            "text/plain": [
              "<tensorflow.python.training.tracking.util.CheckpointLoadStatus at 0x7f1f3eea7750>"
            ]
          },
          "metadata": {},
          "execution_count": 66
        }
      ]
    },
    {
      "cell_type": "code",
      "metadata": {
        "colab": {
          "base_uri": "https://localhost:8080/"
        },
        "id": "wLS1gcQN88Qb",
        "outputId": "936a7c92-cd1c-4a0f-bda0-0b8c4d94608f"
      },
      "source": [
        "# Save the entire model as a SavedModel.\n",
        "model.save('/content/drive/MyDrive/ASL_project/saved_model/freeze_norm_trainingV1_1')"
      ],
      "execution_count": null,
      "outputs": [
        {
          "output_type": "stream",
          "name": "stdout",
          "text": [
            "INFO:tensorflow:Assets written to: /content/drive/MyDrive/ASL_project/saved_model/freeze_norm_trainingV1_1/assets\n"
          ]
        },
        {
          "output_type": "stream",
          "name": "stderr",
          "text": [
            "/usr/local/lib/python3.7/dist-packages/keras/engine/functional.py:1410: CustomMaskWarning: Custom mask layers require a config and must override get_config. When loading, the custom mask layer must be passed to the custom_objects argument.\n",
            "  layer_config = serialize_layer_fn(layer)\n",
            "/usr/local/lib/python3.7/dist-packages/keras/saving/saved_model/layer_serialization.py:112: CustomMaskWarning: Custom mask layers require a config and must override get_config. When loading, the custom mask layer must be passed to the custom_objects argument.\n",
            "  return generic_utils.serialize_keras_object(obj)\n"
          ]
        }
      ]
    },
    {
      "cell_type": "code",
      "metadata": {
        "colab": {
          "base_uri": "https://localhost:8080/"
        },
        "id": "yDKzUr9n9YCM",
        "outputId": "60f6ed15-9d7d-4f1c-9ec7-4d53f74eacff"
      },
      "source": [
        "#Lodaing the model\n",
        "model = tf.keras.models.load_model('/content/drive/MyDrive/ASL_project/saved_model/freeze_norm_trainingV1_1')\n",
        "\n",
        "# Check its architecture\n",
        "model.summary()"
      ],
      "execution_count": null,
      "outputs": [
        {
          "output_type": "stream",
          "name": "stdout",
          "text": [
            "Model: \"sequential_2\"\n",
            "_________________________________________________________________\n",
            " Layer (type)                Output Shape              Param #   \n",
            "=================================================================\n",
            " resnet50v2 (Functional)     (None, 2, 2, 2048)        23564800  \n",
            "                                                                 \n",
            " global_average_pooling2d_2   (None, 2048)             0         \n",
            " (GlobalAveragePooling2D)                                        \n",
            "                                                                 \n",
            " dense_2 (Dense)             (None, 24)                49176     \n",
            "                                                                 \n",
            "=================================================================\n",
            "Total params: 23,613,976\n",
            "Trainable params: 20,609,048\n",
            "Non-trainable params: 3,004,928\n",
            "_________________________________________________________________\n"
          ]
        }
      ]
    },
    {
      "cell_type": "code",
      "metadata": {
        "colab": {
          "base_uri": "https://localhost:8080/"
        },
        "id": "VM7iru_ogzIx",
        "outputId": "911dd66d-b351-4c82-cc3c-eabe5392ef57"
      },
      "source": [
        "#testing the best model on training set\n",
        "test_images = test_datagen.flow_from_directory(test_dir, class_mode='categorical', batch_size=1, target_size=target_size)"
      ],
      "execution_count": null,
      "outputs": [
        {
          "output_type": "stream",
          "name": "stdout",
          "text": [
            "Found 240 images belonging to 24 classes.\n"
          ]
        }
      ]
    },
    {
      "cell_type": "code",
      "metadata": {
        "colab": {
          "base_uri": "https://localhost:8080/"
        },
        "id": "m_NfMXsJlULE",
        "outputId": "0c8b51e6-9b21-44ea-8d8d-9241f7b381cc"
      },
      "source": [
        "test_loss, test_acc = model.evaluate(test_images, verbose=2)\n",
        "\n",
        "print('\\nTest accuracy:', test_acc)"
      ],
      "execution_count": null,
      "outputs": [
        {
          "output_type": "stream",
          "name": "stdout",
          "text": [
            "240/240 - 14s - loss: 1.2197 - accuracy: 0.7375 - 14s/epoch - 60ms/step\n",
            "\n",
            "Test accuracy: 0.737500011920929\n"
          ]
        }
      ]
    },
    {
      "cell_type": "code",
      "metadata": {
        "id": "UTxfIUpNRrdb"
      },
      "source": [
        "#Second Round of training with new images\n",
        "train_dir = '/content/drive/MyDrive/ASL_project/training_shuffle_200_400'\n",
        "test_dir = '/content/drive/MyDrive/ASL_project/test_random'"
      ],
      "execution_count": null,
      "outputs": []
    },
    {
      "cell_type": "code",
      "metadata": {
        "colab": {
          "base_uri": "https://localhost:8080/"
        },
        "id": "FU2VGZ2mR6at",
        "outputId": "03d61e24-8eca-4b6f-841f-aa19065fa87d"
      },
      "source": [
        "#train_datagen = ImageDataGenerator(rescale=1.0/255.0, featurewise_center=True, featurewise_std_normalization=False,validation_split=0.2)\n",
        "#test_datagen = ImageDataGenerator(rescale=1.0/255.0,featurewise_center=True, featurewise_std_normalization=False)\n",
        "#target_size=(64,64)\n",
        "#batch_size=64\n",
        "train_set = train_datagen.flow_from_directory(train_dir, subset='training', class_mode='categorical', batch_size=batch_size, shuffle=True, target_size=target_size)\n",
        "valid_set = train_datagen.flow_from_directory(train_dir, subset='validation', class_mode='categorical', batch_size=batch_size, shuffle=True, target_size=target_size)"
      ],
      "execution_count": null,
      "outputs": [
        {
          "output_type": "stream",
          "name": "stdout",
          "text": [
            "Found 3840 images belonging to 24 classes.\n",
            "Found 960 images belonging to 24 classes.\n"
          ]
        }
      ]
    },
    {
      "cell_type": "code",
      "metadata": {
        "id": "nnDJ1x-j7_Ud"
      },
      "source": [
        "\n",
        "patience = 1\n",
        "stop_patience = 5\n",
        "factor = 0.5\n",
        "checkpoint_path = \"/content/drive/MyDrive/ASL_project/checkpoints/freeze_norm_trainingV1_2/cp.ckpt\"\n",
        "checkpoint_dir = os.path.dirname(checkpoint_path)\n",
        "\n",
        "callbacks = [\n",
        "    tf.keras.callbacks.EarlyStopping(patience=stop_patience, monitor='val_loss', verbose=1, restore_best_weights=True),\n",
        "    tf.keras.callbacks.ReduceLROnPlateau(monitor='val_loss', factor=factor, patience=patience, verbose=1),\n",
        "    tf.keras.callbacks.ModelCheckpoint(filepath=checkpoint_path,\n",
        "                                                 save_weights_only=True,\n",
        "                                                 verbose=1)\n",
        "]"
      ],
      "execution_count": null,
      "outputs": []
    },
    {
      "cell_type": "code",
      "metadata": {
        "colab": {
          "base_uri": "https://localhost:8080/"
        },
        "id": "lQIj1mN1RqCk",
        "outputId": "7e01e85f-8965-429a-b13d-67be10b3d34b"
      },
      "source": [
        "#training\n",
        "epochs = 30\n",
        "history = model.fit(train_set, validation_data=valid_set, epochs=epochs, callbacks=callbacks, verbose=1)"
      ],
      "execution_count": null,
      "outputs": [
        {
          "output_type": "stream",
          "name": "stdout",
          "text": [
            "Epoch 1/30\n",
            "60/60 [==============================] - ETA: 0s - loss: 0.1520 - accuracy: 0.9672 \n",
            "Epoch 00001: saving model to /content/drive/MyDrive/ASL_project/checkpoints/freeze_norm_trainingV1_2/cp.ckpt\n",
            "60/60 [==============================] - 3162s 53s/step - loss: 0.1520 - accuracy: 0.9672 - val_loss: 0.1215 - val_accuracy: 0.9698 - lr: 2.4414e-07\n",
            "Epoch 2/30\n",
            "60/60 [==============================] - ETA: 0s - loss: 0.1416 - accuracy: 0.9698\n",
            "Epoch 00002: saving model to /content/drive/MyDrive/ASL_project/checkpoints/freeze_norm_trainingV1_2/cp.ckpt\n",
            "60/60 [==============================] - 515s 9s/step - loss: 0.1416 - accuracy: 0.9698 - val_loss: 0.1208 - val_accuracy: 0.9688 - lr: 2.4414e-07\n",
            "Epoch 3/30\n",
            "60/60 [==============================] - ETA: 0s - loss: 0.1417 - accuracy: 0.9680\n",
            "Epoch 00003: saving model to /content/drive/MyDrive/ASL_project/checkpoints/freeze_norm_trainingV1_2/cp.ckpt\n",
            "60/60 [==============================] - 516s 9s/step - loss: 0.1417 - accuracy: 0.9680 - val_loss: 0.1201 - val_accuracy: 0.9698 - lr: 2.4414e-07\n",
            "Epoch 4/30\n",
            "60/60 [==============================] - ETA: 0s - loss: 0.1377 - accuracy: 0.9690\n",
            "Epoch 00004: saving model to /content/drive/MyDrive/ASL_project/checkpoints/freeze_norm_trainingV1_2/cp.ckpt\n",
            "60/60 [==============================] - 514s 9s/step - loss: 0.1377 - accuracy: 0.9690 - val_loss: 0.1189 - val_accuracy: 0.9698 - lr: 2.4414e-07\n",
            "Epoch 5/30\n",
            "60/60 [==============================] - ETA: 0s - loss: 0.1361 - accuracy: 0.9672\n",
            "Epoch 00005: saving model to /content/drive/MyDrive/ASL_project/checkpoints/freeze_norm_trainingV1_2/cp.ckpt\n",
            "60/60 [==============================] - 516s 9s/step - loss: 0.1361 - accuracy: 0.9672 - val_loss: 0.1179 - val_accuracy: 0.9708 - lr: 2.4414e-07\n",
            "Epoch 6/30\n",
            "60/60 [==============================] - ETA: 0s - loss: 0.1294 - accuracy: 0.9695\n",
            "Epoch 00006: saving model to /content/drive/MyDrive/ASL_project/checkpoints/freeze_norm_trainingV1_2/cp.ckpt\n",
            "60/60 [==============================] - 506s 8s/step - loss: 0.1294 - accuracy: 0.9695 - val_loss: 0.1169 - val_accuracy: 0.9708 - lr: 2.4414e-07\n",
            "Epoch 7/30\n",
            "60/60 [==============================] - ETA: 0s - loss: 0.1309 - accuracy: 0.9690\n",
            "Epoch 00007: saving model to /content/drive/MyDrive/ASL_project/checkpoints/freeze_norm_trainingV1_2/cp.ckpt\n",
            "60/60 [==============================] - 511s 9s/step - loss: 0.1309 - accuracy: 0.9690 - val_loss: 0.1158 - val_accuracy: 0.9708 - lr: 2.4414e-07\n",
            "Epoch 8/30\n",
            "60/60 [==============================] - ETA: 0s - loss: 0.1335 - accuracy: 0.9680\n",
            "Epoch 00008: saving model to /content/drive/MyDrive/ASL_project/checkpoints/freeze_norm_trainingV1_2/cp.ckpt\n",
            "60/60 [==============================] - 497s 8s/step - loss: 0.1335 - accuracy: 0.9680 - val_loss: 0.1154 - val_accuracy: 0.9708 - lr: 2.4414e-07\n",
            "Epoch 9/30\n",
            "60/60 [==============================] - ETA: 0s - loss: 0.1309 - accuracy: 0.9677\n",
            "Epoch 00009: saving model to /content/drive/MyDrive/ASL_project/checkpoints/freeze_norm_trainingV1_2/cp.ckpt\n",
            "60/60 [==============================] - 492s 8s/step - loss: 0.1309 - accuracy: 0.9677 - val_loss: 0.1147 - val_accuracy: 0.9708 - lr: 2.4414e-07\n",
            "Epoch 10/30\n",
            "60/60 [==============================] - ETA: 0s - loss: 0.1231 - accuracy: 0.9711\n",
            "Epoch 00010: saving model to /content/drive/MyDrive/ASL_project/checkpoints/freeze_norm_trainingV1_2/cp.ckpt\n",
            "60/60 [==============================] - 497s 8s/step - loss: 0.1231 - accuracy: 0.9711 - val_loss: 0.1140 - val_accuracy: 0.9708 - lr: 2.4414e-07\n",
            "Epoch 11/30\n",
            "60/60 [==============================] - ETA: 0s - loss: 0.1198 - accuracy: 0.9716\n",
            "Epoch 00011: saving model to /content/drive/MyDrive/ASL_project/checkpoints/freeze_norm_trainingV1_2/cp.ckpt\n",
            "60/60 [==============================] - 513s 9s/step - loss: 0.1198 - accuracy: 0.9716 - val_loss: 0.1133 - val_accuracy: 0.9708 - lr: 2.4414e-07\n",
            "Epoch 12/30\n",
            "60/60 [==============================] - ETA: 0s - loss: 0.1200 - accuracy: 0.9706\n",
            "Epoch 00012: saving model to /content/drive/MyDrive/ASL_project/checkpoints/freeze_norm_trainingV1_2/cp.ckpt\n",
            "60/60 [==============================] - 492s 8s/step - loss: 0.1200 - accuracy: 0.9706 - val_loss: 0.1124 - val_accuracy: 0.9708 - lr: 2.4414e-07\n",
            "Epoch 13/30\n",
            "60/60 [==============================] - ETA: 0s - loss: 0.1211 - accuracy: 0.9690\n",
            "Epoch 00013: saving model to /content/drive/MyDrive/ASL_project/checkpoints/freeze_norm_trainingV1_2/cp.ckpt\n",
            "60/60 [==============================] - 483s 8s/step - loss: 0.1211 - accuracy: 0.9690 - val_loss: 0.1116 - val_accuracy: 0.9708 - lr: 2.4414e-07\n",
            "Epoch 14/30\n",
            "60/60 [==============================] - ETA: 0s - loss: 0.1202 - accuracy: 0.9716\n",
            "Epoch 00014: saving model to /content/drive/MyDrive/ASL_project/checkpoints/freeze_norm_trainingV1_2/cp.ckpt\n",
            "60/60 [==============================] - 480s 8s/step - loss: 0.1202 - accuracy: 0.9716 - val_loss: 0.1109 - val_accuracy: 0.9708 - lr: 2.4414e-07\n",
            "Epoch 15/30\n",
            "60/60 [==============================] - ETA: 0s - loss: 0.1172 - accuracy: 0.9727\n",
            "Epoch 00015: saving model to /content/drive/MyDrive/ASL_project/checkpoints/freeze_norm_trainingV1_2/cp.ckpt\n",
            "60/60 [==============================] - 481s 8s/step - loss: 0.1172 - accuracy: 0.9727 - val_loss: 0.1104 - val_accuracy: 0.9708 - lr: 2.4414e-07\n",
            "Epoch 16/30\n",
            "60/60 [==============================] - ETA: 0s - loss: 0.1264 - accuracy: 0.9688\n",
            "Epoch 00016: saving model to /content/drive/MyDrive/ASL_project/checkpoints/freeze_norm_trainingV1_2/cp.ckpt\n",
            "60/60 [==============================] - 490s 8s/step - loss: 0.1264 - accuracy: 0.9688 - val_loss: 0.1101 - val_accuracy: 0.9708 - lr: 2.4414e-07\n",
            "Epoch 17/30\n",
            "60/60 [==============================] - ETA: 0s - loss: 0.1167 - accuracy: 0.9706\n",
            "Epoch 00017: saving model to /content/drive/MyDrive/ASL_project/checkpoints/freeze_norm_trainingV1_2/cp.ckpt\n",
            "60/60 [==============================] - 484s 8s/step - loss: 0.1167 - accuracy: 0.9706 - val_loss: 0.1090 - val_accuracy: 0.9708 - lr: 2.4414e-07\n",
            "Epoch 18/30\n",
            "60/60 [==============================] - ETA: 0s - loss: 0.1142 - accuracy: 0.9724\n",
            "Epoch 00018: saving model to /content/drive/MyDrive/ASL_project/checkpoints/freeze_norm_trainingV1_2/cp.ckpt\n",
            "60/60 [==============================] - 483s 8s/step - loss: 0.1142 - accuracy: 0.9724 - val_loss: 0.1085 - val_accuracy: 0.9708 - lr: 2.4414e-07\n",
            "Epoch 19/30\n",
            "60/60 [==============================] - ETA: 0s - loss: 0.1100 - accuracy: 0.9716\n",
            "Epoch 00019: saving model to /content/drive/MyDrive/ASL_project/checkpoints/freeze_norm_trainingV1_2/cp.ckpt\n",
            "60/60 [==============================] - 492s 8s/step - loss: 0.1100 - accuracy: 0.9716 - val_loss: 0.1080 - val_accuracy: 0.9708 - lr: 2.4414e-07\n",
            "Epoch 20/30\n",
            "60/60 [==============================] - ETA: 0s - loss: 0.1192 - accuracy: 0.9719\n",
            "Epoch 00020: saving model to /content/drive/MyDrive/ASL_project/checkpoints/freeze_norm_trainingV1_2/cp.ckpt\n",
            "60/60 [==============================] - 468s 8s/step - loss: 0.1192 - accuracy: 0.9719 - val_loss: 0.1073 - val_accuracy: 0.9719 - lr: 2.4414e-07\n",
            "Epoch 21/30\n",
            "60/60 [==============================] - ETA: 0s - loss: 0.1055 - accuracy: 0.9727\n",
            "Epoch 00021: saving model to /content/drive/MyDrive/ASL_project/checkpoints/freeze_norm_trainingV1_2/cp.ckpt\n",
            "60/60 [==============================] - 481s 8s/step - loss: 0.1055 - accuracy: 0.9727 - val_loss: 0.1066 - val_accuracy: 0.9729 - lr: 2.4414e-07\n",
            "Epoch 22/30\n",
            "60/60 [==============================] - ETA: 0s - loss: 0.1021 - accuracy: 0.9732\n",
            "Epoch 00022: saving model to /content/drive/MyDrive/ASL_project/checkpoints/freeze_norm_trainingV1_2/cp.ckpt\n",
            "60/60 [==============================] - 473s 8s/step - loss: 0.1021 - accuracy: 0.9732 - val_loss: 0.1059 - val_accuracy: 0.9729 - lr: 2.4414e-07\n",
            "Epoch 23/30\n",
            "60/60 [==============================] - ETA: 0s - loss: 0.1140 - accuracy: 0.9701\n",
            "Epoch 00023: saving model to /content/drive/MyDrive/ASL_project/checkpoints/freeze_norm_trainingV1_2/cp.ckpt\n",
            "60/60 [==============================] - 465s 8s/step - loss: 0.1140 - accuracy: 0.9701 - val_loss: 0.1055 - val_accuracy: 0.9729 - lr: 2.4414e-07\n",
            "Epoch 24/30\n",
            "60/60 [==============================] - ETA: 0s - loss: 0.1020 - accuracy: 0.9747\n",
            "Epoch 00024: saving model to /content/drive/MyDrive/ASL_project/checkpoints/freeze_norm_trainingV1_2/cp.ckpt\n",
            "60/60 [==============================] - 470s 8s/step - loss: 0.1020 - accuracy: 0.9747 - val_loss: 0.1046 - val_accuracy: 0.9719 - lr: 2.4414e-07\n",
            "Epoch 25/30\n",
            "60/60 [==============================] - ETA: 0s - loss: 0.1017 - accuracy: 0.9729\n",
            "Epoch 00025: saving model to /content/drive/MyDrive/ASL_project/checkpoints/freeze_norm_trainingV1_2/cp.ckpt\n",
            "60/60 [==============================] - 472s 8s/step - loss: 0.1017 - accuracy: 0.9729 - val_loss: 0.1043 - val_accuracy: 0.9719 - lr: 2.4414e-07\n",
            "Epoch 26/30\n",
            "60/60 [==============================] - ETA: 0s - loss: 0.0973 - accuracy: 0.9750\n",
            "Epoch 00026: saving model to /content/drive/MyDrive/ASL_project/checkpoints/freeze_norm_trainingV1_2/cp.ckpt\n",
            "60/60 [==============================] - 465s 8s/step - loss: 0.0973 - accuracy: 0.9750 - val_loss: 0.1036 - val_accuracy: 0.9719 - lr: 2.4414e-07\n",
            "Epoch 27/30\n",
            "60/60 [==============================] - ETA: 0s - loss: 0.1057 - accuracy: 0.9714\n",
            "Epoch 00027: saving model to /content/drive/MyDrive/ASL_project/checkpoints/freeze_norm_trainingV1_2/cp.ckpt\n",
            "60/60 [==============================] - 486s 8s/step - loss: 0.1057 - accuracy: 0.9714 - val_loss: 0.1033 - val_accuracy: 0.9729 - lr: 2.4414e-07\n",
            "Epoch 28/30\n",
            "60/60 [==============================] - ETA: 0s - loss: 0.0949 - accuracy: 0.9771\n",
            "Epoch 00028: saving model to /content/drive/MyDrive/ASL_project/checkpoints/freeze_norm_trainingV1_2/cp.ckpt\n",
            "60/60 [==============================] - 475s 8s/step - loss: 0.0949 - accuracy: 0.9771 - val_loss: 0.1029 - val_accuracy: 0.9729 - lr: 2.4414e-07\n",
            "Epoch 29/30\n",
            "60/60 [==============================] - ETA: 0s - loss: 0.1015 - accuracy: 0.9760\n",
            "Epoch 00029: saving model to /content/drive/MyDrive/ASL_project/checkpoints/freeze_norm_trainingV1_2/cp.ckpt\n",
            "60/60 [==============================] - 477s 8s/step - loss: 0.1015 - accuracy: 0.9760 - val_loss: 0.1023 - val_accuracy: 0.9729 - lr: 2.4414e-07\n",
            "Epoch 30/30\n",
            "60/60 [==============================] - ETA: 0s - loss: 0.0973 - accuracy: 0.9737\n",
            "Epoch 00030: saving model to /content/drive/MyDrive/ASL_project/checkpoints/freeze_norm_trainingV1_2/cp.ckpt\n",
            "60/60 [==============================] - 473s 8s/step - loss: 0.0973 - accuracy: 0.9737 - val_loss: 0.1019 - val_accuracy: 0.9729 - lr: 2.4414e-07\n"
          ]
        }
      ]
    },
    {
      "cell_type": "code",
      "metadata": {
        "colab": {
          "base_uri": "https://localhost:8080/",
          "height": 295
        },
        "id": "vJLYJemX8zlX",
        "outputId": "11472654-06b9-4ffb-964f-91e40153fc6f"
      },
      "source": [
        "import matplotlib.pyplot as plt\n",
        "plt.plot(history.history['accuracy'])\n",
        "plt.plot(history.history['val_accuracy'])\n",
        "plt.title('model accuracy')\n",
        "plt.ylabel('accuracy')\n",
        "plt.xlabel('epoch')\n",
        "plt.legend(['train', 'Validation'], loc='upper left')\n",
        "plt.show()"
      ],
      "execution_count": null,
      "outputs": [
        {
          "output_type": "display_data",
          "data": {
            "image/png": "[encoded data removed]",
            "text/plain": [
              "<Figure size 432x288 with 1 Axes>"
            ]
          },
          "metadata": {
            "needs_background": "light"
          }
        }
      ]
    },
    {
      "cell_type": "code",
      "metadata": {
        "colab": {
          "base_uri": "https://localhost:8080/",
          "height": 295
        },
        "id": "zmfp-wzSm2Er",
        "outputId": "b811857d-513a-45d2-acf7-22d85a6a7aaa"
      },
      "source": [
        "# summarize history for loss\n",
        "\n",
        "plt.plot(history.history['loss'])\n",
        "plt.plot(history.history['val_loss'])\n",
        "plt.title('model loss')\n",
        "plt.ylabel('loss')\n",
        "plt.xlabel('epoch')\n",
        "plt.legend(['train', 'test'], loc='upper left')\n",
        "plt.show()"
      ],
      "execution_count": null,
      "outputs": [
        {
          "output_type": "display_data",
          "data": {
            "image/png": "[encoded data removed]",
            "text/plain": [
              "<Figure size 432x288 with 1 Axes>"
            ]
          },
          "metadata": {
            "needs_background": "light"
          }
        }
      ]
    },
    {
      "cell_type": "code",
      "metadata": {
        "id": "u-zUmdJE9Irl"
      },
      "source": [
        "#testing the best model on training set\n",
        "test_images = test_datagen.flow_from_directory(test_dir, class_mode='categorical', batch_size=1, target_size=target_size)"
      ],
      "execution_count": null,
      "outputs": []
    },
    {
      "cell_type": "code",
      "metadata": {
        "id": "tTgqDpis9JSd"
      },
      "source": [
        "test_loss, test_acc = model.evaluate(test_images, verbose=2)\n",
        "\n",
        "print('\\nTest accuracy:', test_acc)"
      ],
      "execution_count": null,
      "outputs": []
    },
    {
      "cell_type": "code",
      "metadata": {
        "colab": {
          "base_uri": "https://localhost:8080/"
        },
        "id": "53lgcUw_y08S",
        "outputId": "c67c233f-a12a-451b-d339-8b83b8d4125f"
      },
      "source": [
        "#Restoring the weights of the best model\n",
        "model.load_weights('/content/drive/MyDrive/ASL_project/checkpoints/norm_trainingV3_2/cp.ckpt')\n",
        "# Save the entire model as a SavedModel.\n",
        "model.save('/content/drive/MyDrive/ASL_project/saved_model/norm_trainingV3_2')\n",
        "#Lodaing the model\n",
        "model = tf.keras.models.load_model('/content/drive/MyDrive/ASL_project/saved_model/norm_trainingV3_2')\n",
        "\n",
        "# Check its architecture\n",
        "model.summary()"
      ],
      "execution_count": null,
      "outputs": [
        {
          "output_type": "stream",
          "name": "stdout",
          "text": [
            "INFO:tensorflow:Assets written to: /content/drive/MyDrive/ASL_project/saved_model/norm_trainingV3_2/assets\n"
          ]
        },
        {
          "output_type": "stream",
          "name": "stderr",
          "text": [
            "/usr/local/lib/python3.7/dist-packages/keras/engine/functional.py:1410: CustomMaskWarning: Custom mask layers require a config and must override get_config. When loading, the custom mask layer must be passed to the custom_objects argument.\n",
            "  layer_config = serialize_layer_fn(layer)\n",
            "/usr/local/lib/python3.7/dist-packages/keras/saving/saved_model/layer_serialization.py:112: CustomMaskWarning: Custom mask layers require a config and must override get_config. When loading, the custom mask layer must be passed to the custom_objects argument.\n",
            "  return generic_utils.serialize_keras_object(obj)\n"
          ]
        },
        {
          "output_type": "stream",
          "name": "stdout",
          "text": [
            "Model: \"sequential\"\n",
            "_________________________________________________________________\n",
            " Layer (type)                Output Shape              Param #   \n",
            "=================================================================\n",
            " resnet50v2 (Functional)     (None, 2, 2, 2048)        23564800  \n",
            "                                                                 \n",
            " global_average_pooling2d (G  (None, 2048)             0         \n",
            " lobalAveragePooling2D)                                          \n",
            "                                                                 \n",
            " dense (Dense)               (None, 24)                49176     \n",
            "                                                                 \n",
            "=================================================================\n",
            "Total params: 23,613,976\n",
            "Trainable params: 23,568,536\n",
            "Non-trainable params: 45,440\n",
            "_________________________________________________________________\n"
          ]
        }
      ]
    },
    {
      "cell_type": "code",
      "metadata": {
        "colab": {
          "base_uri": "https://localhost:8080/"
        },
        "id": "9otJw30uzH7m",
        "outputId": "cf48ef65-e11f-48e3-9463-51c2ec11f704"
      },
      "source": [
        "test_dir = '/content/drive/MyDrive/ASL_project/test_random'\n",
        "#The inputs pixel values are scaled between -1 and 1, sample-wise using resnet_v2.preprocess_input\n",
        "target_size=(64,64)\n",
        "test_datagen = ImageDataGenerator(preprocessing_function=tf.keras.applications.resnet_v2.preprocess_input,featurewise_center=True, featurewise_std_normalization=False)\n",
        "\n",
        "#testing the best model on training set\n",
        "test_images = test_datagen.flow_from_directory(test_dir, class_mode='categorical', batch_size=1, target_size=target_size)\n"
      ],
      "execution_count": null,
      "outputs": [
        {
          "output_type": "stream",
          "name": "stdout",
          "text": [
            "Found 240 images belonging to 24 classes.\n"
          ]
        }
      ]
    },
    {
      "cell_type": "code",
      "metadata": {
        "id": "BJPG_FkLVapi"
      },
      "source": [
        "#Function for capturing live image and making prediction\n",
        "from IPython.display import display, Javascript\n",
        "from google.colab.output import eval_js\n",
        "from base64 import b64decode\n",
        "\n",
        "def take_photo(filename='live/photo.png', quality=0.8):\n",
        "  js = Javascript('''\n",
        "    async function takePhoto(quality) {\n",
        "      const div = document.createElement('div');\n",
        "      const capture = document.createElement('button');\n",
        "      capture.textContent = 'Capture';\n",
        "      div.appendChild(capture);\n",
        "\n",
        "      const video = document.createElement('video');\n",
        "      video.style.display = 'block';\n",
        "      const stream = await navigator.mediaDevices.getUserMedia({video: true});\n",
        "\n",
        "      document.body.appendChild(div);\n",
        "      div.appendChild(video);\n",
        "      video.srcObject = stream;\n",
        "      await video.play();\n",
        "\n",
        "      // Resize the output to fit the video element.\n",
        "      google.colab.output.setIframeHeight(document.documentElement.scrollHeight, true);\n",
        "\n",
        "      // Wait for Capture to be clicked.\n",
        "      await new Promise((resolve) => capture.onclick = resolve);\n",
        "\n",
        "      const canvas = document.createElement('canvas');\n",
        "      canvas.width = video.videoWidth;\n",
        "      canvas.height = video.videoHeight;\n",
        "      canvas.getContext('2d').drawImage(video, 0, 0);\n",
        "      stream.getVideoTracks()[0].stop();\n",
        "      div.remove();\n",
        "      return canvas.toDataURL('image/jpeg', quality);\n",
        "    }\n",
        "    ''')\n",
        "  display(js)\n",
        "  data = eval_js('takePhoto({})'.format(quality))\n",
        "  binary = b64decode(data.split(',')[1])\n",
        "  with open(filename, 'wb') as f:\n",
        "    f.write(binary)\n",
        "  return filename"
      ],
      "execution_count": null,
      "outputs": []
    },
    {
      "cell_type": "code",
      "metadata": {
        "colab": {
          "base_uri": "https://localhost:8080/",
          "height": 514
        },
        "id": "RxHuJ_9QVapj",
        "outputId": "003c641c-6920-4944-e5a8-073693fd9a3f"
      },
      "source": [
        "#Saving the live image\n",
        "from IPython.display import Image\n",
        "try:\n",
        "  !mkdir -p live\n",
        "  filename = take_photo()\n",
        "  print('Saved to {}'.format(filename))\n",
        "  \n",
        "  # Show the image which was just taken.\n",
        "  display(Image(filename))\n",
        "except Exception as err:\n",
        "  # Errors will be thrown if the user does not have a webcam or if they do not\n",
        "  # grant the page permission to access it.\n",
        "  print(str(err))"
      ],
      "execution_count": null,
      "outputs": [
        {
          "output_type": "display_data",
          "data": {
            "application/javascript": [
              "\n",
              "    async function takePhoto(quality) {\n",
              "      const div = document.createElement('div');\n",
              "      const capture = document.createElement('button');\n",
              "      capture.textContent = 'Capture';\n",
              "      div.appendChild(capture);\n",
              "\n",
              "      const video = document.createElement('video');\n",
              "      video.style.display = 'block';\n",
              "      const stream = await navigator.mediaDevices.getUserMedia({video: true});\n",
              "\n",
              "      document.body.appendChild(div);\n",
              "      div.appendChild(video);\n",
              "      video.srcObject = stream;\n",
              "      await video.play();\n",
              "\n",
              "      // Resize the output to fit the video element.\n",
              "      google.colab.output.setIframeHeight(document.documentElement.scrollHeight, true);\n",
              "\n",
              "      // Wait for Capture to be clicked.\n",
              "      await new Promise((resolve) => capture.onclick = resolve);\n",
              "\n",
              "      const canvas = document.createElement('canvas');\n",
              "      canvas.width = video.videoWidth;\n",
              "      canvas.height = video.videoHeight;\n",
              "      canvas.getContext('2d').drawImage(video, 0, 0);\n",
              "      stream.getVideoTracks()[0].stop();\n",
              "      div.remove();\n",
              "      return canvas.toDataURL('image/jpeg', quality);\n",
              "    }\n",
              "    "
            ],
            "text/plain": [
              "<IPython.core.display.Javascript object>"
            ]
          },
          "metadata": {}
        },
        {
          "output_type": "stream",
          "name": "stdout",
          "text": [
            "Saved to live/photo.png\n"
          ]
        },
        {
          "output_type": "display_data",
          "data": {
            "image/png": "[encoded data removed]",
            "text/plain": [
              "<IPython.core.display.Image object>"
            ]
          },
          "metadata": {}
        }
      ]
    },
    {
      "cell_type": "code",
      "metadata": {
        "id": "XOjst-pUaGeW"
      },
      "source": [
        "#preprocessing the live image and reshaping\n",
        "from keras.preprocessing.image import load_img, img_to_array, ImageDataGenerator\n",
        "from keras.preprocessing import image\n",
        "\n",
        "test_image = image.load_img('live/photo.png', target_size=(64, 64))\n",
        "test_image = image.img_to_array(test_image)\n",
        "#test_image.reshape(1,64,64,3)\n",
        "test_image=np.expand_dims(test_image,0)"
      ],
      "execution_count": null,
      "outputs": []
    },
    {
      "cell_type": "code",
      "metadata": {
        "colab": {
          "base_uri": "https://localhost:8080/"
        },
        "id": "55tCfQGvelNx",
        "outputId": "a5d82ed3-41e5-4a5d-fb1d-8bedbaa5e2cb"
      },
      "source": [
        "test_image.shape"
      ],
      "execution_count": null,
      "outputs": [
        {
          "output_type": "execute_result",
          "data": {
            "text/plain": [
              "(1, 64, 64, 3)"
            ]
          },
          "metadata": {},
          "execution_count": 94
        }
      ]
    },
    {
      "cell_type": "code",
      "metadata": {
        "colab": {
          "base_uri": "https://localhost:8080/",
          "height": 269
        },
        "id": "N364ouxX1nYE",
        "outputId": "d2bc2733-c994-4450-8b4f-505f3522b6af"
      },
      "source": [
        "import matplotlib.pyplot as plt\n",
        "import matplotlib.image as mpimg\n",
        "img = mpimg.imread('live/photo.png',0)\n",
        "imgplot = plt.imshow(img)\n",
        "plt.show()"
      ],
      "execution_count": null,
      "outputs": [
        {
          "output_type": "display_data",
          "data": {
            "image/png": "[encoded data removed]",
            "text/plain": [
              "<Figure size 432x288 with 1 Axes>"
            ]
          },
          "metadata": {
            "needs_background": "light"
          }
        }
      ]
    },
    {
      "cell_type": "code",
      "metadata": {
        "id": "QmBjMAnBWiEo"
      },
      "source": [
        "#Applying the required remaining preprocessing operations\n",
        "test_datagen = ImageDataGenerator(rescale=1.0/255.0,featurewise_center=True, featurewise_std_normalization=False)"
      ],
      "execution_count": null,
      "outputs": []
    },
    {
      "cell_type": "code",
      "metadata": {
        "id": "ZV8lW4deYG3O"
      },
      "source": [
        "live_images = test_datagen.flow(test_image, batch_size=1)"
      ],
      "execution_count": null,
      "outputs": []
    },
    {
      "cell_type": "code",
      "metadata": {
        "colab": {
          "base_uri": "https://localhost:8080/"
        },
        "id": "KRWls-RmfBjy",
        "outputId": "1fb5403d-bab8-4db8-b4bd-59f8419b6d48"
      },
      "source": [
        "#making prediction\n",
        "prediction = model.predict(live_images)"
      ],
      "execution_count": null,
      "outputs": [
        {
          "output_type": "stream",
          "name": "stderr",
          "text": [
            "/usr/local/lib/python3.7/dist-packages/keras_preprocessing/image/image_data_generator.py:720: UserWarning: This ImageDataGenerator specifies `featurewise_center`, but it hasn't been fit on any training data. Fit it first by calling `.fit(numpy_data)`.\n",
            "  warnings.warn('This ImageDataGenerator specifies '\n"
          ]
        }
      ]
    },
    {
      "cell_type": "code",
      "metadata": {
        "colab": {
          "base_uri": "https://localhost:8080/"
        },
        "id": "jbZf19qRhBCL",
        "outputId": "06540455-1412-4225-80b6-d76a936d1085"
      },
      "source": [
        "#creating index to alphabet directory\n",
        "print(test_images.class_indices)\n",
        "ind_to_letter = dict((v,k) for k,v in test_images.class_indices.items())\n",
        "print(ind_to_letter)\n",
        "np.argmax(prediction[0])"
      ],
      "execution_count": null,
      "outputs": [
        {
          "output_type": "stream",
          "name": "stdout",
          "text": [
            "{'a': 0, 'b': 1, 'c': 2, 'd': 3, 'e': 4, 'f': 5, 'g': 6, 'h': 7, 'i': 8, 'k': 9, 'l': 10, 'm': 11, 'n': 12, 'o': 13, 'p': 14, 'q': 15, 'r': 16, 's': 17, 't': 18, 'u': 19, 'v': 20, 'w': 21, 'x': 22, 'y': 23}\n",
            "{0: 'a', 1: 'b', 2: 'c', 3: 'd', 4: 'e', 5: 'f', 6: 'g', 7: 'h', 8: 'i', 9: 'k', 10: 'l', 11: 'm', 12: 'n', 13: 'o', 14: 'p', 15: 'q', 16: 'r', 17: 's', 18: 't', 19: 'u', 20: 'v', 21: 'w', 22: 'x', 23: 'y'}\n"
          ]
        },
        {
          "output_type": "execute_result",
          "data": {
            "text/plain": [
              "2"
            ]
          },
          "metadata": {},
          "execution_count": 57
        }
      ]
    },
    {
      "cell_type": "code",
      "metadata": {
        "colab": {
          "base_uri": "https://localhost:8080/",
          "height": 340
        },
        "id": "VQpGnncfhZvs",
        "outputId": "e5081e7b-bbf7-48c8-b7fa-f0bdd8e55358"
      },
      "source": [
        "#Checking the prediction and printing results\n",
        "for img in live_images:\n",
        "    plt.imshow(img[0])\n",
        "    plt.show()\n",
        "    predicted_index=np.argmax(prediction[0])\n",
        "    print(\"Prediction:\",ind_to_letter[predicted_index])\n",
        "    break"
      ],
      "execution_count": null,
      "outputs": [
        {
          "output_type": "stream",
          "name": "stderr",
          "text": [
            "/usr/local/lib/python3.7/dist-packages/keras_preprocessing/image/image_data_generator.py:720: UserWarning: This ImageDataGenerator specifies `featurewise_center`, but it hasn't been fit on any training data. Fit it first by calling `.fit(numpy_data)`.\n",
            "  warnings.warn('This ImageDataGenerator specifies '\n"
          ]
        },
        {
          "output_type": "display_data",
          "data": {
            "image/png": "[encoded data removed]",
            "text/plain": [
              "<Figure size 432x288 with 1 Axes>"
            ]
          },
          "metadata": {
            "needs_background": "light"
          }
        },
        {
          "output_type": "stream",
          "name": "stdout",
          "text": [
            "Prediction: c\n"
          ]
        }
      ]
    }
  ]
}
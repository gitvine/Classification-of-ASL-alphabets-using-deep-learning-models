{
  "nbformat": 4,
  "nbformat_minor": 0,
  "metadata": {
    "colab": {
      "name": "Freeze_asl_mean_zcaV2.ipynb",
      "provenance": [],
      "collapsed_sections": []
    },
    "kernelspec": {
      "display_name": "Python 3",
      "name": "python3"
    },
    "language_info": {
      "name": "python"
    }
  },
  "cells": [
    {
      "cell_type": "markdown",
      "metadata": {
        "id": "1YgtyRU_1wJs"
      },
      "source": [
        "# ASL classification using ResNet50 with ZCA and layers freezing"
      ]
    },
    {
      "cell_type": "code",
      "metadata": {
        "colab": {
          "base_uri": "https://localhost:8080/"
        },
        "id": "Crgq2qpSLNEY",
        "outputId": "d1867199-d6c5-4272-eecc-491bc313c397"
      },
      "source": [
        "#mounting drive\n",
        "from google.colab import drive\n",
        "drive.mount('/content/drive')"
      ],
      "execution_count": null,
      "outputs": [
        {
          "output_type": "stream",
          "name": "stdout",
          "text": [
            "Mounted at /content/drive\n"
          ]
        }
      ]
    },
    {
      "cell_type": "code",
      "metadata": {
        "id": "esCf-pT6L5Ro"
      },
      "source": [
        "#importing libraries\n",
        "import numpy as np # linear algebra\n",
        "import pandas as pd # data processing, CSV file I/O (e.g. pd.read_csv)\n",
        "import os\n",
        "import shutil\n",
        "import glob\n",
        "import time\n",
        "import tensorflow as tf\n",
        "from pathlib import Path\n",
        "import sklearn\n",
        "from tensorflow import keras\n",
        "from tensorflow.keras.optimizers import Adam\n",
        "from tensorflow.keras.models import Model, load_model, Sequential\n",
        "from tensorflow.keras import backend as K\n",
        "from tensorflow.keras.metrics import categorical_crossentropy\n",
        "from tensorflow.keras.preprocessing.image import ImageDataGenerator\n",
        "import matplotlib.pyplot as plt"
      ],
      "execution_count": null,
      "outputs": []
    },
    {
      "cell_type": "markdown",
      "metadata": {
        "id": "8_N2aL3_3wTR"
      },
      "source": [
        "Preprocessing"
      ]
    },
    {
      "cell_type": "code",
      "metadata": {
        "id": "pMFnl-5nMB1f"
      },
      "source": [
        "#train_dir = '/content/drive/MyDrive/ASL_project/merged_dataset/train'\n",
        "train_dir = '/content/drive/MyDrive/ASL_project/training_shuffle_0_200'\n",
        "test_dir = '/content/drive/MyDrive/ASL_project/test_random'"
      ],
      "execution_count": null,
      "outputs": []
    },
    {
      "cell_type": "code",
      "metadata": {
        "colab": {
          "base_uri": "https://localhost:8080/"
        },
        "id": "z-LeECTZMbJX",
        "outputId": "9805a4ab-f81b-48af-b419-bab0fd209841"
      },
      "source": [
        "\n",
        "train_datagen = ImageDataGenerator(rescale=1.0/255.0,zca_whitening=True, validation_split=0.2)\n",
        "test_datagen = ImageDataGenerator(rescale=1.0/255.0,zca_whitening=True)"
      ],
      "execution_count": null,
      "outputs": [
        {
          "output_type": "stream",
          "name": "stderr",
          "text": [
            "/usr/local/lib/python3.7/dist-packages/keras_preprocessing/image/image_data_generator.py:337: UserWarning: This ImageDataGenerator specifies `zca_whitening`, which overrides setting of `featurewise_center`.\n",
            "  warnings.warn('This ImageDataGenerator specifies '\n"
          ]
        }
      ]
    },
    {
      "cell_type": "code",
      "metadata": {
        "id": "WlSLojObMfor"
      },
      "source": [
        "target_size=(64,64)\n",
        "batch_size=64"
      ],
      "execution_count": null,
      "outputs": []
    },
    {
      "cell_type": "code",
      "metadata": {
        "colab": {
          "base_uri": "https://localhost:8080/"
        },
        "id": "0E8EkQUe-q9E",
        "outputId": "6f91c440-91eb-4f16-8c54-1f026deb48c9"
      },
      "source": [
        "#To apply image augmentation we need a training set sample in an array\n",
        "import glob\n",
        "filelist = glob.glob(\"/content/drive/MyDrive/ASL_project/small_train_sample/**/*.png\",recursive = True)\n",
        "len(filelist)"
      ],
      "execution_count": null,
      "outputs": [
        {
          "output_type": "execute_result",
          "data": {
            "text/plain": [
              "192"
            ]
          },
          "metadata": {},
          "execution_count": 6
        }
      ]
    },
    {
      "cell_type": "code",
      "metadata": {
        "id": "fXI9iliQ-t-K"
      },
      "source": [
        "from PIL import Image\n",
        "x = np.array([np.array((Image.open(fname)).resize(size=(64, 64))) for fname in filelist])\n"
      ],
      "execution_count": null,
      "outputs": []
    },
    {
      "cell_type": "code",
      "metadata": {
        "id": "7TBuWMVk-wqc"
      },
      "source": [
        "# Compute principal components required for ZCA\n",
        "train_datagen.fit(x)\n",
        "test_datagen.fit(x)"
      ],
      "execution_count": null,
      "outputs": []
    },
    {
      "cell_type": "code",
      "metadata": {
        "colab": {
          "base_uri": "https://localhost:8080/"
        },
        "id": "Tofk3Rp8M1RS",
        "outputId": "7a992e80-a692-4608-d237-24d010ab9fd1"
      },
      "source": [
        "train_set = train_datagen.flow_from_directory(train_dir, subset='training', class_mode='categorical', batch_size=batch_size, shuffle=True, target_size=target_size)\n",
        "valid_set = train_datagen.flow_from_directory(train_dir, subset='validation', class_mode='categorical', batch_size=batch_size, shuffle=True, target_size=target_size)"
      ],
      "execution_count": null,
      "outputs": [
        {
          "output_type": "stream",
          "name": "stdout",
          "text": [
            "Found 3840 images belonging to 24 classes.\n",
            "Found 960 images belonging to 24 classes.\n"
          ]
        }
      ]
    },
    {
      "cell_type": "code",
      "metadata": {
        "colab": {
          "base_uri": "https://localhost:8080/"
        },
        "id": "MPNpiGw4gYHg",
        "outputId": "8f60c3fc-8a71-4339-d0ee-9f163216632b"
      },
      "source": [
        "#Creating a dictionary to map index to corresponding labels\n",
        "print(train_set.class_indices)\n",
        "ind_to_letter = dict((v,k) for k,v in train_set.class_indices.items())\n",
        "print(ind_to_letter)"
      ],
      "execution_count": null,
      "outputs": [
        {
          "output_type": "stream",
          "name": "stdout",
          "text": [
            "{'a': 0, 'b': 1, 'c': 2, 'd': 3, 'e': 4, 'f': 5, 'g': 6, 'h': 7, 'i': 8, 'k': 9, 'l': 10, 'm': 11, 'n': 12, 'o': 13, 'p': 14, 'q': 15, 'r': 16, 's': 17, 't': 18, 'u': 19, 'v': 20, 'w': 21, 'x': 22, 'y': 23}\n",
            "{0: 'a', 1: 'b', 2: 'c', 3: 'd', 4: 'e', 5: 'f', 6: 'g', 7: 'h', 8: 'i', 9: 'k', 10: 'l', 11: 'm', 12: 'n', 13: 'o', 14: 'p', 15: 'q', 16: 'r', 17: 's', 18: 't', 19: 'u', 20: 'v', 21: 'w', 22: 'x', 23: 'y'}\n"
          ]
        }
      ]
    },
    {
      "cell_type": "code",
      "metadata": {
        "colab": {
          "base_uri": "https://localhost:8080/",
          "height": 1000
        },
        "id": "Q_lwcO1VguBi",
        "outputId": "9f9adafd-c4ec-4a47-9148-0be225ee6fff"
      },
      "source": [
        "#Priniting some preprocessed images\n",
        "count=0\n",
        "for img,label in train_set:\n",
        "    count+=1\n",
        "    plt.imshow(img[0])  \n",
        "    plt.show()\n",
        "    actual_index=np.where(label[0]==1)[0]\n",
        "    print(\"Actual letter:\",ind_to_letter[actual_index[0]])\n",
        "    if(count>4):\n",
        "      break"
      ],
      "execution_count": null,
      "outputs": [
        {
          "output_type": "stream",
          "name": "stderr",
          "text": [
            "Clipping input data to the valid range for imshow with RGB data ([0..1] for floats or [0..255] for integers).\n"
          ]
        },
        {
          "output_type": "display_data",
          "data": {
            "image/png": "[encoded data removed]",
            "text/plain": [
              "<Figure size 432x288 with 1 Axes>"
            ]
          },
          "metadata": {
            "needs_background": "light"
          }
        },
        {
          "output_type": "stream",
          "name": "stdout",
          "text": [
            "Actual letter: r\n"
          ]
        },
        {
          "output_type": "stream",
          "name": "stderr",
          "text": [
            "Clipping input data to the valid range for imshow with RGB data ([0..1] for floats or [0..255] for integers).\n"
          ]
        },
        {
          "output_type": "display_data",
          "data": {
            "image/png": "[encoded data removed]",
            "text/plain": [
              "<Figure size 432x288 with 1 Axes>"
            ]
          },
          "metadata": {
            "needs_background": "light"
          }
        },
        {
          "output_type": "stream",
          "name": "stdout",
          "text": [
            "Actual letter: h\n"
          ]
        },
        {
          "output_type": "stream",
          "name": "stderr",
          "text": [
            "Clipping input data to the valid range for imshow with RGB data ([0..1] for floats or [0..255] for integers).\n"
          ]
        },
        {
          "output_type": "display_data",
          "data": {
            "image/png": "[encoded data removed]",
            "text/plain": [
              "<Figure size 432x288 with 1 Axes>"
            ]
          },
          "metadata": {
            "needs_background": "light"
          }
        },
        {
          "output_type": "stream",
          "name": "stdout",
          "text": [
            "Actual letter: c\n"
          ]
        },
        {
          "output_type": "stream",
          "name": "stderr",
          "text": [
            "Clipping input data to the valid range for imshow with RGB data ([0..1] for floats or [0..255] for integers).\n"
          ]
        },
        {
          "output_type": "display_data",
          "data": {
            "image/png": "[encoded data removed]",
            "text/plain": [
              "<Figure size 432x288 with 1 Axes>"
            ]
          },
          "metadata": {
            "needs_background": "light"
          }
        },
        {
          "output_type": "stream",
          "name": "stdout",
          "text": [
            "Actual letter: a\n"
          ]
        },
        {
          "output_type": "stream",
          "name": "stderr",
          "text": [
            "Clipping input data to the valid range for imshow with RGB data ([0..1] for floats or [0..255] for integers).\n"
          ]
        },
        {
          "output_type": "display_data",
          "data": {
            "image/png": "[encoded data removed]",
            "text/plain": [
              "<Figure size 432x288 with 1 Axes>"
            ]
          },
          "metadata": {
            "needs_background": "light"
          }
        },
        {
          "output_type": "stream",
          "name": "stdout",
          "text": [
            "Actual letter: i\n"
          ]
        }
      ]
    },
    {
      "cell_type": "markdown",
      "metadata": {
        "id": "dE8h30qH33I0"
      },
      "source": [
        "Model Download"
      ]
    },
    {
      "cell_type": "code",
      "metadata": {
        "id": "gHI7qGxAM430"
      },
      "source": [
        "#changing the input shape\n",
        "base_model = tf.keras.applications.ResNet50V2(include_top=False, input_shape=(64,64,3))"
      ],
      "execution_count": null,
      "outputs": []
    },
    {
      "cell_type": "code",
      "metadata": {
        "id": "ZxuoG-ZOYt9R"
      },
      "source": [
        "#Freezing layers\n",
        "for layer in base_model.layers[:99]:\n",
        "  layer.trainable=False"
      ],
      "execution_count": null,
      "outputs": []
    },
    {
      "cell_type": "code",
      "metadata": {
        "colab": {
          "base_uri": "https://localhost:8080/"
        },
        "id": "EmZrynAjYzAx",
        "outputId": "af560cbd-956f-4a15-ae2e-1e57e00605de"
      },
      "source": [
        "#Checking frozen layers\n",
        "for i,layer in enumerate(base_model.layers):\n",
        "  print(i,layer.name,\"-\", layer.trainable)"
      ],
      "execution_count": null,
      "outputs": [
        {
          "output_type": "stream",
          "name": "stdout",
          "text": [
            "0 input_2 - False\n",
            "1 conv1_pad - False\n",
            "2 conv1_conv - False\n",
            "3 pool1_pad - False\n",
            "4 pool1_pool - False\n",
            "5 conv2_block1_preact_bn - False\n",
            "6 conv2_block1_preact_relu - False\n",
            "7 conv2_block1_1_conv - False\n",
            "8 conv2_block1_1_bn - False\n",
            "9 conv2_block1_1_relu - False\n",
            "10 conv2_block1_2_pad - False\n",
            "11 conv2_block1_2_conv - False\n",
            "12 conv2_block1_2_bn - False\n",
            "13 conv2_block1_2_relu - False\n",
            "14 conv2_block1_0_conv - False\n",
            "15 conv2_block1_3_conv - False\n",
            "16 conv2_block1_out - False\n",
            "17 conv2_block2_preact_bn - False\n",
            "18 conv2_block2_preact_relu - False\n",
            "19 conv2_block2_1_conv - False\n",
            "20 conv2_block2_1_bn - False\n",
            "21 conv2_block2_1_relu - False\n",
            "22 conv2_block2_2_pad - False\n",
            "23 conv2_block2_2_conv - False\n",
            "24 conv2_block2_2_bn - False\n",
            "25 conv2_block2_2_relu - False\n",
            "26 conv2_block2_3_conv - False\n",
            "27 conv2_block2_out - False\n",
            "28 conv2_block3_preact_bn - False\n",
            "29 conv2_block3_preact_relu - False\n",
            "30 conv2_block3_1_conv - False\n",
            "31 conv2_block3_1_bn - False\n",
            "32 conv2_block3_1_relu - False\n",
            "33 conv2_block3_2_pad - False\n",
            "34 conv2_block3_2_conv - False\n",
            "35 conv2_block3_2_bn - False\n",
            "36 conv2_block3_2_relu - False\n",
            "37 max_pooling2d_3 - False\n",
            "38 conv2_block3_3_conv - False\n",
            "39 conv2_block3_out - False\n",
            "40 conv3_block1_preact_bn - False\n",
            "41 conv3_block1_preact_relu - False\n",
            "42 conv3_block1_1_conv - False\n",
            "43 conv3_block1_1_bn - False\n",
            "44 conv3_block1_1_relu - False\n",
            "45 conv3_block1_2_pad - False\n",
            "46 conv3_block1_2_conv - False\n",
            "47 conv3_block1_2_bn - False\n",
            "48 conv3_block1_2_relu - False\n",
            "49 conv3_block1_0_conv - False\n",
            "50 conv3_block1_3_conv - False\n",
            "51 conv3_block1_out - False\n",
            "52 conv3_block2_preact_bn - False\n",
            "53 conv3_block2_preact_relu - False\n",
            "54 conv3_block2_1_conv - False\n",
            "55 conv3_block2_1_bn - False\n",
            "56 conv3_block2_1_relu - False\n",
            "57 conv3_block2_2_pad - False\n",
            "58 conv3_block2_2_conv - False\n",
            "59 conv3_block2_2_bn - False\n",
            "60 conv3_block2_2_relu - False\n",
            "61 conv3_block2_3_conv - False\n",
            "62 conv3_block2_out - False\n",
            "63 conv3_block3_preact_bn - False\n",
            "64 conv3_block3_preact_relu - False\n",
            "65 conv3_block3_1_conv - False\n",
            "66 conv3_block3_1_bn - False\n",
            "67 conv3_block3_1_relu - False\n",
            "68 conv3_block3_2_pad - False\n",
            "69 conv3_block3_2_conv - False\n",
            "70 conv3_block3_2_bn - False\n",
            "71 conv3_block3_2_relu - False\n",
            "72 conv3_block3_3_conv - False\n",
            "73 conv3_block3_out - False\n",
            "74 conv3_block4_preact_bn - False\n",
            "75 conv3_block4_preact_relu - False\n",
            "76 conv3_block4_1_conv - False\n",
            "77 conv3_block4_1_bn - False\n",
            "78 conv3_block4_1_relu - False\n",
            "79 conv3_block4_2_pad - False\n",
            "80 conv3_block4_2_conv - False\n",
            "81 conv3_block4_2_bn - False\n",
            "82 conv3_block4_2_relu - False\n",
            "83 max_pooling2d_4 - False\n",
            "84 conv3_block4_3_conv - False\n",
            "85 conv3_block4_out - False\n",
            "86 conv4_block1_preact_bn - False\n",
            "87 conv4_block1_preact_relu - False\n",
            "88 conv4_block1_1_conv - False\n",
            "89 conv4_block1_1_bn - False\n",
            "90 conv4_block1_1_relu - False\n",
            "91 conv4_block1_2_pad - False\n",
            "92 conv4_block1_2_conv - False\n",
            "93 conv4_block1_2_bn - False\n",
            "94 conv4_block1_2_relu - False\n",
            "95 conv4_block1_0_conv - False\n",
            "96 conv4_block1_3_conv - False\n",
            "97 conv4_block1_out - False\n",
            "98 conv4_block2_preact_bn - False\n",
            "99 conv4_block2_preact_relu - True\n",
            "100 conv4_block2_1_conv - True\n",
            "101 conv4_block2_1_bn - True\n",
            "102 conv4_block2_1_relu - True\n",
            "103 conv4_block2_2_pad - True\n",
            "104 conv4_block2_2_conv - True\n",
            "105 conv4_block2_2_bn - True\n",
            "106 conv4_block2_2_relu - True\n",
            "107 conv4_block2_3_conv - True\n",
            "108 conv4_block2_out - True\n",
            "109 conv4_block3_preact_bn - True\n",
            "110 conv4_block3_preact_relu - True\n",
            "111 conv4_block3_1_conv - True\n",
            "112 conv4_block3_1_bn - True\n",
            "113 conv4_block3_1_relu - True\n",
            "114 conv4_block3_2_pad - True\n",
            "115 conv4_block3_2_conv - True\n",
            "116 conv4_block3_2_bn - True\n",
            "117 conv4_block3_2_relu - True\n",
            "118 conv4_block3_3_conv - True\n",
            "119 conv4_block3_out - True\n",
            "120 conv4_block4_preact_bn - True\n",
            "121 conv4_block4_preact_relu - True\n",
            "122 conv4_block4_1_conv - True\n",
            "123 conv4_block4_1_bn - True\n",
            "124 conv4_block4_1_relu - True\n",
            "125 conv4_block4_2_pad - True\n",
            "126 conv4_block4_2_conv - True\n",
            "127 conv4_block4_2_bn - True\n",
            "128 conv4_block4_2_relu - True\n",
            "129 conv4_block4_3_conv - True\n",
            "130 conv4_block4_out - True\n",
            "131 conv4_block5_preact_bn - True\n",
            "132 conv4_block5_preact_relu - True\n",
            "133 conv4_block5_1_conv - True\n",
            "134 conv4_block5_1_bn - True\n",
            "135 conv4_block5_1_relu - True\n",
            "136 conv4_block5_2_pad - True\n",
            "137 conv4_block5_2_conv - True\n",
            "138 conv4_block5_2_bn - True\n",
            "139 conv4_block5_2_relu - True\n",
            "140 conv4_block5_3_conv - True\n",
            "141 conv4_block5_out - True\n",
            "142 conv4_block6_preact_bn - True\n",
            "143 conv4_block6_preact_relu - True\n",
            "144 conv4_block6_1_conv - True\n",
            "145 conv4_block6_1_bn - True\n",
            "146 conv4_block6_1_relu - True\n",
            "147 conv4_block6_2_pad - True\n",
            "148 conv4_block6_2_conv - True\n",
            "149 conv4_block6_2_bn - True\n",
            "150 conv4_block6_2_relu - True\n",
            "151 max_pooling2d_5 - True\n",
            "152 conv4_block6_3_conv - True\n",
            "153 conv4_block6_out - True\n",
            "154 conv5_block1_preact_bn - True\n",
            "155 conv5_block1_preact_relu - True\n",
            "156 conv5_block1_1_conv - True\n",
            "157 conv5_block1_1_bn - True\n",
            "158 conv5_block1_1_relu - True\n",
            "159 conv5_block1_2_pad - True\n",
            "160 conv5_block1_2_conv - True\n",
            "161 conv5_block1_2_bn - True\n",
            "162 conv5_block1_2_relu - True\n",
            "163 conv5_block1_0_conv - True\n",
            "164 conv5_block1_3_conv - True\n",
            "165 conv5_block1_out - True\n",
            "166 conv5_block2_preact_bn - True\n",
            "167 conv5_block2_preact_relu - True\n",
            "168 conv5_block2_1_conv - True\n",
            "169 conv5_block2_1_bn - True\n",
            "170 conv5_block2_1_relu - True\n",
            "171 conv5_block2_2_pad - True\n",
            "172 conv5_block2_2_conv - True\n",
            "173 conv5_block2_2_bn - True\n",
            "174 conv5_block2_2_relu - True\n",
            "175 conv5_block2_3_conv - True\n",
            "176 conv5_block2_out - True\n",
            "177 conv5_block3_preact_bn - True\n",
            "178 conv5_block3_preact_relu - True\n",
            "179 conv5_block3_1_conv - True\n",
            "180 conv5_block3_1_bn - True\n",
            "181 conv5_block3_1_relu - True\n",
            "182 conv5_block3_2_pad - True\n",
            "183 conv5_block3_2_conv - True\n",
            "184 conv5_block3_2_bn - True\n",
            "185 conv5_block3_2_relu - True\n",
            "186 conv5_block3_3_conv - True\n",
            "187 conv5_block3_out - True\n",
            "188 post_bn - True\n",
            "189 post_relu - True\n"
          ]
        }
      ]
    },
    {
      "cell_type": "code",
      "metadata": {
        "colab": {
          "base_uri": "https://localhost:8080/"
        },
        "id": "y2VKXk8x8Csy",
        "outputId": "1f45b591-5934-4640-f5e6-bb8e9f782c1f"
      },
      "source": [
        "base_model.summary()"
      ],
      "execution_count": null,
      "outputs": [
        {
          "output_type": "stream",
          "name": "stdout",
          "text": [
            "Model: \"resnet50v2\"\n",
            "__________________________________________________________________________________________________\n",
            " Layer (type)                   Output Shape         Param #     Connected to                     \n",
            "==================================================================================================\n",
            " input_2 (InputLayer)           [(None, 64, 64, 3)]  0           []                               \n",
            "                                                                                                  \n",
            " conv1_pad (ZeroPadding2D)      (None, 70, 70, 3)    0           ['input_2[0][0]']                \n",
            "                                                                                                  \n",
            " conv1_conv (Conv2D)            (None, 32, 32, 64)   9472        ['conv1_pad[0][0]']              \n",
            "                                                                                                  \n",
            " pool1_pad (ZeroPadding2D)      (None, 34, 34, 64)   0           ['conv1_conv[0][0]']             \n",
            "                                                                                                  \n",
            " pool1_pool (MaxPooling2D)      (None, 16, 16, 64)   0           ['pool1_pad[0][0]']              \n",
            "                                                                                                  \n",
            " conv2_block1_preact_bn (BatchN  (None, 16, 16, 64)  256         ['pool1_pool[0][0]']             \n",
            " ormalization)                                                                                    \n",
            "                                                                                                  \n",
            " conv2_block1_preact_relu (Acti  (None, 16, 16, 64)  0           ['conv2_block1_preact_bn[0][0]'] \n",
            " vation)                                                                                          \n",
            "                                                                                                  \n",
            " conv2_block1_1_conv (Conv2D)   (None, 16, 16, 64)   4096        ['conv2_block1_preact_relu[0][0]'\n",
            "                                                                 ]                                \n",
            "                                                                                                  \n",
            " conv2_block1_1_bn (BatchNormal  (None, 16, 16, 64)  256         ['conv2_block1_1_conv[0][0]']    \n",
            " ization)                                                                                         \n",
            "                                                                                                  \n",
            " conv2_block1_1_relu (Activatio  (None, 16, 16, 64)  0           ['conv2_block1_1_bn[0][0]']      \n",
            " n)                                                                                               \n",
            "                                                                                                  \n",
            " conv2_block1_2_pad (ZeroPaddin  (None, 18, 18, 64)  0           ['conv2_block1_1_relu[0][0]']    \n",
            " g2D)                                                                                             \n",
            "                                                                                                  \n",
            " conv2_block1_2_conv (Conv2D)   (None, 16, 16, 64)   36864       ['conv2_block1_2_pad[0][0]']     \n",
            "                                                                                                  \n",
            " conv2_block1_2_bn (BatchNormal  (None, 16, 16, 64)  256         ['conv2_block1_2_conv[0][0]']    \n",
            " ization)                                                                                         \n",
            "                                                                                                  \n",
            " conv2_block1_2_relu (Activatio  (None, 16, 16, 64)  0           ['conv2_block1_2_bn[0][0]']      \n",
            " n)                                                                                               \n",
            "                                                                                                  \n",
            " conv2_block1_0_conv (Conv2D)   (None, 16, 16, 256)  16640       ['conv2_block1_preact_relu[0][0]'\n",
            "                                                                 ]                                \n",
            "                                                                                                  \n",
            " conv2_block1_3_conv (Conv2D)   (None, 16, 16, 256)  16640       ['conv2_block1_2_relu[0][0]']    \n",
            "                                                                                                  \n",
            " conv2_block1_out (Add)         (None, 16, 16, 256)  0           ['conv2_block1_0_conv[0][0]',    \n",
            "                                                                  'conv2_block1_3_conv[0][0]']    \n",
            "                                                                                                  \n",
            " conv2_block2_preact_bn (BatchN  (None, 16, 16, 256)  1024       ['conv2_block1_out[0][0]']       \n",
            " ormalization)                                                                                    \n",
            "                                                                                                  \n",
            " conv2_block2_preact_relu (Acti  (None, 16, 16, 256)  0          ['conv2_block2_preact_bn[0][0]'] \n",
            " vation)                                                                                          \n",
            "                                                                                                  \n",
            " conv2_block2_1_conv (Conv2D)   (None, 16, 16, 64)   16384       ['conv2_block2_preact_relu[0][0]'\n",
            "                                                                 ]                                \n",
            "                                                                                                  \n",
            " conv2_block2_1_bn (BatchNormal  (None, 16, 16, 64)  256         ['conv2_block2_1_conv[0][0]']    \n",
            " ization)                                                                                         \n",
            "                                                                                                  \n",
            " conv2_block2_1_relu (Activatio  (None, 16, 16, 64)  0           ['conv2_block2_1_bn[0][0]']      \n",
            " n)                                                                                               \n",
            "                                                                                                  \n",
            " conv2_block2_2_pad (ZeroPaddin  (None, 18, 18, 64)  0           ['conv2_block2_1_relu[0][0]']    \n",
            " g2D)                                                                                             \n",
            "                                                                                                  \n",
            " conv2_block2_2_conv (Conv2D)   (None, 16, 16, 64)   36864       ['conv2_block2_2_pad[0][0]']     \n",
            "                                                                                                  \n",
            " conv2_block2_2_bn (BatchNormal  (None, 16, 16, 64)  256         ['conv2_block2_2_conv[0][0]']    \n",
            " ization)                                                                                         \n",
            "                                                                                                  \n",
            " conv2_block2_2_relu (Activatio  (None, 16, 16, 64)  0           ['conv2_block2_2_bn[0][0]']      \n",
            " n)                                                                                               \n",
            "                                                                                                  \n",
            " conv2_block2_3_conv (Conv2D)   (None, 16, 16, 256)  16640       ['conv2_block2_2_relu[0][0]']    \n",
            "                                                                                                  \n",
            " conv2_block2_out (Add)         (None, 16, 16, 256)  0           ['conv2_block1_out[0][0]',       \n",
            "                                                                  'conv2_block2_3_conv[0][0]']    \n",
            "                                                                                                  \n",
            " conv2_block3_preact_bn (BatchN  (None, 16, 16, 256)  1024       ['conv2_block2_out[0][0]']       \n",
            " ormalization)                                                                                    \n",
            "                                                                                                  \n",
            " conv2_block3_preact_relu (Acti  (None, 16, 16, 256)  0          ['conv2_block3_preact_bn[0][0]'] \n",
            " vation)                                                                                          \n",
            "                                                                                                  \n",
            " conv2_block3_1_conv (Conv2D)   (None, 16, 16, 64)   16384       ['conv2_block3_preact_relu[0][0]'\n",
            "                                                                 ]                                \n",
            "                                                                                                  \n",
            " conv2_block3_1_bn (BatchNormal  (None, 16, 16, 64)  256         ['conv2_block3_1_conv[0][0]']    \n",
            " ization)                                                                                         \n",
            "                                                                                                  \n",
            " conv2_block3_1_relu (Activatio  (None, 16, 16, 64)  0           ['conv2_block3_1_bn[0][0]']      \n",
            " n)                                                                                               \n",
            "                                                                                                  \n",
            " conv2_block3_2_pad (ZeroPaddin  (None, 18, 18, 64)  0           ['conv2_block3_1_relu[0][0]']    \n",
            " g2D)                                                                                             \n",
            "                                                                                                  \n",
            " conv2_block3_2_conv (Conv2D)   (None, 8, 8, 64)     36864       ['conv2_block3_2_pad[0][0]']     \n",
            "                                                                                                  \n",
            " conv2_block3_2_bn (BatchNormal  (None, 8, 8, 64)    256         ['conv2_block3_2_conv[0][0]']    \n",
            " ization)                                                                                         \n",
            "                                                                                                  \n",
            " conv2_block3_2_relu (Activatio  (None, 8, 8, 64)    0           ['conv2_block3_2_bn[0][0]']      \n",
            " n)                                                                                               \n",
            "                                                                                                  \n",
            " max_pooling2d_3 (MaxPooling2D)  (None, 8, 8, 256)   0           ['conv2_block2_out[0][0]']       \n",
            "                                                                                                  \n",
            " conv2_block3_3_conv (Conv2D)   (None, 8, 8, 256)    16640       ['conv2_block3_2_relu[0][0]']    \n",
            "                                                                                                  \n",
            " conv2_block3_out (Add)         (None, 8, 8, 256)    0           ['max_pooling2d_3[0][0]',        \n",
            "                                                                  'conv2_block3_3_conv[0][0]']    \n",
            "                                                                                                  \n",
            " conv3_block1_preact_bn (BatchN  (None, 8, 8, 256)   1024        ['conv2_block3_out[0][0]']       \n",
            " ormalization)                                                                                    \n",
            "                                                                                                  \n",
            " conv3_block1_preact_relu (Acti  (None, 8, 8, 256)   0           ['conv3_block1_preact_bn[0][0]'] \n",
            " vation)                                                                                          \n",
            "                                                                                                  \n",
            " conv3_block1_1_conv (Conv2D)   (None, 8, 8, 128)    32768       ['conv3_block1_preact_relu[0][0]'\n",
            "                                                                 ]                                \n",
            "                                                                                                  \n",
            " conv3_block1_1_bn (BatchNormal  (None, 8, 8, 128)   512         ['conv3_block1_1_conv[0][0]']    \n",
            " ization)                                                                                         \n",
            "                                                                                                  \n",
            " conv3_block1_1_relu (Activatio  (None, 8, 8, 128)   0           ['conv3_block1_1_bn[0][0]']      \n",
            " n)                                                                                               \n",
            "                                                                                                  \n",
            " conv3_block1_2_pad (ZeroPaddin  (None, 10, 10, 128)  0          ['conv3_block1_1_relu[0][0]']    \n",
            " g2D)                                                                                             \n",
            "                                                                                                  \n",
            " conv3_block1_2_conv (Conv2D)   (None, 8, 8, 128)    147456      ['conv3_block1_2_pad[0][0]']     \n",
            "                                                                                                  \n",
            " conv3_block1_2_bn (BatchNormal  (None, 8, 8, 128)   512         ['conv3_block1_2_conv[0][0]']    \n",
            " ization)                                                                                         \n",
            "                                                                                                  \n",
            " conv3_block1_2_relu (Activatio  (None, 8, 8, 128)   0           ['conv3_block1_2_bn[0][0]']      \n",
            " n)                                                                                               \n",
            "                                                                                                  \n",
            " conv3_block1_0_conv (Conv2D)   (None, 8, 8, 512)    131584      ['conv3_block1_preact_relu[0][0]'\n",
            "                                                                 ]                                \n",
            "                                                                                                  \n",
            " conv3_block1_3_conv (Conv2D)   (None, 8, 8, 512)    66048       ['conv3_block1_2_relu[0][0]']    \n",
            "                                                                                                  \n",
            " conv3_block1_out (Add)         (None, 8, 8, 512)    0           ['conv3_block1_0_conv[0][0]',    \n",
            "                                                                  'conv3_block1_3_conv[0][0]']    \n",
            "                                                                                                  \n",
            " conv3_block2_preact_bn (BatchN  (None, 8, 8, 512)   2048        ['conv3_block1_out[0][0]']       \n",
            " ormalization)                                                                                    \n",
            "                                                                                                  \n",
            " conv3_block2_preact_relu (Acti  (None, 8, 8, 512)   0           ['conv3_block2_preact_bn[0][0]'] \n",
            " vation)                                                                                          \n",
            "                                                                                                  \n",
            " conv3_block2_1_conv (Conv2D)   (None, 8, 8, 128)    65536       ['conv3_block2_preact_relu[0][0]'\n",
            "                                                                 ]                                \n",
            "                                                                                                  \n",
            " conv3_block2_1_bn (BatchNormal  (None, 8, 8, 128)   512         ['conv3_block2_1_conv[0][0]']    \n",
            " ization)                                                                                         \n",
            "                                                                                                  \n",
            " conv3_block2_1_relu (Activatio  (None, 8, 8, 128)   0           ['conv3_block2_1_bn[0][0]']      \n",
            " n)                                                                                               \n",
            "                                                                                                  \n",
            " conv3_block2_2_pad (ZeroPaddin  (None, 10, 10, 128)  0          ['conv3_block2_1_relu[0][0]']    \n",
            " g2D)                                                                                             \n",
            "                                                                                                  \n",
            " conv3_block2_2_conv (Conv2D)   (None, 8, 8, 128)    147456      ['conv3_block2_2_pad[0][0]']     \n",
            "                                                                                                  \n",
            " conv3_block2_2_bn (BatchNormal  (None, 8, 8, 128)   512         ['conv3_block2_2_conv[0][0]']    \n",
            " ization)                                                                                         \n",
            "                                                                                                  \n",
            " conv3_block2_2_relu (Activatio  (None, 8, 8, 128)   0           ['conv3_block2_2_bn[0][0]']      \n",
            " n)                                                                                               \n",
            "                                                                                                  \n",
            " conv3_block2_3_conv (Conv2D)   (None, 8, 8, 512)    66048       ['conv3_block2_2_relu[0][0]']    \n",
            "                                                                                                  \n",
            " conv3_block2_out (Add)         (None, 8, 8, 512)    0           ['conv3_block1_out[0][0]',       \n",
            "                                                                  'conv3_block2_3_conv[0][0]']    \n",
            "                                                                                                  \n",
            " conv3_block3_preact_bn (BatchN  (None, 8, 8, 512)   2048        ['conv3_block2_out[0][0]']       \n",
            " ormalization)                                                                                    \n",
            "                                                                                                  \n",
            " conv3_block3_preact_relu (Acti  (None, 8, 8, 512)   0           ['conv3_block3_preact_bn[0][0]'] \n",
            " vation)                                                                                          \n",
            "                                                                                                  \n",
            " conv3_block3_1_conv (Conv2D)   (None, 8, 8, 128)    65536       ['conv3_block3_preact_relu[0][0]'\n",
            "                                                                 ]                                \n",
            "                                                                                                  \n",
            " conv3_block3_1_bn (BatchNormal  (None, 8, 8, 128)   512         ['conv3_block3_1_conv[0][0]']    \n",
            " ization)                                                                                         \n",
            "                                                                                                  \n",
            " conv3_block3_1_relu (Activatio  (None, 8, 8, 128)   0           ['conv3_block3_1_bn[0][0]']      \n",
            " n)                                                                                               \n",
            "                                                                                                  \n",
            " conv3_block3_2_pad (ZeroPaddin  (None, 10, 10, 128)  0          ['conv3_block3_1_relu[0][0]']    \n",
            " g2D)                                                                                             \n",
            "                                                                                                  \n",
            " conv3_block3_2_conv (Conv2D)   (None, 8, 8, 128)    147456      ['conv3_block3_2_pad[0][0]']     \n",
            "                                                                                                  \n",
            " conv3_block3_2_bn (BatchNormal  (None, 8, 8, 128)   512         ['conv3_block3_2_conv[0][0]']    \n",
            " ization)                                                                                         \n",
            "                                                                                                  \n",
            " conv3_block3_2_relu (Activatio  (None, 8, 8, 128)   0           ['conv3_block3_2_bn[0][0]']      \n",
            " n)                                                                                               \n",
            "                                                                                                  \n",
            " conv3_block3_3_conv (Conv2D)   (None, 8, 8, 512)    66048       ['conv3_block3_2_relu[0][0]']    \n",
            "                                                                                                  \n",
            " conv3_block3_out (Add)         (None, 8, 8, 512)    0           ['conv3_block2_out[0][0]',       \n",
            "                                                                  'conv3_block3_3_conv[0][0]']    \n",
            "                                                                                                  \n",
            " conv3_block4_preact_bn (BatchN  (None, 8, 8, 512)   2048        ['conv3_block3_out[0][0]']       \n",
            " ormalization)                                                                                    \n",
            "                                                                                                  \n",
            " conv3_block4_preact_relu (Acti  (None, 8, 8, 512)   0           ['conv3_block4_preact_bn[0][0]'] \n",
            " vation)                                                                                          \n",
            "                                                                                                  \n",
            " conv3_block4_1_conv (Conv2D)   (None, 8, 8, 128)    65536       ['conv3_block4_preact_relu[0][0]'\n",
            "                                                                 ]                                \n",
            "                                                                                                  \n",
            " conv3_block4_1_bn (BatchNormal  (None, 8, 8, 128)   512         ['conv3_block4_1_conv[0][0]']    \n",
            " ization)                                                                                         \n",
            "                                                                                                  \n",
            " conv3_block4_1_relu (Activatio  (None, 8, 8, 128)   0           ['conv3_block4_1_bn[0][0]']      \n",
            " n)                                                                                               \n",
            "                                                                                                  \n",
            " conv3_block4_2_pad (ZeroPaddin  (None, 10, 10, 128)  0          ['conv3_block4_1_relu[0][0]']    \n",
            " g2D)                                                                                             \n",
            "                                                                                                  \n",
            " conv3_block4_2_conv (Conv2D)   (None, 4, 4, 128)    147456      ['conv3_block4_2_pad[0][0]']     \n",
            "                                                                                                  \n",
            " conv3_block4_2_bn (BatchNormal  (None, 4, 4, 128)   512         ['conv3_block4_2_conv[0][0]']    \n",
            " ization)                                                                                         \n",
            "                                                                                                  \n",
            " conv3_block4_2_relu (Activatio  (None, 4, 4, 128)   0           ['conv3_block4_2_bn[0][0]']      \n",
            " n)                                                                                               \n",
            "                                                                                                  \n",
            " max_pooling2d_4 (MaxPooling2D)  (None, 4, 4, 512)   0           ['conv3_block3_out[0][0]']       \n",
            "                                                                                                  \n",
            " conv3_block4_3_conv (Conv2D)   (None, 4, 4, 512)    66048       ['conv3_block4_2_relu[0][0]']    \n",
            "                                                                                                  \n",
            " conv3_block4_out (Add)         (None, 4, 4, 512)    0           ['max_pooling2d_4[0][0]',        \n",
            "                                                                  'conv3_block4_3_conv[0][0]']    \n",
            "                                                                                                  \n",
            " conv4_block1_preact_bn (BatchN  (None, 4, 4, 512)   2048        ['conv3_block4_out[0][0]']       \n",
            " ormalization)                                                                                    \n",
            "                                                                                                  \n",
            " conv4_block1_preact_relu (Acti  (None, 4, 4, 512)   0           ['conv4_block1_preact_bn[0][0]'] \n",
            " vation)                                                                                          \n",
            "                                                                                                  \n",
            " conv4_block1_1_conv (Conv2D)   (None, 4, 4, 256)    131072      ['conv4_block1_preact_relu[0][0]'\n",
            "                                                                 ]                                \n",
            "                                                                                                  \n",
            " conv4_block1_1_bn (BatchNormal  (None, 4, 4, 256)   1024        ['conv4_block1_1_conv[0][0]']    \n",
            " ization)                                                                                         \n",
            "                                                                                                  \n",
            " conv4_block1_1_relu (Activatio  (None, 4, 4, 256)   0           ['conv4_block1_1_bn[0][0]']      \n",
            " n)                                                                                               \n",
            "                                                                                                  \n",
            " conv4_block1_2_pad (ZeroPaddin  (None, 6, 6, 256)   0           ['conv4_block1_1_relu[0][0]']    \n",
            " g2D)                                                                                             \n",
            "                                                                                                  \n",
            " conv4_block1_2_conv (Conv2D)   (None, 4, 4, 256)    589824      ['conv4_block1_2_pad[0][0]']     \n",
            "                                                                                                  \n",
            " conv4_block1_2_bn (BatchNormal  (None, 4, 4, 256)   1024        ['conv4_block1_2_conv[0][0]']    \n",
            " ization)                                                                                         \n",
            "                                                                                                  \n",
            " conv4_block1_2_relu (Activatio  (None, 4, 4, 256)   0           ['conv4_block1_2_bn[0][0]']      \n",
            " n)                                                                                               \n",
            "                                                                                                  \n",
            " conv4_block1_0_conv (Conv2D)   (None, 4, 4, 1024)   525312      ['conv4_block1_preact_relu[0][0]'\n",
            "                                                                 ]                                \n",
            "                                                                                                  \n",
            " conv4_block1_3_conv (Conv2D)   (None, 4, 4, 1024)   263168      ['conv4_block1_2_relu[0][0]']    \n",
            "                                                                                                  \n",
            " conv4_block1_out (Add)         (None, 4, 4, 1024)   0           ['conv4_block1_0_conv[0][0]',    \n",
            "                                                                  'conv4_block1_3_conv[0][0]']    \n",
            "                                                                                                  \n",
            " conv4_block2_preact_bn (BatchN  (None, 4, 4, 1024)  4096        ['conv4_block1_out[0][0]']       \n",
            " ormalization)                                                                                    \n",
            "                                                                                                  \n",
            " conv4_block2_preact_relu (Acti  (None, 4, 4, 1024)  0           ['conv4_block2_preact_bn[0][0]'] \n",
            " vation)                                                                                          \n",
            "                                                                                                  \n",
            " conv4_block2_1_conv (Conv2D)   (None, 4, 4, 256)    262144      ['conv4_block2_preact_relu[0][0]'\n",
            "                                                                 ]                                \n",
            "                                                                                                  \n",
            " conv4_block2_1_bn (BatchNormal  (None, 4, 4, 256)   1024        ['conv4_block2_1_conv[0][0]']    \n",
            " ization)                                                                                         \n",
            "                                                                                                  \n",
            " conv4_block2_1_relu (Activatio  (None, 4, 4, 256)   0           ['conv4_block2_1_bn[0][0]']      \n",
            " n)                                                                                               \n",
            "                                                                                                  \n",
            " conv4_block2_2_pad (ZeroPaddin  (None, 6, 6, 256)   0           ['conv4_block2_1_relu[0][0]']    \n",
            " g2D)                                                                                             \n",
            "                                                                                                  \n",
            " conv4_block2_2_conv (Conv2D)   (None, 4, 4, 256)    589824      ['conv4_block2_2_pad[0][0]']     \n",
            "                                                                                                  \n",
            " conv4_block2_2_bn (BatchNormal  (None, 4, 4, 256)   1024        ['conv4_block2_2_conv[0][0]']    \n",
            " ization)                                                                                         \n",
            "                                                                                                  \n",
            " conv4_block2_2_relu (Activatio  (None, 4, 4, 256)   0           ['conv4_block2_2_bn[0][0]']      \n",
            " n)                                                                                               \n",
            "                                                                                                  \n",
            " conv4_block2_3_conv (Conv2D)   (None, 4, 4, 1024)   263168      ['conv4_block2_2_relu[0][0]']    \n",
            "                                                                                                  \n",
            " conv4_block2_out (Add)         (None, 4, 4, 1024)   0           ['conv4_block1_out[0][0]',       \n",
            "                                                                  'conv4_block2_3_conv[0][0]']    \n",
            "                                                                                                  \n",
            " conv4_block3_preact_bn (BatchN  (None, 4, 4, 1024)  4096        ['conv4_block2_out[0][0]']       \n",
            " ormalization)                                                                                    \n",
            "                                                                                                  \n",
            " conv4_block3_preact_relu (Acti  (None, 4, 4, 1024)  0           ['conv4_block3_preact_bn[0][0]'] \n",
            " vation)                                                                                          \n",
            "                                                                                                  \n",
            " conv4_block3_1_conv (Conv2D)   (None, 4, 4, 256)    262144      ['conv4_block3_preact_relu[0][0]'\n",
            "                                                                 ]                                \n",
            "                                                                                                  \n",
            " conv4_block3_1_bn (BatchNormal  (None, 4, 4, 256)   1024        ['conv4_block3_1_conv[0][0]']    \n",
            " ization)                                                                                         \n",
            "                                                                                                  \n",
            " conv4_block3_1_relu (Activatio  (None, 4, 4, 256)   0           ['conv4_block3_1_bn[0][0]']      \n",
            " n)                                                                                               \n",
            "                                                                                                  \n",
            " conv4_block3_2_pad (ZeroPaddin  (None, 6, 6, 256)   0           ['conv4_block3_1_relu[0][0]']    \n",
            " g2D)                                                                                             \n",
            "                                                                                                  \n",
            " conv4_block3_2_conv (Conv2D)   (None, 4, 4, 256)    589824      ['conv4_block3_2_pad[0][0]']     \n",
            "                                                                                                  \n",
            " conv4_block3_2_bn (BatchNormal  (None, 4, 4, 256)   1024        ['conv4_block3_2_conv[0][0]']    \n",
            " ization)                                                                                         \n",
            "                                                                                                  \n",
            " conv4_block3_2_relu (Activatio  (None, 4, 4, 256)   0           ['conv4_block3_2_bn[0][0]']      \n",
            " n)                                                                                               \n",
            "                                                                                                  \n",
            " conv4_block3_3_conv (Conv2D)   (None, 4, 4, 1024)   263168      ['conv4_block3_2_relu[0][0]']    \n",
            "                                                                                                  \n",
            " conv4_block3_out (Add)         (None, 4, 4, 1024)   0           ['conv4_block2_out[0][0]',       \n",
            "                                                                  'conv4_block3_3_conv[0][0]']    \n",
            "                                                                                                  \n",
            " conv4_block4_preact_bn (BatchN  (None, 4, 4, 1024)  4096        ['conv4_block3_out[0][0]']       \n",
            " ormalization)                                                                                    \n",
            "                                                                                                  \n",
            " conv4_block4_preact_relu (Acti  (None, 4, 4, 1024)  0           ['conv4_block4_preact_bn[0][0]'] \n",
            " vation)                                                                                          \n",
            "                                                                                                  \n",
            " conv4_block4_1_conv (Conv2D)   (None, 4, 4, 256)    262144      ['conv4_block4_preact_relu[0][0]'\n",
            "                                                                 ]                                \n",
            "                                                                                                  \n",
            " conv4_block4_1_bn (BatchNormal  (None, 4, 4, 256)   1024        ['conv4_block4_1_conv[0][0]']    \n",
            " ization)                                                                                         \n",
            "                                                                                                  \n",
            " conv4_block4_1_relu (Activatio  (None, 4, 4, 256)   0           ['conv4_block4_1_bn[0][0]']      \n",
            " n)                                                                                               \n",
            "                                                                                                  \n",
            " conv4_block4_2_pad (ZeroPaddin  (None, 6, 6, 256)   0           ['conv4_block4_1_relu[0][0]']    \n",
            " g2D)                                                                                             \n",
            "                                                                                                  \n",
            " conv4_block4_2_conv (Conv2D)   (None, 4, 4, 256)    589824      ['conv4_block4_2_pad[0][0]']     \n",
            "                                                                                                  \n",
            " conv4_block4_2_bn (BatchNormal  (None, 4, 4, 256)   1024        ['conv4_block4_2_conv[0][0]']    \n",
            " ization)                                                                                         \n",
            "                                                                                                  \n",
            " conv4_block4_2_relu (Activatio  (None, 4, 4, 256)   0           ['conv4_block4_2_bn[0][0]']      \n",
            " n)                                                                                               \n",
            "                                                                                                  \n",
            " conv4_block4_3_conv (Conv2D)   (None, 4, 4, 1024)   263168      ['conv4_block4_2_relu[0][0]']    \n",
            "                                                                                                  \n",
            " conv4_block4_out (Add)         (None, 4, 4, 1024)   0           ['conv4_block3_out[0][0]',       \n",
            "                                                                  'conv4_block4_3_conv[0][0]']    \n",
            "                                                                                                  \n",
            " conv4_block5_preact_bn (BatchN  (None, 4, 4, 1024)  4096        ['conv4_block4_out[0][0]']       \n",
            " ormalization)                                                                                    \n",
            "                                                                                                  \n",
            " conv4_block5_preact_relu (Acti  (None, 4, 4, 1024)  0           ['conv4_block5_preact_bn[0][0]'] \n",
            " vation)                                                                                          \n",
            "                                                                                                  \n",
            " conv4_block5_1_conv (Conv2D)   (None, 4, 4, 256)    262144      ['conv4_block5_preact_relu[0][0]'\n",
            "                                                                 ]                                \n",
            "                                                                                                  \n",
            " conv4_block5_1_bn (BatchNormal  (None, 4, 4, 256)   1024        ['conv4_block5_1_conv[0][0]']    \n",
            " ization)                                                                                         \n",
            "                                                                                                  \n",
            " conv4_block5_1_relu (Activatio  (None, 4, 4, 256)   0           ['conv4_block5_1_bn[0][0]']      \n",
            " n)                                                                                               \n",
            "                                                                                                  \n",
            " conv4_block5_2_pad (ZeroPaddin  (None, 6, 6, 256)   0           ['conv4_block5_1_relu[0][0]']    \n",
            " g2D)                                                                                             \n",
            "                                                                                                  \n",
            " conv4_block5_2_conv (Conv2D)   (None, 4, 4, 256)    589824      ['conv4_block5_2_pad[0][0]']     \n",
            "                                                                                                  \n",
            " conv4_block5_2_bn (BatchNormal  (None, 4, 4, 256)   1024        ['conv4_block5_2_conv[0][0]']    \n",
            " ization)                                                                                         \n",
            "                                                                                                  \n",
            " conv4_block5_2_relu (Activatio  (None, 4, 4, 256)   0           ['conv4_block5_2_bn[0][0]']      \n",
            " n)                                                                                               \n",
            "                                                                                                  \n",
            " conv4_block5_3_conv (Conv2D)   (None, 4, 4, 1024)   263168      ['conv4_block5_2_relu[0][0]']    \n",
            "                                                                                                  \n",
            " conv4_block5_out (Add)         (None, 4, 4, 1024)   0           ['conv4_block4_out[0][0]',       \n",
            "                                                                  'conv4_block5_3_conv[0][0]']    \n",
            "                                                                                                  \n",
            " conv4_block6_preact_bn (BatchN  (None, 4, 4, 1024)  4096        ['conv4_block5_out[0][0]']       \n",
            " ormalization)                                                                                    \n",
            "                                                                                                  \n",
            " conv4_block6_preact_relu (Acti  (None, 4, 4, 1024)  0           ['conv4_block6_preact_bn[0][0]'] \n",
            " vation)                                                                                          \n",
            "                                                                                                  \n",
            " conv4_block6_1_conv (Conv2D)   (None, 4, 4, 256)    262144      ['conv4_block6_preact_relu[0][0]'\n",
            "                                                                 ]                                \n",
            "                                                                                                  \n",
            " conv4_block6_1_bn (BatchNormal  (None, 4, 4, 256)   1024        ['conv4_block6_1_conv[0][0]']    \n",
            " ization)                                                                                         \n",
            "                                                                                                  \n",
            " conv4_block6_1_relu (Activatio  (None, 4, 4, 256)   0           ['conv4_block6_1_bn[0][0]']      \n",
            " n)                                                                                               \n",
            "                                                                                                  \n",
            " conv4_block6_2_pad (ZeroPaddin  (None, 6, 6, 256)   0           ['conv4_block6_1_relu[0][0]']    \n",
            " g2D)                                                                                             \n",
            "                                                                                                  \n",
            " conv4_block6_2_conv (Conv2D)   (None, 2, 2, 256)    589824      ['conv4_block6_2_pad[0][0]']     \n",
            "                                                                                                  \n",
            " conv4_block6_2_bn (BatchNormal  (None, 2, 2, 256)   1024        ['conv4_block6_2_conv[0][0]']    \n",
            " ization)                                                                                         \n",
            "                                                                                                  \n",
            " conv4_block6_2_relu (Activatio  (None, 2, 2, 256)   0           ['conv4_block6_2_bn[0][0]']      \n",
            " n)                                                                                               \n",
            "                                                                                                  \n",
            " max_pooling2d_5 (MaxPooling2D)  (None, 2, 2, 1024)  0           ['conv4_block5_out[0][0]']       \n",
            "                                                                                                  \n",
            " conv4_block6_3_conv (Conv2D)   (None, 2, 2, 1024)   263168      ['conv4_block6_2_relu[0][0]']    \n",
            "                                                                                                  \n",
            " conv4_block6_out (Add)         (None, 2, 2, 1024)   0           ['max_pooling2d_5[0][0]',        \n",
            "                                                                  'conv4_block6_3_conv[0][0]']    \n",
            "                                                                                                  \n",
            " conv5_block1_preact_bn (BatchN  (None, 2, 2, 1024)  4096        ['conv4_block6_out[0][0]']       \n",
            " ormalization)                                                                                    \n",
            "                                                                                                  \n",
            " conv5_block1_preact_relu (Acti  (None, 2, 2, 1024)  0           ['conv5_block1_preact_bn[0][0]'] \n",
            " vation)                                                                                          \n",
            "                                                                                                  \n",
            " conv5_block1_1_conv (Conv2D)   (None, 2, 2, 512)    524288      ['conv5_block1_preact_relu[0][0]'\n",
            "                                                                 ]                                \n",
            "                                                                                                  \n",
            " conv5_block1_1_bn (BatchNormal  (None, 2, 2, 512)   2048        ['conv5_block1_1_conv[0][0]']    \n",
            " ization)                                                                                         \n",
            "                                                                                                  \n",
            " conv5_block1_1_relu (Activatio  (None, 2, 2, 512)   0           ['conv5_block1_1_bn[0][0]']      \n",
            " n)                                                                                               \n",
            "                                                                                                  \n",
            " conv5_block1_2_pad (ZeroPaddin  (None, 4, 4, 512)   0           ['conv5_block1_1_relu[0][0]']    \n",
            " g2D)                                                                                             \n",
            "                                                                                                  \n",
            " conv5_block1_2_conv (Conv2D)   (None, 2, 2, 512)    2359296     ['conv5_block1_2_pad[0][0]']     \n",
            "                                                                                                  \n",
            " conv5_block1_2_bn (BatchNormal  (None, 2, 2, 512)   2048        ['conv5_block1_2_conv[0][0]']    \n",
            " ization)                                                                                         \n",
            "                                                                                                  \n",
            " conv5_block1_2_relu (Activatio  (None, 2, 2, 512)   0           ['conv5_block1_2_bn[0][0]']      \n",
            " n)                                                                                               \n",
            "                                                                                                  \n",
            " conv5_block1_0_conv (Conv2D)   (None, 2, 2, 2048)   2099200     ['conv5_block1_preact_relu[0][0]'\n",
            "                                                                 ]                                \n",
            "                                                                                                  \n",
            " conv5_block1_3_conv (Conv2D)   (None, 2, 2, 2048)   1050624     ['conv5_block1_2_relu[0][0]']    \n",
            "                                                                                                  \n",
            " conv5_block1_out (Add)         (None, 2, 2, 2048)   0           ['conv5_block1_0_conv[0][0]',    \n",
            "                                                                  'conv5_block1_3_conv[0][0]']    \n",
            "                                                                                                  \n",
            " conv5_block2_preact_bn (BatchN  (None, 2, 2, 2048)  8192        ['conv5_block1_out[0][0]']       \n",
            " ormalization)                                                                                    \n",
            "                                                                                                  \n",
            " conv5_block2_preact_relu (Acti  (None, 2, 2, 2048)  0           ['conv5_block2_preact_bn[0][0]'] \n",
            " vation)                                                                                          \n",
            "                                                                                                  \n",
            " conv5_block2_1_conv (Conv2D)   (None, 2, 2, 512)    1048576     ['conv5_block2_preact_relu[0][0]'\n",
            "                                                                 ]                                \n",
            "                                                                                                  \n",
            " conv5_block2_1_bn (BatchNormal  (None, 2, 2, 512)   2048        ['conv5_block2_1_conv[0][0]']    \n",
            " ization)                                                                                         \n",
            "                                                                                                  \n",
            " conv5_block2_1_relu (Activatio  (None, 2, 2, 512)   0           ['conv5_block2_1_bn[0][0]']      \n",
            " n)                                                                                               \n",
            "                                                                                                  \n",
            " conv5_block2_2_pad (ZeroPaddin  (None, 4, 4, 512)   0           ['conv5_block2_1_relu[0][0]']    \n",
            " g2D)                                                                                             \n",
            "                                                                                                  \n",
            " conv5_block2_2_conv (Conv2D)   (None, 2, 2, 512)    2359296     ['conv5_block2_2_pad[0][0]']     \n",
            "                                                                                                  \n",
            " conv5_block2_2_bn (BatchNormal  (None, 2, 2, 512)   2048        ['conv5_block2_2_conv[0][0]']    \n",
            " ization)                                                                                         \n",
            "                                                                                                  \n",
            " conv5_block2_2_relu (Activatio  (None, 2, 2, 512)   0           ['conv5_block2_2_bn[0][0]']      \n",
            " n)                                                                                               \n",
            "                                                                                                  \n",
            " conv5_block2_3_conv (Conv2D)   (None, 2, 2, 2048)   1050624     ['conv5_block2_2_relu[0][0]']    \n",
            "                                                                                                  \n",
            " conv5_block2_out (Add)         (None, 2, 2, 2048)   0           ['conv5_block1_out[0][0]',       \n",
            "                                                                  'conv5_block2_3_conv[0][0]']    \n",
            "                                                                                                  \n",
            " conv5_block3_preact_bn (BatchN  (None, 2, 2, 2048)  8192        ['conv5_block2_out[0][0]']       \n",
            " ormalization)                                                                                    \n",
            "                                                                                                  \n",
            " conv5_block3_preact_relu (Acti  (None, 2, 2, 2048)  0           ['conv5_block3_preact_bn[0][0]'] \n",
            " vation)                                                                                          \n",
            "                                                                                                  \n",
            " conv5_block3_1_conv (Conv2D)   (None, 2, 2, 512)    1048576     ['conv5_block3_preact_relu[0][0]'\n",
            "                                                                 ]                                \n",
            "                                                                                                  \n",
            " conv5_block3_1_bn (BatchNormal  (None, 2, 2, 512)   2048        ['conv5_block3_1_conv[0][0]']    \n",
            " ization)                                                                                         \n",
            "                                                                                                  \n",
            " conv5_block3_1_relu (Activatio  (None, 2, 2, 512)   0           ['conv5_block3_1_bn[0][0]']      \n",
            " n)                                                                                               \n",
            "                                                                                                  \n",
            " conv5_block3_2_pad (ZeroPaddin  (None, 4, 4, 512)   0           ['conv5_block3_1_relu[0][0]']    \n",
            " g2D)                                                                                             \n",
            "                                                                                                  \n",
            " conv5_block3_2_conv (Conv2D)   (None, 2, 2, 512)    2359296     ['conv5_block3_2_pad[0][0]']     \n",
            "                                                                                                  \n",
            " conv5_block3_2_bn (BatchNormal  (None, 2, 2, 512)   2048        ['conv5_block3_2_conv[0][0]']    \n",
            " ization)                                                                                         \n",
            "                                                                                                  \n",
            " conv5_block3_2_relu (Activatio  (None, 2, 2, 512)   0           ['conv5_block3_2_bn[0][0]']      \n",
            " n)                                                                                               \n",
            "                                                                                                  \n",
            " conv5_block3_3_conv (Conv2D)   (None, 2, 2, 2048)   1050624     ['conv5_block3_2_relu[0][0]']    \n",
            "                                                                                                  \n",
            " conv5_block3_out (Add)         (None, 2, 2, 2048)   0           ['conv5_block2_out[0][0]',       \n",
            "                                                                  'conv5_block3_3_conv[0][0]']    \n",
            "                                                                                                  \n",
            " post_bn (BatchNormalization)   (None, 2, 2, 2048)   8192        ['conv5_block3_out[0][0]']       \n",
            "                                                                                                  \n",
            " post_relu (Activation)         (None, 2, 2, 2048)   0           ['post_bn[0][0]']                \n",
            "                                                                                                  \n",
            "==================================================================================================\n",
            "Total params: 23,564,800\n",
            "Trainable params: 20,559,872\n",
            "Non-trainable params: 3,004,928\n",
            "__________________________________________________________________________________________________\n"
          ]
        }
      ]
    },
    {
      "cell_type": "markdown",
      "metadata": {
        "id": "kHtEYOa64CSf"
      },
      "source": [
        "Model Implementation"
      ]
    },
    {
      "cell_type": "code",
      "metadata": {
        "colab": {
          "base_uri": "https://localhost:8080/"
        },
        "id": "H7YibVgtM9Rj",
        "outputId": "62c0345e-81bd-4e33-d213-de273e02c2bc"
      },
      "source": [
        "#number of classes are 24\n",
        "model = tf.keras.Sequential([\n",
        "    base_model, tf.keras.layers.GlobalAveragePooling2D(), tf.keras.layers.Dense(24, activation='softmax')\n",
        "])\n",
        "lr=0.001\n",
        "\n",
        "model.compile(loss='categorical_crossentropy', optimizer=Adam(lr=lr), metrics=['accuracy'])"
      ],
      "execution_count": null,
      "outputs": [
        {
          "output_type": "stream",
          "name": "stderr",
          "text": [
            "/usr/local/lib/python3.7/dist-packages/keras/optimizer_v2/adam.py:105: UserWarning: The `lr` argument is deprecated, use `learning_rate` instead.\n",
            "  super(Adam, self).__init__(name, **kwargs)\n"
          ]
        }
      ]
    },
    {
      "cell_type": "code",
      "metadata": {
        "colab": {
          "base_uri": "https://localhost:8080/"
        },
        "id": "5XDjIW-j8bXp",
        "outputId": "cf6cb113-a4d9-43bb-9892-b82b73c7e40c"
      },
      "source": [
        "model.summary()"
      ],
      "execution_count": null,
      "outputs": [
        {
          "output_type": "stream",
          "name": "stdout",
          "text": [
            "Model: \"sequential_1\"\n",
            "_________________________________________________________________\n",
            " Layer (type)                Output Shape              Param #   \n",
            "=================================================================\n",
            " resnet50v2 (Functional)     (None, 2, 2, 2048)        23564800  \n",
            "                                                                 \n",
            " global_average_pooling2d_1   (None, 2048)             0         \n",
            " (GlobalAveragePooling2D)                                        \n",
            "                                                                 \n",
            " dense_1 (Dense)             (None, 24)                49176     \n",
            "                                                                 \n",
            "=================================================================\n",
            "Total params: 23,613,976\n",
            "Trainable params: 20,609,048\n",
            "Non-trainable params: 3,004,928\n",
            "_________________________________________________________________\n"
          ]
        }
      ]
    },
    {
      "cell_type": "code",
      "metadata": {
        "id": "dbdKuECR3bdp"
      },
      "source": [
        "patience = 1\n",
        "stop_patience = 5\n",
        "factor = 0.5\n",
        "checkpoint_path = \"/content/drive/MyDrive/ASL_project/checkpoints/Freeze_ZCA_trainingV1_1/cp.ckpt\"\n",
        "checkpoint_dir = os.path.dirname(checkpoint_path)\n",
        "\n",
        "callbacks = [\n",
        "    tf.keras.callbacks.EarlyStopping(patience=stop_patience, monitor='val_loss', verbose=1, restore_best_weights=True),\n",
        "    tf.keras.callbacks.ReduceLROnPlateau(monitor='val_loss', factor=factor, patience=patience, verbose=1),\n",
        "    tf.keras.callbacks.ModelCheckpoint(filepath=checkpoint_path,\n",
        "                                                 save_weights_only=True,\n",
        "                                                 verbose=1)\n",
        "]"
      ],
      "execution_count": null,
      "outputs": []
    },
    {
      "cell_type": "code",
      "metadata": {
        "colab": {
          "base_uri": "https://localhost:8080/"
        },
        "id": "0BjLsQ8m3iMK",
        "outputId": "d3ed3651-9d90-491b-dcd4-e3a1bb910d08"
      },
      "source": [
        "#training cycle 1\n",
        "epochs = 30\n",
        "history = model.fit(train_set, validation_data=valid_set, epochs=epochs, callbacks=callbacks, verbose=1)"
      ],
      "execution_count": null,
      "outputs": [
        {
          "output_type": "stream",
          "name": "stdout",
          "text": [
            "Epoch 1/30\n",
            "60/60 [==============================] - ETA: 0s - loss: 2.4433 - accuracy: 0.2820 \n",
            "Epoch 00001: saving model to /content/drive/MyDrive/ASL_project/checkpoints/Freeze_ZCA_trainingV1_1/cp.ckpt\n",
            "60/60 [==============================] - 762s 13s/step - loss: 2.4433 - accuracy: 0.2820 - val_loss: 11.1226 - val_accuracy: 0.0938 - lr: 0.0010\n",
            "Epoch 2/30\n",
            "60/60 [==============================] - ETA: 0s - loss: 1.1549 - accuracy: 0.6326 \n",
            "Epoch 00002: saving model to /content/drive/MyDrive/ASL_project/checkpoints/Freeze_ZCA_trainingV1_1/cp.ckpt\n",
            "60/60 [==============================] - 791s 13s/step - loss: 1.1549 - accuracy: 0.6326 - val_loss: 7.2022 - val_accuracy: 0.2385 - lr: 0.0010\n",
            "Epoch 3/30\n",
            "60/60 [==============================] - ETA: 0s - loss: 0.5983 - accuracy: 0.8167 \n",
            "Epoch 00003: saving model to /content/drive/MyDrive/ASL_project/checkpoints/Freeze_ZCA_trainingV1_1/cp.ckpt\n",
            "60/60 [==============================] - 805s 13s/step - loss: 0.5983 - accuracy: 0.8167 - val_loss: 2.0817 - val_accuracy: 0.5500 - lr: 0.0010\n",
            "Epoch 4/30\n",
            "60/60 [==============================] - ETA: 0s - loss: 0.2767 - accuracy: 0.9190 \n",
            "Epoch 00004: saving model to /content/drive/MyDrive/ASL_project/checkpoints/Freeze_ZCA_trainingV1_1/cp.ckpt\n",
            "60/60 [==============================] - 829s 14s/step - loss: 0.2767 - accuracy: 0.9190 - val_loss: 1.1034 - val_accuracy: 0.6833 - lr: 0.0010\n",
            "Epoch 5/30\n",
            "60/60 [==============================] - ETA: 0s - loss: 0.1639 - accuracy: 0.9508 \n",
            "Epoch 00005: ReduceLROnPlateau reducing learning rate to 0.0005000000237487257.\n",
            "\n",
            "Epoch 00005: saving model to /content/drive/MyDrive/ASL_project/checkpoints/Freeze_ZCA_trainingV1_1/cp.ckpt\n",
            "60/60 [==============================] - 746s 12s/step - loss: 0.1639 - accuracy: 0.9508 - val_loss: 1.1773 - val_accuracy: 0.7094 - lr: 0.0010\n",
            "Epoch 6/30\n",
            "60/60 [==============================] - ETA: 0s - loss: 0.0622 - accuracy: 0.9839 \n",
            "Epoch 00006: saving model to /content/drive/MyDrive/ASL_project/checkpoints/Freeze_ZCA_trainingV1_1/cp.ckpt\n",
            "60/60 [==============================] - 733s 12s/step - loss: 0.0622 - accuracy: 0.9839 - val_loss: 0.8647 - val_accuracy: 0.7802 - lr: 5.0000e-04\n",
            "Epoch 7/30\n",
            "60/60 [==============================] - ETA: 0s - loss: 0.0186 - accuracy: 0.9964 \n",
            "Epoch 00007: saving model to /content/drive/MyDrive/ASL_project/checkpoints/Freeze_ZCA_trainingV1_1/cp.ckpt\n",
            "60/60 [==============================] - 742s 12s/step - loss: 0.0186 - accuracy: 0.9964 - val_loss: 0.8616 - val_accuracy: 0.7823 - lr: 5.0000e-04\n",
            "Epoch 8/30\n",
            "60/60 [==============================] - ETA: 0s - loss: 0.0116 - accuracy: 0.9971 \n",
            "Epoch 00008: saving model to /content/drive/MyDrive/ASL_project/checkpoints/Freeze_ZCA_trainingV1_1/cp.ckpt\n",
            "60/60 [==============================] - 731s 12s/step - loss: 0.0116 - accuracy: 0.9971 - val_loss: 0.8445 - val_accuracy: 0.7937 - lr: 5.0000e-04\n",
            "Epoch 9/30\n",
            "60/60 [==============================] - ETA: 0s - loss: 0.0098 - accuracy: 0.9979 \n",
            "Epoch 00009: ReduceLROnPlateau reducing learning rate to 0.0002500000118743628.\n",
            "\n",
            "Epoch 00009: saving model to /content/drive/MyDrive/ASL_project/checkpoints/Freeze_ZCA_trainingV1_1/cp.ckpt\n",
            "60/60 [==============================] - 748s 12s/step - loss: 0.0098 - accuracy: 0.9979 - val_loss: 0.8613 - val_accuracy: 0.7885 - lr: 5.0000e-04\n",
            "Epoch 10/30\n",
            "60/60 [==============================] - ETA: 0s - loss: 0.0081 - accuracy: 0.9979 \n",
            "Epoch 00010: ReduceLROnPlateau reducing learning rate to 0.0001250000059371814.\n",
            "\n",
            "Epoch 00010: saving model to /content/drive/MyDrive/ASL_project/checkpoints/Freeze_ZCA_trainingV1_1/cp.ckpt\n",
            "60/60 [==============================] - 752s 12s/step - loss: 0.0081 - accuracy: 0.9979 - val_loss: 0.8747 - val_accuracy: 0.7927 - lr: 2.5000e-04\n",
            "Epoch 11/30\n",
            "60/60 [==============================] - ETA: 0s - loss: 0.0076 - accuracy: 0.9979 \n",
            "Epoch 00011: ReduceLROnPlateau reducing learning rate to 6.25000029685907e-05.\n",
            "\n",
            "Epoch 00011: saving model to /content/drive/MyDrive/ASL_project/checkpoints/Freeze_ZCA_trainingV1_1/cp.ckpt\n",
            "60/60 [==============================] - 754s 12s/step - loss: 0.0076 - accuracy: 0.9979 - val_loss: 0.8814 - val_accuracy: 0.7958 - lr: 1.2500e-04\n",
            "Epoch 12/30\n",
            "60/60 [==============================] - ETA: 0s - loss: 0.0074 - accuracy: 0.9979 \n",
            "Epoch 00012: ReduceLROnPlateau reducing learning rate to 3.125000148429535e-05.\n",
            "\n",
            "Epoch 00012: saving model to /content/drive/MyDrive/ASL_project/checkpoints/Freeze_ZCA_trainingV1_1/cp.ckpt\n",
            "60/60 [==============================] - 762s 13s/step - loss: 0.0074 - accuracy: 0.9979 - val_loss: 0.8876 - val_accuracy: 0.7958 - lr: 6.2500e-05\n",
            "Epoch 13/30\n",
            "60/60 [==============================] - ETA: 0s - loss: 0.0073 - accuracy: 0.9979 Restoring model weights from the end of the best epoch: 8.\n",
            "\n",
            "Epoch 00013: ReduceLROnPlateau reducing learning rate to 1.5625000742147677e-05.\n",
            "\n",
            "Epoch 00013: saving model to /content/drive/MyDrive/ASL_project/checkpoints/Freeze_ZCA_trainingV1_1/cp.ckpt\n",
            "60/60 [==============================] - 766s 13s/step - loss: 0.0073 - accuracy: 0.9979 - val_loss: 0.8920 - val_accuracy: 0.7958 - lr: 3.1250e-05\n",
            "Epoch 00013: early stopping\n"
          ]
        }
      ]
    },
    {
      "cell_type": "code",
      "metadata": {
        "colab": {
          "base_uri": "https://localhost:8080/",
          "height": 295
        },
        "id": "catwGuZ6bk9B",
        "outputId": "661c303c-4f14-45e7-d8d7-41d3414d0bd1"
      },
      "source": [
        "import matplotlib.pyplot as plt\n",
        "plt.plot(history.history['accuracy'])\n",
        "plt.plot(history.history['val_accuracy'])\n",
        "plt.title('model accuracy')\n",
        "plt.ylabel('accuracy')\n",
        "plt.xlabel('epoch')\n",
        "plt.legend(['train', 'Validation'], loc='upper left')\n",
        "plt.show()"
      ],
      "execution_count": null,
      "outputs": [
        {
          "output_type": "display_data",
          "data": {
            "image/png": "[encoded data removed]",
            "text/plain": [
              "<Figure size 432x288 with 1 Axes>"
            ]
          },
          "metadata": {
            "needs_background": "light"
          }
        }
      ]
    },
    {
      "cell_type": "code",
      "metadata": {
        "id": "AO3RdkXkD6AJ",
        "colab": {
          "base_uri": "https://localhost:8080/",
          "height": 295
        },
        "outputId": "60b55acb-f56a-4f50-8bb3-2bdef0cc4376"
      },
      "source": [
        "# summarize history for loss\n",
        "\n",
        "plt.plot(history.history['loss'])\n",
        "plt.plot(history.history['val_loss'])\n",
        "plt.title('model loss')\n",
        "plt.ylabel('loss')\n",
        "plt.xlabel('epoch')\n",
        "plt.legend(['train', 'validation'], loc='upper left')\n",
        "plt.show()"
      ],
      "execution_count": null,
      "outputs": [
        {
          "output_type": "display_data",
          "data": {
            "image/png": "[encoded data removed]",
            "text/plain": [
              "<Figure size 432x288 with 1 Axes>"
            ]
          },
          "metadata": {
            "needs_background": "light"
          }
        }
      ]
    },
    {
      "cell_type": "code",
      "metadata": {
        "colab": {
          "base_uri": "https://localhost:8080/"
        },
        "id": "RSHPytOFdZVM",
        "outputId": "160070c0-e035-4692-9ba4-7ab0b68843bf"
      },
      "source": [
        "#Restoring the weights of the best model\n",
        "model.load_weights('/content/drive/MyDrive/ASL_project/checkpoints/Freeze_ZCA_trainingV1_1/cp.ckpt')"
      ],
      "execution_count": null,
      "outputs": [
        {
          "output_type": "execute_result",
          "data": {
            "text/plain": [
              "<tensorflow.python.training.tracking.util.CheckpointLoadStatus at 0x7fcc80828f10>"
            ]
          },
          "metadata": {},
          "execution_count": 38
        }
      ]
    },
    {
      "cell_type": "code",
      "metadata": {
        "colab": {
          "base_uri": "https://localhost:8080/"
        },
        "id": "J77D3YFVUbzY",
        "outputId": "a2d6289a-7eb6-4164-c650-38aa8872b9d1"
      },
      "source": [
        "# Save the entire model as a SavedModel.\n",
        "model.save('/content/drive/MyDrive/ASL_project/saved_model/Freeze_ZCA_trainingV1_1')"
      ],
      "execution_count": null,
      "outputs": [
        {
          "output_type": "stream",
          "name": "stdout",
          "text": [
            "INFO:tensorflow:Assets written to: /content/drive/MyDrive/ASL_project/saved_model/Freeze_ZCA_trainingV1_1/assets\n"
          ]
        },
        {
          "output_type": "stream",
          "name": "stderr",
          "text": [
            "/usr/local/lib/python3.7/dist-packages/keras/engine/functional.py:1410: CustomMaskWarning: Custom mask layers require a config and must override get_config. When loading, the custom mask layer must be passed to the custom_objects argument.\n",
            "  layer_config = serialize_layer_fn(layer)\n",
            "/usr/local/lib/python3.7/dist-packages/keras/saving/saved_model/layer_serialization.py:112: CustomMaskWarning: Custom mask layers require a config and must override get_config. When loading, the custom mask layer must be passed to the custom_objects argument.\n",
            "  return generic_utils.serialize_keras_object(obj)\n"
          ]
        }
      ]
    },
    {
      "cell_type": "code",
      "metadata": {
        "colab": {
          "base_uri": "https://localhost:8080/"
        },
        "id": "FT1XRs-EVkFA",
        "outputId": "b54586f3-ee2c-4d62-ecf8-c4614d04e790"
      },
      "source": [
        "#Loading the model\n",
        "model = tf.keras.models.load_model('/content/drive/MyDrive/ASL_project/saved_model/zca_trainingV3_1')\n",
        "\n",
        "# Check its architecture\n",
        "model.summary()"
      ],
      "execution_count": null,
      "outputs": [
        {
          "output_type": "stream",
          "name": "stdout",
          "text": [
            "Model: \"sequential\"\n",
            "_________________________________________________________________\n",
            " Layer (type)                Output Shape              Param #   \n",
            "=================================================================\n",
            " resnet50v2 (Functional)     (None, 2, 2, 2048)        23564800  \n",
            "                                                                 \n",
            " global_average_pooling2d (G  (None, 2048)             0         \n",
            " lobalAveragePooling2D)                                          \n",
            "                                                                 \n",
            " dense (Dense)               (None, 24)                49176     \n",
            "                                                                 \n",
            "=================================================================\n",
            "Total params: 23,613,976\n",
            "Trainable params: 23,568,536\n",
            "Non-trainable params: 45,440\n",
            "_________________________________________________________________\n"
          ]
        }
      ]
    },
    {
      "cell_type": "code",
      "metadata": {
        "colab": {
          "base_uri": "https://localhost:8080/"
        },
        "id": "VM7iru_ogzIx",
        "outputId": "bd6ac609-a15c-472e-8a4b-8f116d4e3ea1"
      },
      "source": [
        "test_images = test_datagen.flow_from_directory(test_dir, class_mode='categorical', batch_size=1, target_size=target_size)"
      ],
      "execution_count": null,
      "outputs": [
        {
          "output_type": "stream",
          "name": "stdout",
          "text": [
            "Found 240 images belonging to 24 classes.\n"
          ]
        }
      ]
    },
    {
      "cell_type": "code",
      "metadata": {
        "colab": {
          "base_uri": "https://localhost:8080/"
        },
        "id": "m_NfMXsJlULE",
        "outputId": "4bbb2c6c-fd02-41e5-b1da-db60e4e1fe95"
      },
      "source": [
        "test_loss, test_acc = model.evaluate(test_images, verbose=2)\n",
        "\n",
        "print('\\nTest accuracy:', test_acc)"
      ],
      "execution_count": null,
      "outputs": [
        {
          "output_type": "stream",
          "name": "stdout",
          "text": [
            "240/240 - 20s - loss: 2.7127 - accuracy: 0.4042 - 20s/epoch - 84ms/step\n",
            "\n",
            "Test accuracy: 0.40416666865348816\n"
          ]
        }
      ]
    },
    {
      "cell_type": "code",
      "metadata": {
        "id": "xGNavf_cV0Ys"
      },
      "source": [
        "#Second Round of training with new images\n",
        "train_dir = '/content/drive/MyDrive/ASL_project/training_shuffle_200_400'\n",
        "test_dir = '/content/drive/MyDrive/ASL_project/test_random'"
      ],
      "execution_count": null,
      "outputs": []
    },
    {
      "cell_type": "code",
      "metadata": {
        "colab": {
          "base_uri": "https://localhost:8080/"
        },
        "id": "R-Lb0a9HV1jo",
        "outputId": "9c51a3d9-8b97-4590-dae5-d0e0354da473"
      },
      "source": [
        "\n",
        "train_set = train_datagen.flow_from_directory(train_dir, subset='training', class_mode='categorical', batch_size=batch_size, shuffle=True, target_size=target_size)\n",
        "valid_set = train_datagen.flow_from_directory(train_dir, subset='validation', class_mode='categorical', batch_size=batch_size, shuffle=True, target_size=target_size)"
      ],
      "execution_count": null,
      "outputs": [
        {
          "output_type": "stream",
          "name": "stdout",
          "text": [
            "Found 3840 images belonging to 24 classes.\n",
            "Found 960 images belonging to 24 classes.\n"
          ]
        }
      ]
    },
    {
      "cell_type": "code",
      "metadata": {
        "id": "0HuLBDe9WIsH"
      },
      "source": [
        "patience = 1\n",
        "stop_patience = 5\n",
        "factor = 0.5\n",
        "checkpoint_path = \"/content/drive/MyDrive/ASL_project/checkpoints/freeze_ZCA_trainingV1_2/cp.ckpt\"\n",
        "checkpoint_dir = os.path.dirname(checkpoint_path)\n",
        "\n",
        "callbacks = [\n",
        "    tf.keras.callbacks.EarlyStopping(patience=stop_patience, monitor='val_loss', verbose=1, restore_best_weights=True),\n",
        "    tf.keras.callbacks.ReduceLROnPlateau(monitor='val_loss', factor=factor, patience=patience, verbose=1),\n",
        "    tf.keras.callbacks.ModelCheckpoint(filepath=checkpoint_path,\n",
        "                                                 save_weights_only=True,\n",
        "                                                 verbose=1)\n",
        "]"
      ],
      "execution_count": null,
      "outputs": []
    },
    {
      "cell_type": "code",
      "metadata": {
        "colab": {
          "base_uri": "https://localhost:8080/"
        },
        "id": "UJTkykSoWTVy",
        "outputId": "69946807-1f6e-49e7-8a87-9ee7b1878a8d"
      },
      "source": [
        "#training\n",
        "epochs = 30\n",
        "history = model.fit(train_set, validation_data=valid_set, epochs=epochs, callbacks=callbacks, verbose=1)"
      ],
      "execution_count": null,
      "outputs": [
        {
          "output_type": "stream",
          "name": "stdout",
          "text": [
            "Epoch 1/30\n",
            "60/60 [==============================] - ETA: 0s - loss: 0.8369 - accuracy: 0.7872 \n",
            "Epoch 00001: saving model to /content/drive/MyDrive/ASL_project/checkpoints/freeze_ZCA_trainingV1_2/cp.ckpt\n",
            "60/60 [==============================] - 1346s 22s/step - loss: 0.8369 - accuracy: 0.7872 - val_loss: 0.8060 - val_accuracy: 0.7917 - lr: 1.5625e-05\n",
            "Epoch 2/30\n",
            "60/60 [==============================] - ETA: 0s - loss: 0.5416 - accuracy: 0.8414 \n",
            "Epoch 00002: saving model to /content/drive/MyDrive/ASL_project/checkpoints/freeze_ZCA_trainingV1_2/cp.ckpt\n",
            "60/60 [==============================] - 881s 15s/step - loss: 0.5416 - accuracy: 0.8414 - val_loss: 0.7680 - val_accuracy: 0.7937 - lr: 1.5625e-05\n",
            "Epoch 3/30\n",
            "60/60 [==============================] - ETA: 0s - loss: 0.4144 - accuracy: 0.8836 \n",
            "Epoch 00003: saving model to /content/drive/MyDrive/ASL_project/checkpoints/freeze_ZCA_trainingV1_2/cp.ckpt\n",
            "60/60 [==============================] - 938s 16s/step - loss: 0.4144 - accuracy: 0.8836 - val_loss: 0.7452 - val_accuracy: 0.8031 - lr: 1.5625e-05\n",
            "Epoch 4/30\n",
            "60/60 [==============================] - ETA: 0s - loss: 0.3254 - accuracy: 0.9029 \n",
            "Epoch 00004: saving model to /content/drive/MyDrive/ASL_project/checkpoints/freeze_ZCA_trainingV1_2/cp.ckpt\n",
            "60/60 [==============================] - 894s 15s/step - loss: 0.3254 - accuracy: 0.9029 - val_loss: 0.7275 - val_accuracy: 0.8052 - lr: 1.5625e-05\n",
            "Epoch 5/30\n",
            "60/60 [==============================] - ETA: 0s - loss: 0.2608 - accuracy: 0.9260 \n",
            "Epoch 00005: saving model to /content/drive/MyDrive/ASL_project/checkpoints/freeze_ZCA_trainingV1_2/cp.ckpt\n",
            "60/60 [==============================] - 827s 14s/step - loss: 0.2608 - accuracy: 0.9260 - val_loss: 0.7146 - val_accuracy: 0.8125 - lr: 1.5625e-05\n",
            "Epoch 6/30\n",
            "60/60 [==============================] - ETA: 0s - loss: 0.2200 - accuracy: 0.9385 \n",
            "Epoch 00006: saving model to /content/drive/MyDrive/ASL_project/checkpoints/freeze_ZCA_trainingV1_2/cp.ckpt\n",
            "60/60 [==============================] - 741s 12s/step - loss: 0.2200 - accuracy: 0.9385 - val_loss: 0.7124 - val_accuracy: 0.8115 - lr: 1.5625e-05\n",
            "Epoch 7/30\n",
            "60/60 [==============================] - ETA: 0s - loss: 0.1854 - accuracy: 0.9523 \n",
            "Epoch 00007: saving model to /content/drive/MyDrive/ASL_project/checkpoints/freeze_ZCA_trainingV1_2/cp.ckpt\n",
            "60/60 [==============================] - 751s 12s/step - loss: 0.1854 - accuracy: 0.9523 - val_loss: 0.7050 - val_accuracy: 0.8177 - lr: 1.5625e-05\n",
            "Epoch 8/30\n",
            "60/60 [==============================] - ETA: 0s - loss: 0.1562 - accuracy: 0.9620 \n",
            "Epoch 00008: saving model to /content/drive/MyDrive/ASL_project/checkpoints/freeze_ZCA_trainingV1_2/cp.ckpt\n",
            "60/60 [==============================] - 746s 12s/step - loss: 0.1562 - accuracy: 0.9620 - val_loss: 0.7032 - val_accuracy: 0.8208 - lr: 1.5625e-05\n",
            "Epoch 9/30\n",
            "60/60 [==============================] - ETA: 0s - loss: 0.1311 - accuracy: 0.9721 \n",
            "Epoch 00009: ReduceLROnPlateau reducing learning rate to 7.812500371073838e-06.\n",
            "\n",
            "Epoch 00009: saving model to /content/drive/MyDrive/ASL_project/checkpoints/freeze_ZCA_trainingV1_2/cp.ckpt\n",
            "60/60 [==============================] - 810s 13s/step - loss: 0.1311 - accuracy: 0.9721 - val_loss: 0.7070 - val_accuracy: 0.8229 - lr: 1.5625e-05\n",
            "Epoch 10/30\n",
            "60/60 [==============================] - ETA: 0s - loss: 0.1101 - accuracy: 0.9781 \n",
            "Epoch 00010: ReduceLROnPlateau reducing learning rate to 3.906250185536919e-06.\n",
            "\n",
            "Epoch 00010: saving model to /content/drive/MyDrive/ASL_project/checkpoints/freeze_ZCA_trainingV1_2/cp.ckpt\n",
            "60/60 [==============================] - 889s 15s/step - loss: 0.1101 - accuracy: 0.9781 - val_loss: 0.7083 - val_accuracy: 0.8229 - lr: 7.8125e-06\n",
            "Epoch 11/30\n",
            "60/60 [==============================] - ETA: 0s - loss: 0.0994 - accuracy: 0.9820 \n",
            "Epoch 00011: ReduceLROnPlateau reducing learning rate to 1.9531250927684596e-06.\n",
            "\n",
            "Epoch 00011: saving model to /content/drive/MyDrive/ASL_project/checkpoints/freeze_ZCA_trainingV1_2/cp.ckpt\n",
            "60/60 [==============================] - 871s 14s/step - loss: 0.0994 - accuracy: 0.9820 - val_loss: 0.7105 - val_accuracy: 0.8229 - lr: 3.9063e-06\n",
            "Epoch 12/30\n",
            "60/60 [==============================] - ETA: 0s - loss: 0.0977 - accuracy: 0.9823 \n",
            "Epoch 00012: ReduceLROnPlateau reducing learning rate to 9.765625463842298e-07.\n",
            "\n",
            "Epoch 00012: saving model to /content/drive/MyDrive/ASL_project/checkpoints/freeze_ZCA_trainingV1_2/cp.ckpt\n",
            "60/60 [==============================] - 907s 15s/step - loss: 0.0977 - accuracy: 0.9823 - val_loss: 0.7122 - val_accuracy: 0.8229 - lr: 1.9531e-06\n",
            "Epoch 13/30\n",
            "60/60 [==============================] - ETA: 0s - loss: 0.0961 - accuracy: 0.9807 Restoring model weights from the end of the best epoch: 8.\n",
            "\n",
            "Epoch 00013: ReduceLROnPlateau reducing learning rate to 4.882812731921149e-07.\n",
            "\n",
            "Epoch 00013: saving model to /content/drive/MyDrive/ASL_project/checkpoints/freeze_ZCA_trainingV1_2/cp.ckpt\n",
            "60/60 [==============================] - 870s 14s/step - loss: 0.0961 - accuracy: 0.9807 - val_loss: 0.7141 - val_accuracy: 0.8240 - lr: 9.7656e-07\n",
            "Epoch 00013: early stopping\n"
          ]
        }
      ]
    },
    {
      "cell_type": "code",
      "metadata": {
        "colab": {
          "base_uri": "https://localhost:8080/",
          "height": 295
        },
        "id": "pv_Rxy878wnY",
        "outputId": "625d2b17-2d7d-4911-b72c-5b371a4e424a"
      },
      "source": [
        "import matplotlib.pyplot as plt\n",
        "plt.plot(history.history['accuracy'])\n",
        "plt.plot(history.history['val_accuracy'])\n",
        "plt.title('model accuracy')\n",
        "plt.ylabel('accuracy')\n",
        "plt.xlabel('epoch')\n",
        "plt.legend(['train', 'Validation'], loc='upper left')\n",
        "plt.show()"
      ],
      "execution_count": null,
      "outputs": [
        {
          "output_type": "display_data",
          "data": {
            "image/png": "[encoded data removed]",
            "text/plain": [
              "<Figure size 432x288 with 1 Axes>"
            ]
          },
          "metadata": {
            "needs_background": "light"
          }
        }
      ]
    },
    {
      "cell_type": "code",
      "metadata": {
        "colab": {
          "base_uri": "https://localhost:8080/",
          "height": 295
        },
        "id": "U3DGhNRzoKoI",
        "outputId": "95e7eb3a-22f6-4de7-b88a-f1b5adc864dc"
      },
      "source": [
        "# summarize history for loss\n",
        "\n",
        "plt.plot(history.history['loss'])\n",
        "plt.plot(history.history['val_loss'])\n",
        "plt.title('model loss')\n",
        "plt.ylabel('loss')\n",
        "plt.xlabel('epoch')\n",
        "plt.legend(['train', 'validation'], loc='upper left')\n",
        "plt.show()"
      ],
      "execution_count": null,
      "outputs": [
        {
          "output_type": "display_data",
          "data": {
            "image/png": "[encoded data removed]",
            "text/plain": [
              "<Figure size 432x288 with 1 Axes>"
            ]
          },
          "metadata": {
            "needs_background": "light"
          }
        }
      ]
    },
    {
      "cell_type": "code",
      "metadata": {
        "colab": {
          "base_uri": "https://localhost:8080/"
        },
        "id": "EzXnxVj-oFvC",
        "outputId": "2fcd20a4-8248-45e4-bb9f-574ed888db33"
      },
      "source": [
        "#testing the best model on training set\n",
        "test_images = test_datagen.flow_from_directory(test_dir, class_mode='categorical', batch_size=1, target_size=target_size)"
      ],
      "execution_count": null,
      "outputs": [
        {
          "output_type": "stream",
          "name": "stdout",
          "text": [
            "Found 240 images belonging to 24 classes.\n"
          ]
        }
      ]
    },
    {
      "cell_type": "code",
      "metadata": {
        "colab": {
          "base_uri": "https://localhost:8080/"
        },
        "id": "sAvliie1LK-P",
        "outputId": "73de5c1c-22c8-492e-a572-4944fd06bba1"
      },
      "source": [
        "test_loss, test_acc = model.evaluate(test_images, verbose=2)\n",
        "\n",
        "print('\\nTest accuracy:', test_acc)"
      ],
      "execution_count": null,
      "outputs": [
        {
          "output_type": "stream",
          "name": "stdout",
          "text": [
            "240/240 - 23s - loss: 2.3237 - accuracy: 0.4500 - 23s/epoch - 97ms/step\n",
            "\n",
            "Test accuracy: 0.44999998807907104\n"
          ]
        }
      ]
    },
    {
      "cell_type": "code",
      "metadata": {
        "colab": {
          "base_uri": "https://localhost:8080/"
        },
        "id": "tLzXZafC6X7Q",
        "outputId": "29c47c35-a4db-4632-97fe-04d21985f3f3"
      },
      "source": [
        "#Restoring the weights of the best model\n",
        "model.load_weights('/content/drive/MyDrive/ASL_project/checkpoints/ZCA_trainingV3_2/cp.ckpt')\n",
        "# Save the entire model as a SavedModel.\n",
        "model.save('/content/drive/MyDrive/ASL_project/saved_model/ZCA_trainingV3_2')\n",
        "#Lodaing the model\n",
        "model = tf.keras.models.load_model('/content/drive/MyDrive/ASL_project/saved_model/ZCA_trainingV3_2')\n",
        "\n",
        "# Check its architecture\n",
        "model.summary()"
      ],
      "execution_count": null,
      "outputs": [
        {
          "output_type": "stream",
          "name": "stdout",
          "text": [
            "INFO:tensorflow:Assets written to: /content/drive/MyDrive/ASL_project/saved_model/ZCA_trainingV3_2/assets\n"
          ]
        },
        {
          "output_type": "stream",
          "name": "stderr",
          "text": [
            "/usr/local/lib/python3.7/dist-packages/keras/engine/functional.py:1410: CustomMaskWarning: Custom mask layers require a config and must override get_config. When loading, the custom mask layer must be passed to the custom_objects argument.\n",
            "  layer_config = serialize_layer_fn(layer)\n",
            "/usr/local/lib/python3.7/dist-packages/keras/saving/saved_model/layer_serialization.py:112: CustomMaskWarning: Custom mask layers require a config and must override get_config. When loading, the custom mask layer must be passed to the custom_objects argument.\n",
            "  return generic_utils.serialize_keras_object(obj)\n"
          ]
        },
        {
          "output_type": "stream",
          "name": "stdout",
          "text": [
            "Model: \"sequential\"\n",
            "_________________________________________________________________\n",
            " Layer (type)                Output Shape              Param #   \n",
            "=================================================================\n",
            " resnet50v2 (Functional)     (None, 2, 2, 2048)        23564800  \n",
            "                                                                 \n",
            " global_average_pooling2d (G  (None, 2048)             0         \n",
            " lobalAveragePooling2D)                                          \n",
            "                                                                 \n",
            " dense (Dense)               (None, 24)                49176     \n",
            "                                                                 \n",
            "=================================================================\n",
            "Total params: 23,613,976\n",
            "Trainable params: 23,568,536\n",
            "Non-trainable params: 45,440\n",
            "_________________________________________________________________\n"
          ]
        }
      ]
    },
    {
      "cell_type": "code",
      "metadata": {
        "id": "2Num9SeE7O1T"
      },
      "source": [
        "#Function for capturing live image and making prediction\n",
        "from IPython.display import display, Javascript\n",
        "from google.colab.output import eval_js\n",
        "from base64 import b64decode\n",
        "\n",
        "def take_photo(filename='live/photo.png', quality=0.8):\n",
        "  js = Javascript('''\n",
        "    async function takePhoto(quality) {\n",
        "      const div = document.createElement('div');\n",
        "      const capture = document.createElement('button');\n",
        "      capture.textContent = 'Capture';\n",
        "      div.appendChild(capture);\n",
        "\n",
        "      const video = document.createElement('video');\n",
        "      video.style.display = 'block';\n",
        "      const stream = await navigator.mediaDevices.getUserMedia({video: true});\n",
        "\n",
        "      document.body.appendChild(div);\n",
        "      div.appendChild(video);\n",
        "      video.srcObject = stream;\n",
        "      await video.play();\n",
        "\n",
        "      // Resize the output to fit the video element.\n",
        "      google.colab.output.setIframeHeight(document.documentElement.scrollHeight, true);\n",
        "\n",
        "      // Wait for Capture to be clicked.\n",
        "      await new Promise((resolve) => capture.onclick = resolve);\n",
        "\n",
        "      const canvas = document.createElement('canvas');\n",
        "      canvas.width = video.videoWidth;\n",
        "      canvas.height = video.videoHeight;\n",
        "      canvas.getContext('2d').drawImage(video, 0, 0);\n",
        "      stream.getVideoTracks()[0].stop();\n",
        "      div.remove();\n",
        "      return canvas.toDataURL('image/jpeg', quality);\n",
        "    }\n",
        "    ''')\n",
        "  display(js)\n",
        "  data = eval_js('takePhoto({})'.format(quality))\n",
        "  binary = b64decode(data.split(',')[1])\n",
        "  with open(filename, 'wb') as f:\n",
        "    f.write(binary)\n",
        "  return filename"
      ],
      "execution_count": null,
      "outputs": []
    },
    {
      "cell_type": "code",
      "metadata": {
        "id": "ZcpGugyt7SOz"
      },
      "source": [
        "#Saving the live image\n",
        "from IPython.display import Image\n",
        "try:\n",
        "  !mkdir -p live\n",
        "  filename = take_photo()\n",
        "  print('Saved to {}'.format(filename))\n",
        "  \n",
        "  # Show the image which was just taken.\n",
        "  display(Image(filename))\n",
        "except Exception as err:\n",
        "  # Errors will be thrown if the user does not have a webcam or if they do not\n",
        "  # grant the page permission to access it.\n",
        "  print(str(err))"
      ],
      "execution_count": null,
      "outputs": []
    },
    {
      "cell_type": "code",
      "metadata": {
        "id": "pE-tDA-u7S7W"
      },
      "source": [
        "#preprocessing the live image and reshaping\n",
        "from keras.preprocessing.image import load_img, img_to_array, ImageDataGenerator\n",
        "from keras.preprocessing import image\n",
        "\n",
        "test_image = image.load_img('live/photo.png', target_size=(64, 64))\n",
        "test_image = image.img_to_array(test_image)\n",
        "#test_image.reshape(1,64,64,3)\n",
        "test_image=np.expand_dims(test_image,0)"
      ],
      "execution_count": null,
      "outputs": []
    },
    {
      "cell_type": "code",
      "metadata": {
        "id": "JJXX5CQK7WIc"
      },
      "source": [
        "test_image.shape"
      ],
      "execution_count": null,
      "outputs": []
    },
    {
      "cell_type": "code",
      "metadata": {
        "id": "4oqLJ4_i7YN4"
      },
      "source": [
        "import matplotlib.pyplot as plt\n",
        "import matplotlib.image as mpimg\n",
        "img = mpimg.imread('live/photo.png',0)\n",
        "imgplot = plt.imshow(img)\n",
        "plt.show()"
      ],
      "execution_count": null,
      "outputs": []
    },
    {
      "cell_type": "code",
      "metadata": {
        "id": "aw5lNnso7aQ7"
      },
      "source": [
        "#Applying the required remaining preprocessing operations\n",
        "test_datagen = ImageDataGenerator(preprocessing_function=tf.keras.applications.resnet_v2.preprocess_input,featurewise_center=True, featurewise_std_normalization=False)"
      ],
      "execution_count": null,
      "outputs": []
    },
    {
      "cell_type": "code",
      "metadata": {
        "id": "Osk0S93i7dsS"
      },
      "source": [
        "live_images = test_datagen.flow(test_image, batch_size=1)"
      ],
      "execution_count": null,
      "outputs": []
    },
    {
      "cell_type": "code",
      "metadata": {
        "id": "h7bbFvtN7gAa"
      },
      "source": [
        "#making prediction\n",
        "prediction = model.predict(live_images)"
      ],
      "execution_count": null,
      "outputs": []
    },
    {
      "cell_type": "code",
      "metadata": {
        "id": "Nkq-0HsO7kuX"
      },
      "source": [
        "#creating index to alphabet directory\n",
        "print(test_images.class_indices)\n",
        "ind_to_letter = dict((v,k) for k,v in test_images.class_indices.items())\n",
        "print(ind_to_letter)\n",
        "np.argmax(prediction[0])"
      ],
      "execution_count": null,
      "outputs": []
    },
    {
      "cell_type": "code",
      "metadata": {
        "id": "GHSSIawU7lWK"
      },
      "source": [
        "#Checking the prediction and printing results\n",
        "for img in live_images:\n",
        "    plt.imshow(img[0])\n",
        "    plt.show()\n",
        "    predicted_index=np.argmax(prediction[0])\n",
        "    print(\"Prediction:\",ind_to_letter[predicted_index])\n",
        "    break"
      ],
      "execution_count": null,
      "outputs": []
    }
  ]
}